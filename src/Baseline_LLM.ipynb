{
 "cells": [
  {
   "cell_type": "markdown",
   "metadata": {
    "id": "Ys5uro0ciCPE"
   },
   "source": [
    "# Baseline LLM"
   ]
  },
  {
   "cell_type": "markdown",
   "metadata": {
    "id": "E_JHFr5jiFRd"
   },
   "source": [
    "## Imports"
   ]
  },
  {
   "cell_type": "code",
   "execution_count": 1,
   "metadata": {
    "colab": {
     "base_uri": "https://localhost:8080/"
    },
    "id": "gBfYDwP8Yydr",
    "outputId": "233812a6-75fd-4f1c-e9bc-f6f597a54d3f"
   },
   "outputs": [
    {
     "name": "stdout",
     "output_type": "stream",
     "text": [
      "Collecting langchain\n",
      "  Downloading langchain-0.1.16-py3-none-any.whl (817 kB)\n",
      "\u001b[2K     \u001b[90m━━━━━━━━━━━━━━━━━━━━━━━━━━━━━━━━━━━━━━━━\u001b[0m \u001b[32m817.7/817.7 kB\u001b[0m \u001b[31m8.3 MB/s\u001b[0m eta \u001b[36m0:00:00\u001b[0m\n",
      "\u001b[?25hCollecting openai\n",
      "  Downloading openai-1.23.2-py3-none-any.whl (311 kB)\n",
      "\u001b[2K     \u001b[90m━━━━━━━━━━━━━━━━━━━━━━━━━━━━━━━━━━━━━━━━\u001b[0m \u001b[32m311.2/311.2 kB\u001b[0m \u001b[31m17.9 MB/s\u001b[0m eta \u001b[36m0:00:00\u001b[0m\n",
      "\u001b[?25hCollecting langchain_community\n",
      "  Downloading langchain_community-0.0.34-py3-none-any.whl (1.9 MB)\n",
      "\u001b[2K     \u001b[90m━━━━━━━━━━━━━━━━━━━━━━━━━━━━━━━━━━━━━━━━\u001b[0m \u001b[32m1.9/1.9 MB\u001b[0m \u001b[31m52.1 MB/s\u001b[0m eta \u001b[36m0:00:00\u001b[0m\n",
      "\u001b[?25hCollecting langchain_openai\n",
      "  Downloading langchain_openai-0.1.3-py3-none-any.whl (33 kB)\n",
      "Requirement already satisfied: huggingface_hub in /usr/local/lib/python3.10/dist-packages (0.20.3)\n",
      "Requirement already satisfied: PyYAML>=5.3 in /usr/local/lib/python3.10/dist-packages (from langchain) (6.0.1)\n",
      "Requirement already satisfied: SQLAlchemy<3,>=1.4 in /usr/local/lib/python3.10/dist-packages (from langchain) (2.0.29)\n",
      "Requirement already satisfied: aiohttp<4.0.0,>=3.8.3 in /usr/local/lib/python3.10/dist-packages (from langchain) (3.9.5)\n",
      "Requirement already satisfied: async-timeout<5.0.0,>=4.0.0 in /usr/local/lib/python3.10/dist-packages (from langchain) (4.0.3)\n",
      "Collecting dataclasses-json<0.7,>=0.5.7 (from langchain)\n",
      "  Downloading dataclasses_json-0.6.4-py3-none-any.whl (28 kB)\n",
      "Collecting jsonpatch<2.0,>=1.33 (from langchain)\n",
      "  Downloading jsonpatch-1.33-py2.py3-none-any.whl (12 kB)\n",
      "Collecting langchain-core<0.2.0,>=0.1.42 (from langchain)\n",
      "  Downloading langchain_core-0.1.45-py3-none-any.whl (291 kB)\n",
      "\u001b[2K     \u001b[90m━━━━━━━━━━━━━━━━━━━━━━━━━━━━━━━━━━━━━━━━\u001b[0m \u001b[32m291.3/291.3 kB\u001b[0m \u001b[31m11.2 MB/s\u001b[0m eta \u001b[36m0:00:00\u001b[0m\n",
      "\u001b[?25hCollecting langchain-text-splitters<0.1,>=0.0.1 (from langchain)\n",
      "  Downloading langchain_text_splitters-0.0.1-py3-none-any.whl (21 kB)\n",
      "Collecting langsmith<0.2.0,>=0.1.17 (from langchain)\n",
      "  Downloading langsmith-0.1.49-py3-none-any.whl (115 kB)\n",
      "\u001b[2K     \u001b[90m━━━━━━━━━━━━━━━━━━━━━━━━━━━━━━━━━━━━━━━━\u001b[0m \u001b[32m115.2/115.2 kB\u001b[0m \u001b[31m5.5 MB/s\u001b[0m eta \u001b[36m0:00:00\u001b[0m\n",
      "\u001b[?25hRequirement already satisfied: numpy<2,>=1 in /usr/local/lib/python3.10/dist-packages (from langchain) (1.25.2)\n",
      "Requirement already satisfied: pydantic<3,>=1 in /usr/local/lib/python3.10/dist-packages (from langchain) (2.7.0)\n",
      "Requirement already satisfied: requests<3,>=2 in /usr/local/lib/python3.10/dist-packages (from langchain) (2.31.0)\n",
      "Requirement already satisfied: tenacity<9.0.0,>=8.1.0 in /usr/local/lib/python3.10/dist-packages (from langchain) (8.2.3)\n",
      "Requirement already satisfied: anyio<5,>=3.5.0 in /usr/local/lib/python3.10/dist-packages (from openai) (3.7.1)\n",
      "Requirement already satisfied: distro<2,>=1.7.0 in /usr/lib/python3/dist-packages (from openai) (1.7.0)\n",
      "Collecting httpx<1,>=0.23.0 (from openai)\n",
      "  Downloading httpx-0.27.0-py3-none-any.whl (75 kB)\n",
      "\u001b[2K     \u001b[90m━━━━━━━━━━━━━━━━━━━━━━━━━━━━━━━━━━━━━━━━\u001b[0m \u001b[32m75.6/75.6 kB\u001b[0m \u001b[31m4.3 MB/s\u001b[0m eta \u001b[36m0:00:00\u001b[0m\n",
      "\u001b[?25hRequirement already satisfied: sniffio in /usr/local/lib/python3.10/dist-packages (from openai) (1.3.1)\n",
      "Requirement already satisfied: tqdm>4 in /usr/local/lib/python3.10/dist-packages (from openai) (4.66.2)\n",
      "Requirement already satisfied: typing-extensions<5,>=4.7 in /usr/local/lib/python3.10/dist-packages (from openai) (4.11.0)\n",
      "Collecting tiktoken<1,>=0.5.2 (from langchain_openai)\n",
      "  Downloading tiktoken-0.6.0-cp310-cp310-manylinux_2_17_x86_64.manylinux2014_x86_64.whl (1.8 MB)\n",
      "\u001b[2K     \u001b[90m━━━━━━━━━━━━━━━━━━━━━━━━━━━━━━━━━━━━━━━━\u001b[0m \u001b[32m1.8/1.8 MB\u001b[0m \u001b[31m22.5 MB/s\u001b[0m eta \u001b[36m0:00:00\u001b[0m\n",
      "\u001b[?25hRequirement already satisfied: filelock in /usr/local/lib/python3.10/dist-packages (from huggingface_hub) (3.13.4)\n",
      "Requirement already satisfied: fsspec>=2023.5.0 in /usr/local/lib/python3.10/dist-packages (from huggingface_hub) (2023.6.0)\n",
      "Requirement already satisfied: packaging>=20.9 in /usr/local/lib/python3.10/dist-packages (from huggingface_hub) (24.0)\n",
      "Requirement already satisfied: aiosignal>=1.1.2 in /usr/local/lib/python3.10/dist-packages (from aiohttp<4.0.0,>=3.8.3->langchain) (1.3.1)\n",
      "Requirement already satisfied: attrs>=17.3.0 in /usr/local/lib/python3.10/dist-packages (from aiohttp<4.0.0,>=3.8.3->langchain) (23.2.0)\n",
      "Requirement already satisfied: frozenlist>=1.1.1 in /usr/local/lib/python3.10/dist-packages (from aiohttp<4.0.0,>=3.8.3->langchain) (1.4.1)\n",
      "Requirement already satisfied: multidict<7.0,>=4.5 in /usr/local/lib/python3.10/dist-packages (from aiohttp<4.0.0,>=3.8.3->langchain) (6.0.5)\n",
      "Requirement already satisfied: yarl<2.0,>=1.0 in /usr/local/lib/python3.10/dist-packages (from aiohttp<4.0.0,>=3.8.3->langchain) (1.9.4)\n",
      "Requirement already satisfied: idna>=2.8 in /usr/local/lib/python3.10/dist-packages (from anyio<5,>=3.5.0->openai) (3.7)\n",
      "Requirement already satisfied: exceptiongroup in /usr/local/lib/python3.10/dist-packages (from anyio<5,>=3.5.0->openai) (1.2.0)\n",
      "Collecting marshmallow<4.0.0,>=3.18.0 (from dataclasses-json<0.7,>=0.5.7->langchain)\n",
      "  Downloading marshmallow-3.21.1-py3-none-any.whl (49 kB)\n",
      "\u001b[2K     \u001b[90m━━━━━━━━━━━━━━━━━━━━━━━━━━━━━━━━━━━━━━━━\u001b[0m \u001b[32m49.4/49.4 kB\u001b[0m \u001b[31m2.0 MB/s\u001b[0m eta \u001b[36m0:00:00\u001b[0m\n",
      "\u001b[?25hCollecting typing-inspect<1,>=0.4.0 (from dataclasses-json<0.7,>=0.5.7->langchain)\n",
      "  Downloading typing_inspect-0.9.0-py3-none-any.whl (8.8 kB)\n",
      "Requirement already satisfied: certifi in /usr/local/lib/python3.10/dist-packages (from httpx<1,>=0.23.0->openai) (2024.2.2)\n",
      "Collecting httpcore==1.* (from httpx<1,>=0.23.0->openai)\n",
      "  Downloading httpcore-1.0.5-py3-none-any.whl (77 kB)\n",
      "\u001b[2K     \u001b[90m━━━━━━━━━━━━━━━━━━━━━━━━━━━━━━━━━━━━━━━━\u001b[0m \u001b[32m77.9/77.9 kB\u001b[0m \u001b[31m6.1 MB/s\u001b[0m eta \u001b[36m0:00:00\u001b[0m\n",
      "\u001b[?25hCollecting h11<0.15,>=0.13 (from httpcore==1.*->httpx<1,>=0.23.0->openai)\n",
      "  Downloading h11-0.14.0-py3-none-any.whl (58 kB)\n",
      "\u001b[2K     \u001b[90m━━━━━━━━━━━━━━━━━━━━━━━━━━━━━━━━━━━━━━━━\u001b[0m \u001b[32m58.3/58.3 kB\u001b[0m \u001b[31m3.8 MB/s\u001b[0m eta \u001b[36m0:00:00\u001b[0m\n",
      "\u001b[?25hCollecting jsonpointer>=1.9 (from jsonpatch<2.0,>=1.33->langchain)\n",
      "  Downloading jsonpointer-2.4-py2.py3-none-any.whl (7.8 kB)\n",
      "Collecting packaging>=20.9 (from huggingface_hub)\n",
      "  Downloading packaging-23.2-py3-none-any.whl (53 kB)\n",
      "\u001b[2K     \u001b[90m━━━━━━━━━━━━━━━━━━━━━━━━━━━━━━━━━━━━━━━━\u001b[0m \u001b[32m53.0/53.0 kB\u001b[0m \u001b[31m3.2 MB/s\u001b[0m eta \u001b[36m0:00:00\u001b[0m\n",
      "\u001b[?25hCollecting orjson<4.0.0,>=3.9.14 (from langsmith<0.2.0,>=0.1.17->langchain)\n",
      "  Downloading orjson-3.10.1-cp310-cp310-manylinux_2_17_x86_64.manylinux2014_x86_64.whl (141 kB)\n",
      "\u001b[2K     \u001b[90m━━━━━━━━━━━━━━━━━━━━━━━━━━━━━━━━━━━━━━━━\u001b[0m \u001b[32m141.1/141.1 kB\u001b[0m \u001b[31m690.7 kB/s\u001b[0m eta \u001b[36m0:00:00\u001b[0m\n",
      "\u001b[?25hRequirement already satisfied: annotated-types>=0.4.0 in /usr/local/lib/python3.10/dist-packages (from pydantic<3,>=1->langchain) (0.6.0)\n",
      "Requirement already satisfied: pydantic-core==2.18.1 in /usr/local/lib/python3.10/dist-packages (from pydantic<3,>=1->langchain) (2.18.1)\n",
      "Requirement already satisfied: charset-normalizer<4,>=2 in /usr/local/lib/python3.10/dist-packages (from requests<3,>=2->langchain) (3.3.2)\n",
      "Requirement already satisfied: urllib3<3,>=1.21.1 in /usr/local/lib/python3.10/dist-packages (from requests<3,>=2->langchain) (2.0.7)\n",
      "Requirement already satisfied: greenlet!=0.4.17 in /usr/local/lib/python3.10/dist-packages (from SQLAlchemy<3,>=1.4->langchain) (3.0.3)\n",
      "Requirement already satisfied: regex>=2022.1.18 in /usr/local/lib/python3.10/dist-packages (from tiktoken<1,>=0.5.2->langchain_openai) (2023.12.25)\n",
      "Collecting mypy-extensions>=0.3.0 (from typing-inspect<1,>=0.4.0->dataclasses-json<0.7,>=0.5.7->langchain)\n",
      "  Downloading mypy_extensions-1.0.0-py3-none-any.whl (4.7 kB)\n",
      "Installing collected packages: packaging, orjson, mypy-extensions, jsonpointer, h11, typing-inspect, tiktoken, marshmallow, jsonpatch, httpcore, langsmith, httpx, dataclasses-json, openai, langchain-core, langchain-text-splitters, langchain_openai, langchain_community, langchain\n",
      "  Attempting uninstall: packaging\n",
      "    Found existing installation: packaging 24.0\n",
      "    Uninstalling packaging-24.0:\n",
      "      Successfully uninstalled packaging-24.0\n",
      "Successfully installed dataclasses-json-0.6.4 h11-0.14.0 httpcore-1.0.5 httpx-0.27.0 jsonpatch-1.33 jsonpointer-2.4 langchain-0.1.16 langchain-core-0.1.45 langchain-text-splitters-0.0.1 langchain_community-0.0.34 langchain_openai-0.1.3 langsmith-0.1.49 marshmallow-3.21.1 mypy-extensions-1.0.0 openai-1.23.2 orjson-3.10.1 packaging-23.2 tiktoken-0.6.0 typing-inspect-0.9.0\n"
     ]
    }
   ],
   "source": [
    "%pip install langchain openai langchain_community langchain_openai huggingface_hub"
   ]
  },
  {
   "cell_type": "code",
   "execution_count": 2,
   "metadata": {
    "colab": {
     "base_uri": "https://localhost:8080/"
    },
    "id": "fnDD6PTLjE5R",
    "outputId": "636907e1-88a7-4caa-93e1-62851afeea79"
   },
   "outputs": [
    {
     "name": "stdout",
     "output_type": "stream",
     "text": [
      "Mounted at /content/drive\n"
     ]
    }
   ],
   "source": [
    "# Load the Drive helper and mount\n",
    "from google.colab import drive\n",
    "drive.mount('/content/drive')"
   ]
  },
  {
   "cell_type": "markdown",
   "metadata": {
    "id": "orXNQ_m9j5Ck"
   },
   "source": [
    "### Connect to VK LLM"
   ]
  },
  {
   "cell_type": "code",
   "execution_count": 3,
   "metadata": {
    "id": "FRWKmNRbnkW2"
   },
   "outputs": [],
   "source": [
    "import pandas as pd"
   ]
  },
  {
   "cell_type": "code",
   "execution_count": 33,
   "metadata": {
    "id": "kJQZYRXhiDxk"
   },
   "outputs": [],
   "source": [
    "from langchain_core.messages import HumanMessage, SystemMessage\n",
    "from langchain_openai import ChatOpenAI, AzureChatOpenAI\n",
    "from langchain_core.output_parsers import JsonOutputParser\n",
    "from tqdm.auto import tqdm\n",
    "from langchain_core.prompts import ChatPromptTemplate\n",
    "\n",
    "base_url = \"http://saiga.vkcloud.eazify.net:8000/v1\" # Saiga 3\n",
    "# base_url = \"http://shwars.vkcloud.eazify.net:8000/v1\" # Saiga Gemma\n",
    "# base_url = \"http://hackllm.vkcloud.eazify.net:8000/v1\" # Mail.ru"
   ]
  },
  {
   "cell_type": "code",
   "execution_count": 34,
   "metadata": {
    "id": "kZx_0UfFioa4"
   },
   "outputs": [],
   "source": [
    "chat = ChatOpenAI(api_key=\"<key>\",\n",
    "                  model = \"tgi\",\n",
    "                  openai_api_base = base_url,\n",
    "                  max_tokens=700)"
   ]
  },
  {
   "cell_type": "code",
   "execution_count": 9,
   "metadata": {
    "colab": {
     "base_uri": "https://localhost:8080/"
    },
    "id": "Yb8trwrijDzF",
    "outputId": "79cae659-33ff-4df0-ba3c-869fcf7dd5da"
   },
   "outputs": [
    {
     "data": {
      "text/plain": [
       "['data.mail.xlsx', 'Baseline_LLM.ipynb']"
      ]
     },
     "execution_count": 9,
     "metadata": {},
     "output_type": "execute_result"
    }
   ],
   "source": [
    "import os\n",
    "\n",
    "os.listdir('./drive/MyDrive/VK_hack')"
   ]
  },
  {
   "cell_type": "code",
   "execution_count": 11,
   "metadata": {
    "id": "RqH-KrI_nfm9"
   },
   "outputs": [],
   "source": [
    "news_vk_data = pd.read_excel('./drive/MyDrive/VK_hack/data.mail.xlsx')"
   ]
  },
  {
   "cell_type": "code",
   "execution_count": 13,
   "metadata": {
    "colab": {
     "base_uri": "https://localhost:8080/",
     "height": 449
    },
    "id": "NfjQMgePosvW",
    "outputId": "d4e33306-24f7-4dac-8271-b45410016dc1"
   },
   "outputs": [
    {
     "data": {
      "application/vnd.google.colaboratory.intrinsic+json": {
       "summary": "{\n  \"name\": \"news_vk_data\",\n  \"rows\": 21093,\n  \"fields\": [\n    {\n      \"column\": \"URL\",\n      \"properties\": {\n        \"dtype\": \"string\",\n        \"num_unique_values\": 21093,\n        \"samples\": [\n          \"https://kino.mail.ru/news/53850_vishel_pervii_tizer_filma_mazhor_s_priluchnim/\",\n          \"https://kino.mail.ru/news/60021_avtor_knigi_slovo_patsana_nazval_svoih_lyubimih_personazhei_v_seriale/\",\n          \"https://kino.mail.ru/news/39940_v_bollivude_snjali_remejk_sovetskoj_ironii_sudby/\"\n        ],\n        \"semantic_type\": \"\",\n        \"description\": \"\"\n      }\n    },\n    {\n      \"column\": \"Title\",\n      \"properties\": {\n        \"dtype\": \"string\",\n        \"num_unique_values\": 21071,\n        \"samples\": [\n          \"\\u041f\\u043b\\u0430\\u0442\\u044c\\u0435 \\u0414\\u0436\\u0443\\u0434\\u0438 \\u0413\\u0430\\u0440\\u043b\\u044d\\u043d\\u0434 \\u0438\\u0437 \\u00ab\\u0412\\u043e\\u043b\\u0448\\u0435\\u0431\\u043d\\u0438\\u043a\\u0430 \\u0441\\u0442\\u0440\\u0430\\u043d\\u044b \\u041e\\u0437\\u00bb \\u043f\\u0443\\u0441\\u0442\\u0438\\u043b\\u0438 \\u0441 \\u043c\\u043e\\u043b\\u043e\\u0442\\u043a\\u0430\",\n          \"\\u0415\\u0432\\u0433\\u0435\\u043d\\u0438\\u0439 \\u0421\\u0442\\u044b\\u0447\\u043a\\u0438\\u043d 16 \\u043b\\u0435\\u0442 \\u0441\\u043a\\u0440\\u044b\\u0432\\u0430\\u043b \\u0432\\u043d\\u0435\\u0431\\u0440\\u0430\\u0447\\u043d\\u0443\\u044e \\u0434\\u043e\\u0447\\u044c\",\n          \"\\u0417\\u0430\\u0447\\u0435\\u043c \\u0415\\u043a\\u0430\\u0442\\u0435\\u0440\\u0438\\u043d\\u0430 \\u0412\\u0430\\u0440\\u043d\\u0430\\u0432\\u0430 \\u0443\\u043c\\u0435\\u043d\\u044c\\u0448\\u0430\\u0435\\u0442 \\u0442\\u0430\\u043b\\u0438\\u044e?\"\n        ],\n        \"semantic_type\": \"\",\n        \"description\": \"\"\n      }\n    },\n    {\n      \"column\": \"Description\",\n      \"properties\": {\n        \"dtype\": \"string\",\n        \"num_unique_values\": 21065,\n        \"samples\": [\n          \"\\u0420\\u0435\\u0436\\u0438\\u0441\\u0441\\u0435\\u0440 \\u0441\\u043e\\u043e\\u0431\\u0449\\u0438\\u043b, \\u0447\\u0442\\u043e \\u0441\\u0435\\u0440\\u0438\\u0430\\u043b\\u044c\\u043d\\u0430\\u044f \\u0432\\u0435\\u0440\\u0441\\u0438\\u044f \\u043d\\u0430\\u0448\\u0443\\u043c\\u0435\\u0432\\u0448\\u0435\\u0439 \\u043a\\u0430\\u0440\\u0442\\u0438\\u043d\\u044b \\u0431\\u0443\\u0434\\u0435\\u0442 \\u0432\\u044b\\u0445\\u043e\\u0434\\u0438\\u0442\\u044c \\u043d\\u0430 \\u00ab\\u041f\\u0435\\u0440\\u0432\\u043e\\u043c \\u043a\\u0430\\u043d\\u0430\\u043b\\u0435\\u00bb \\u043b\\u0435\\u0442\\u043e\\u043c 2018 \\u0433\\u043e\\u0434\\u0430\",\n          \"\\u0417\\u0430 \\u0434\\u0435\\u0431\\u044e\\u0442\\u043d\\u044b\\u0439 \\u0443\\u0438\\u043a\\u0435\\u043d\\u0434 \\u043c\\u0443\\u043b\\u044c\\u0442\\u0444\\u0438\\u043b\\u044c\\u043c \\u043e\\u0431\\u043d\\u043e\\u0432\\u0438\\u043b \\u0440\\u0435\\u043a\\u043e\\u0440\\u0434\\u044b \\u0441\\u0431\\u043e\\u0440\\u043e\\u0432 \\u0438 \\u043f\\u043e\\u0441\\u0435\\u0449\\u0430\\u0435\\u043c\\u043e\\u0441\\u0442\\u0438\",\n          \"13 \\u0434\\u0435\\u043a\\u0430\\u0431\\u0440\\u044f \\u0443\\u0447\\u0430\\u0441\\u0442\\u043d\\u0438\\u043a\\u0438 \\u043f\\u0440\\u043e\\u0435\\u043a\\u0442\\u0430 \\u0422\\u0438\\u0433\\u0440\\u0430\\u043d \\u0421\\u0430\\u043b\\u0438\\u0431\\u0435\\u043a\\u043e\\u0432 \\u0438 \\u042e\\u043b\\u0438\\u044f \\u041a\\u043e\\u043b\\u0438\\u0441\\u043d\\u0438\\u0447\\u0435\\u043d\\u043a\\u043e \\u043e\\u0444\\u0438\\u0446\\u0438\\u0430\\u043b\\u044c\\u043d\\u043e \\u0437\\u0430\\u0440\\u0435\\u0433\\u0438\\u0441\\u0442\\u0440\\u0438\\u0440\\u043e\\u0432\\u0430\\u043b\\u0438 \\u0441\\u0432\\u043e\\u0438 \\u043e\\u0442\\u043d\\u043e\\u0448\\u0435\\u043d\\u0438\\u044f\"\n        ],\n        \"semantic_type\": \"\",\n        \"description\": \"\"\n      }\n    },\n    {\n      \"column\": \"Article Text\",\n      \"properties\": {\n        \"dtype\": \"string\",\n        \"num_unique_values\": 21092,\n        \"samples\": [\n          \"\\u041f\\u043e\\u0441\\u043b\\u0435 \\u043e\\u0447\\u0435\\u0440\\u0435\\u0434\\u043d\\u043e\\u0433\\u043e \\u0437\\u0430\\u0441\\u0435\\u0434\\u0430\\u043d\\u0438\\u044f \\u0441\\u0443\\u0434\\u0430 \\u041b\\u0438\\u043d\\u0434\\u0441\\u0438 \\u041b\\u043e\\u0445\\u0430\\u043d \\u0431\\u044b\\u043b\\u0430 \\u043e\\u0441\\u0432\\u043e\\u0431\\u043e\\u0436\\u0434\\u0435\\u043d\\u0430 \\u043f\\u043e\\u0434 \\u0437\\u0430\\u043b\\u043e\\u0433 \\u0432 100 \\u0442\\u044b\\u0441\\u044f\\u0447 \\u0434\\u043e\\u043b\\u043b\\u0430\\u0440\\u043e\\u0432. \\u041d\\u043e \\u0442\\u0435\\u043f\\u0435\\u0440\\u044c \\u0435\\u0435 \\u043e\\u0431\\u044f\\u0437\\u0430\\u043b\\u0438 \\u0440\\u0430\\u0431\\u043e\\u0442\\u0430\\u0442\\u044c \\u0432 \\u043c\\u043e\\u0440\\u0433\\u0435. \\u041b\\u043e\\u0445\\u0430\\u043d \\u043f\\u0440\\u0438\\u0434\\u0435\\u0442\\u0441\\u044f \\u043e\\u0442\\u043c\\u044b\\u0432\\u0430\\u0442\\u044c \\u043f\\u0440\\u043e\\u0441\\u0442\\u044b\\u043d\\u0438, \\u0432 \\u043a\\u043e\\u0442\\u043e\\u0440\\u044b\\u0435 \\u0437\\u0430\\u0432\\u043e\\u0440\\u0430\\u0447\\u0438\\u0432\\u0430\\u044e\\u0442 \\u0442\\u0435\\u043b\\u0430 \\u0443\\u043c\\u0435\\u0440\\u0448\\u0438\\u0445. \\u041e\\u043d\\u0430 \\u0431\\u0443\\u0434\\u0435\\u0442 \\u043e\\u0431\\u044f\\u0437\\u0430\\u043d\\u0430 \\u0441\\u0434\\u0430\\u0442\\u044c \\u043c\\u043e\\u0431\\u0438\\u043b\\u044c\\u043d\\u044b\\u0439 \\u0442\\u0435\\u043b\\u0435\\u0444\\u043e\\u043d \\u0438 \\u043f\\u0440\\u0438\\u043d\\u043e\\u0441\\u0438\\u0442\\u044c \\u0435\\u0434\\u0443 \\u0441 \\u0441\\u043e\\u0431\\u043e\\u0439. \\u0410\\u043a\\u0442\\u0440\\u0438\\u0441\\u0430 \\u0434\\u043e\\u043b\\u0436\\u043d\\u0430 \\u0431\\u044b\\u043b\\u0430 \\u043f\\u0440\\u0438\\u0441\\u0442\\u0443\\u043f\\u0438\\u0442\\u044c \\u043a \\u0440\\u0430\\u0431\\u043e\\u0442\\u0430\\u043c \\u0432 \\u0447\\u0435\\u0442\\u0432\\u0435\\u0440\\u0433, \\u043e\\u0434\\u043d\\u0430\\u043a\\u043e \\u0442\\u043e\\u0433\\u0434\\u0430 \\u043e\\u043f\\u043e\\u0437\\u0434\\u0430\\u043b\\u0430 \\u043d\\u0430 40 \\u043c\\u0438\\u043d\\u0443\\u0442, \\u0442\\u0430\\u043a \\u043a\\u0430\\u043a \\u043d\\u0435 \\u0437\\u043d\\u0430\\u043b\\u0430, \\u0447\\u0435\\u0440\\u0435\\u0437 \\u043a\\u0430\\u043a\\u043e\\u0439 \\u0432\\u0445\\u043e\\u0434 \\u043f\\u043e\\u043f\\u0430\\u0441\\u0442\\u044c \\u0432 \\u043c\\u043e\\u0440\\u0433, \\u0441\\u043e\\u043e\\u0431\\u0449\\u0430\\u044e\\u0442 \\u0420\\u0418\\u0410 \\u00ab\\u041d\\u043e\\u0432\\u043e\\u0441\\u0442\\u0438\\u00bb.  \\u0424\\u043e\\u0442\\u043e: splashnews \\u0422\\u0430\\u043a\\u043e\\u0435 \\u0431\\u043b\\u0438\\u0437\\u043a\\u043e\\u0435 \\u0441\\u043e\\u0441\\u0435\\u0434\\u0441\\u0442\\u0432\\u043e \\u0441 \\u0433\\u043e\\u043b\\u043b\\u0438\\u0432\\u0443\\u0434\\u0441\\u043a\\u043e\\u0439 \\u0437\\u0432\\u0435\\u0437\\u0434\\u043e\\u0439 \\u0443\\u0434\\u0438\\u0432\\u0438\\u043b\\u043e \\u0441\\u043e\\u0442\\u0440\\u0443\\u0434\\u043d\\u0438\\u043a\\u043e\\u0432 \\u043c\\u043e\\u0440\\u0433\\u0430. \\u0418 \\u043e\\u043d\\u0438, \\u0432\\u0438\\u0434\\u0438\\u043c\\u043e, \\u0436\\u0435\\u043b\\u0430\\u044f \\u0440\\u0430\\u0437\\u0432\\u043b\\u0435\\u0447\\u044c\\u0441\\u044f \\u0438 \\u0437\\u0430\\u043e\\u0434\\u043d\\u043e \\u0437\\u0430\\u043f\\u0435\\u0447\\u0430\\u0442\\u043b\\u0435\\u0442\\u044c \\u0442\\u0430\\u043a\\u043e\\u0439 \\u043d\\u0435\\u043f\\u043e\\u0432\\u0442\\u043e\\u0440\\u0438\\u043c\\u044b\\u0439 \\u043c\\u043e\\u043c\\u0435\\u043d\\u0442, \\u043a\\u0430\\u043a \\u041b\\u0438\\u043d\\u0434\\u0441\\u0438 \\u041b\\u043e\\u0445\\u0430\\u043d \\u0432 \\u043c\\u043e\\u0440\\u0433\\u0435, \\u0440\\u0435\\u0448\\u0438\\u043b\\u0438 \\u043d\\u0430\\u0447\\u0430\\u0442\\u044c \\u0444\\u043e\\u0442\\u043e\\u0433\\u0440\\u0430\\u0444\\u0438\\u0440\\u043e\\u0432\\u0430\\u0442\\u044c \\u0430\\u043a\\u0442\\u0440\\u0438\\u0441\\u0443. \\u0423\\u0437\\u043d\\u0430\\u0432 \\u043e\\u0431 \\u044d\\u0442\\u043e\\u043c, \\u043d\\u0430\\u0447\\u0430\\u043b\\u044c\\u0441\\u0442\\u0432\\u043e \\u043a\\u0430\\u0442\\u0435\\u0433\\u043e\\u0440\\u0438\\u0447\\u0435\\u0441\\u043a\\u0438 \\u0437\\u0430\\u043f\\u0440\\u0435\\u0442\\u0438\\u043b\\u043e \\u0441\\u043d\\u0438\\u043c\\u0430\\u0442\\u044c \\u041b\\u043e\\u0445\\u0430\\u043d. \\u0411\\u043e\\u043b\\u0435\\u0435 \\u0442\\u043e\\u0433\\u043e \\u2013 \\u043b\\u044e\\u0431\\u043e\\u0439, \\u043a\\u0442\\u043e \\u0441\\u0444\\u043e\\u0442\\u043e\\u0433\\u0440\\u0430\\u0444\\u0438\\u0440\\u0443\\u0435\\u0442 \\u041b\\u0438\\u043d\\u0434\\u0441\\u0438 \\u0437\\u0430 \\u0435\\u0435 \\u0440\\u0430\\u0431\\u043e\\u0442\\u043e\\u0439, \\u0431\\u0443\\u0434\\u0435\\u0442 \\u043d\\u0435\\u043c\\u0435\\u0434\\u043b\\u0435\\u043d\\u043d\\u043e \\u0443\\u0432\\u043e\\u043b\\u0435\\u043d.\",\n          \"\\u0410\\u043c\\u0435\\u0440\\u0438\\u043a\\u0430\\u043d\\u0441\\u043a\\u0438\\u0439 \\u0430\\u043a\\u0442\\u0435\\u0440 \\u0414\\u0436\\u0435\\u0439\\u0434\\u0435\\u043d \\u041b\\u0438\\u0431\\u0435\\u0440\\u0435\\u0440 \\u0440\\u0430\\u0441\\u0441\\u043a\\u0430\\u0437\\u0430\\u043b, \\u043a\\u0430\\u043a \\u043c\\u043e\\u0433 \\u0437\\u0430\\u043a\\u043e\\u043d\\u0447\\u0438\\u0442\\u044c\\u0441\\u044f \\u0444\\u0438\\u043b\\u044c\\u043c \\u0443\\u0436\\u0430\\u0441\\u043e\\u0432 \\u00ab\\u041e\\u043d\\u043e\\u00bb \\u0440\\u0435\\u0436\\u0438\\u0441\\u0441\\u0435\\u0440\\u0430 \\u0410\\u043d\\u0434\\u0440\\u0435\\u0441\\u0430 \\u041c\\u0443\\u0441\\u043a\\u0435\\u0442\\u0442\\u0438, \\u043f\\u0438\\u0448\\u0435\\u0442 Variety. \\u041f\\u043e \\u0441\\u043b\\u043e\\u0432\\u0430\\u043c \\u041b\\u0438\\u0431\\u0435\\u0440\\u0435\\u0440\\u0430, \\u0438\\u0437\\u043d\\u0430\\u0447\\u0430\\u043b\\u044c\\u043d\\u043e \\u043f\\u043b\\u0430\\u043d\\u0438\\u0440\\u043e\\u0432\\u0430\\u043b\\u043e\\u0441\\u044c, \\u0447\\u0442\\u043e \\u0432 \\u0437\\u0430\\u043a\\u043b\\u044e\\u0447\\u0438\\u0442\\u0435\\u043b\\u044c\\u043d\\u043e\\u0439 \\u0441\\u0446\\u0435\\u043d\\u0435 \\u0435\\u0433\\u043e \\u0433\\u0435\\u0440\\u043e\\u0439 \\u043f\\u043e\\u0431\\u0435\\u0436\\u0434\\u0430\\u0435\\u0442 \\u0437\\u043b\\u043e\\u0432\\u0435\\u0449\\u0435\\u0433\\u043e \\u043a\\u043b\\u043e\\u0443\\u043d\\u0430 \\u0432 \\u043e\\u0434\\u0438\\u043d\\u043e\\u0447\\u043a\\u0443: \\u0412 \\u043a\\u043e\\u043d\\u0446\\u0435 \\u044f \\u0437\\u0430\\u043b\\u0435\\u0437\\u0430\\u044e \\u043d\\u0430 \\u0431\\u0430\\u0448\\u043d\\u044e \\u0438 \\u043e\\u043a\\u0430\\u0437\\u044b\\u0432\\u0430\\u044e\\u0441\\u044c \\u043e\\u0434\\u0438\\u043d \\u043d\\u0430 \\u043e\\u0434\\u0438\\u043d \\u0441 \\u041f\\u0435\\u043d\\u043d\\u0438\\u0432\\u0430\\u0439\\u0437\\u043e\\u043c. \\u042f \\u0433\\u043e\\u0432\\u043e\\u0440\\u044e \\u0435\\u043c\\u0443, \\u0447\\u0442\\u043e \\u043d\\u0435 \\u0431\\u043e\\u044e\\u0441\\u044c \\u0435\\u0433\\u043e \\u0438 \\u043d\\u0438\\u043a\\u0442\\u043e \\u0438\\u0437 \\u043d\\u0430\\u0441 \\u043d\\u0435 \\u0431\\u043e\\u0438\\u0442\\u0441\\u044f \\u0435\\u0433\\u043e, \\u0438 \\u0442\\u0430\\u043a\\u0438\\u043c \\u043e\\u0431\\u0440\\u0430\\u0437\\u043e\\u043c \\u043c\\u044b \\u043f\\u043e\\u0431\\u0435\\u0436\\u0434\\u0430\\u0435\\u043c. \\u0412 \\u043e\\u0440\\u0438\\u0433\\u0438\\u043d\\u0430\\u043b\\u044c\\u043d\\u043e\\u0439 \\u043a\\u043e\\u043d\\u0446\\u043e\\u0432\\u043a\\u0435 \\u0436\\u0435 \\u0433\\u043b\\u0430\\u0432\\u043d\\u044b\\u0435 \\u0433\\u0435\\u0440\\u043e\\u0438 \\u0438\\u0437\\u0433\\u043e\\u043d\\u044f\\u044e\\u0442 \\u043a\\u043b\\u043e\\u0443\\u043d\\u0430 \\u0432\\u043c\\u0435\\u0441\\u0442\\u0435. \\u0421\\u043c\\u043e\\u0442\\u0440\\u0438\\u0442\\u0435 \\u043e\\u043d\\u043b\\u0430\\u0439\\u043d: 15 \\u0441\\u0435\\u0440\\u0438\\u0430\\u043b\\u043e\\u0432 \\u043f\\u043e \\u0421\\u0442\\u0438\\u0432\\u0435\\u043d\\u0443 \\u041a\\u0438\\u043d\\u0433\\u0443 \\u041b\\u0435\\u043d\\u0442\\u0430 \\u041c\\u0443\\u0441\\u043a\\u0435\\u0442\\u0442\\u0438, \\u0432\\u044b\\u0448\\u0435\\u0434\\u0448\\u0430\\u044f 7 \\u0441\\u0435\\u043d\\u0442\\u044f\\u0431\\u0440\\u044f, \\u0441\\u0442\\u0430\\u043b\\u0430 \\u0440\\u0435\\u043c\\u0435\\u0439\\u043a\\u043e\\u043c \\u0444\\u0438\\u043b\\u044c\\u043c\\u0430 \\u0443\\u0436\\u0430\\u0441\\u043e\\u0432 1990 \\u0433\\u043e\\u0434\\u0430. \\u042d\\u043a\\u0440\\u0430\\u043d\\u0438\\u0437\\u0430\\u0446\\u0438\\u044f \\u043e\\u0434\\u043d\\u043e\\u0438\\u043c\\u0435\\u043d\\u043d\\u043e\\u0433\\u043e \\u0440\\u043e\\u043c\\u0430\\u043d\\u0430 \\u043f\\u0438\\u0441\\u0430\\u0442\\u0435\\u043b\\u044f \\u0421\\u0442\\u0438\\u0432\\u0435\\u043d\\u0430 \\u041a\\u0438\\u043d\\u0433\\u0430 \\u043f\\u043e\\u0432\\u0435\\u0441\\u0442\\u0432\\u0443\\u0435\\u0442 \\u043e \\u0442\\u043e\\u043c, \\u043a\\u0430\\u043a \\u043a\\u043b\\u043e\\u0443\\u043d \\u041f\\u0435\\u043d\\u043d\\u0438\\u0432\\u0430\\u0439\\u0437 \\u043f\\u043e\\u0445\\u0438\\u0449\\u0430\\u0435\\u0442 \\u0434\\u0435\\u0442\\u0435\\u0439 \\u0432 \\u043c\\u0430\\u043b\\u0435\\u043d\\u044c\\u043a\\u043e\\u043c \\u0430\\u043c\\u0435\\u0440\\u0438\\u043a\\u0430\\u043d\\u0441\\u043a\\u043e\\u043c \\u0433\\u043e\\u0440\\u043e\\u0434\\u0435. \\u0424\\u0438\\u043b\\u044c\\u043c \\u0443\\u0441\\u0442\\u0430\\u043d\\u043e\\u0432\\u0438\\u043b \\u0440\\u0435\\u043a\\u043e\\u0440\\u0434 \\u043f\\u043e \\u043a\\u0430\\u0441\\u0441\\u043e\\u0432\\u044b\\u043c \\u0441\\u0431\\u043e\\u0440\\u0430\\u043c \\u0441\\u0440\\u0435\\u0434\\u0438 \\u0445\\u043e\\u0440\\u0440\\u043e\\u0440\\u043e\\u0432 \\u0432 \\u0430\\u043c\\u0435\\u0440\\u0438\\u043a\\u0430\\u043d\\u0441\\u043a\\u043e\\u043c \\u043f\\u0440\\u043e\\u043a\\u0430\\u0442\\u0435.\",\n          \"\\u0420\\u043e\\u0441\\u0441\\u0438\\u0439\\u0441\\u043a\\u0438\\u0439 \\u0444\\u0430\\u043d\\u0442\\u0430\\u0441\\u0442\\u0438\\u0447\\u0435\\u0441\\u043a\\u0438\\u0439 \\u0441\\u0435\\u0440\\u0438\\u0430\\u043b 2022 \\u0433\\u043e\\u0434\\u0430 \\u00ab\\u0421\\u0443\\u043f\\u0435\\u0440\\u043f\\u043e\\u0437\\u0438\\u0446\\u0438\\u044f\\u00bb, \\u0433\\u043b\\u0430\\u0432\\u043d\\u0443\\u044e \\u0440\\u043e\\u043b\\u044c \\u0432 \\u043a\\u043e\\u0442\\u043e\\u0440\\u043e\\u043c \\u0438\\u0441\\u043f\\u043e\\u043b\\u043d\\u0438\\u043b \\u0430\\u043a\\u0442\\u0435\\u0440 \\u041f\\u0430\\u0432\\u0435\\u043b \\u0422\\u0430\\u0431\\u0430\\u043a\\u043e\\u0432, \\u043f\\u043e\\u043b\\u0443\\u0447\\u0438\\u043b \\u0447\\u0435\\u0442\\u044b\\u0440\\u0435 \\u043d\\u0430\\u0433\\u0440\\u0430\\u0434\\u044b \\u043d\\u0430 \\u0444\\u0435\\u0441\\u0442\\u0438\\u0432\\u0430\\u043b\\u0435 Baltimore Next Media Web Fest \\u0432 \\u0421\\u0428\\u0410. \\u041e\\u0431 \\u044d\\u0442\\u043e\\u043c \\u0441\\u043e\\u043e\\u0431\\u0449\\u0430\\u0435\\u0442 \\u00ab\\u0411\\u044e\\u043b\\u043b\\u0435\\u0442\\u0435\\u043d\\u044c \\u043a\\u0438\\u043d\\u043e\\u043f\\u0440\\u043e\\u043a\\u0430\\u0442\\u0447\\u0438\\u043a\\u0430\\u00bb. \\u0418\\u0437\\u0434\\u0430\\u043d\\u0438\\u0435 \\u043f\\u043e\\u0434\\u0447\\u0435\\u0440\\u043a\\u0438\\u0432\\u0430\\u0435\\u0442, \\u0447\\u0442\\u043e, \\u043f\\u043e\\u043c\\u0438\\u043c\\u043e \\u043f\\u0440\\u043e\\u0447\\u0435\\u0433\\u043e, \\u0448\\u043e\\u0443 \\u0443\\u0434\\u043e\\u0441\\u0442\\u043e\\u0438\\u043b\\u043e\\u0441\\u044c \\u043f\\u0440\\u0438\\u0437\\u0430 \\u0437\\u0430 \\u043b\\u0443\\u0447\\u0448\\u0438\\u0439 \\u0444\\u0430\\u043d\\u0442\\u0430\\u0441\\u0442\\u0438\\u0447\\u0435\\u0441\\u043a\\u0438\\u0439 \\u0441\\u0435\\u0440\\u0438\\u0430\\u043b. \\u0415\\u0433\\u043e \\u0442\\u0430\\u043a\\u0436\\u0435 \\u043e\\u0442\\u043c\\u0435\\u0442\\u0438\\u043b\\u0438 \\u0432 \\u043a\\u0430\\u0442\\u0435\\u0433\\u043e\\u0440\\u0438\\u044f\\u0445 \\u00ab\\u041b\\u0443\\u0447\\u0448\\u0438\\u0439 \\u0441\\u0446\\u0435\\u043d\\u0430\\u0440\\u0438\\u0439\\u00bb, \\u00ab\\u041b\\u0443\\u0447\\u0448\\u0438\\u0439 \\u0440\\u0435\\u0436\\u0438\\u0441\\u0441\\u0435\\u0440\\u00bb \\u0438 \\u00ab\\u041b\\u0443\\u0447\\u0448\\u0438\\u0439 \\u0430\\u043a\\u0442\\u0435\\u0440\\u0441\\u043a\\u0438\\u0439 \\u0441\\u043e\\u0441\\u0442\\u0430\\u0432\\u00bb. \\u041f\\u043e \\u0441\\u044e\\u0436\\u0435\\u0442\\u0443, \\u0433\\u043b\\u0430\\u0432\\u043d\\u044b\\u0439 \\u0433\\u0435\\u0440\\u043e\\u0439 \\u043f\\u044b\\u0442\\u0430\\u0435\\u0442\\u0441\\u044f \\u043d\\u0430\\u0439\\u0442\\u0438 \\u0441\\u0432\\u043e\\u0435\\u0433\\u043e \\u043e\\u0442\\u0446\\u0430 \\u2014 \\u043f\\u0440\\u043e\\u043f\\u0430\\u0432\\u0448\\u0435\\u0433\\u043e \\u043f\\u0440\\u043e\\u0444\\u0435\\u0441\\u0441\\u043e\\u0440\\u0430 \\u043a\\u0432\\u0430\\u043d\\u0442\\u043e\\u0432\\u043e\\u0439 \\u0444\\u0438\\u0437\\u0438\\u043a\\u0438. \\u0412\\u043e \\u0432\\u0440\\u0435\\u043c\\u044f \\u043f\\u043e\\u0438\\u0441\\u043a\\u043e\\u0432 \\u043e\\u043d \\u0443\\u0437\\u043d\\u0430\\u0435\\u0442, \\u0447\\u0442\\u043e \\u043e\\u0442\\u0435\\u0446 \\u0434\\u043e\\u043a\\u0430\\u0437\\u0430\\u043b \\u0441\\u0443\\u0449\\u0435\\u0441\\u0442\\u0432\\u043e\\u0432\\u0430\\u043d\\u0438\\u0435 \\u043c\\u0443\\u043b\\u044c\\u0442\\u0438\\u0432\\u0441\\u0435\\u043b\\u0435\\u043d\\u043d\\u043e\\u0439, \\u0438 \\u0432 \\u0440\\u0430\\u0437\\u043d\\u044b\\u0445 \\u043c\\u0438\\u0440\\u0430\\u0445 \\u0436\\u0438\\u0432\\u0443\\u0442 \\u0430\\u043b\\u044c\\u0442\\u0435\\u0440\\u043d\\u0430\\u0442\\u0438\\u0432\\u043d\\u044b\\u0435 \\u0432\\u0435\\u0440\\u0441\\u0438\\u0438 \\u043a\\u0430\\u0436\\u0434\\u043e\\u0433\\u043e \\u0447\\u0435\\u043b\\u043e\\u0432\\u0435\\u043a\\u0430. \\u0412 \\u0420\\u043e\\u0441\\u0441\\u0438\\u0438 \\u043f\\u0440\\u0435\\u043c\\u044c\\u0435\\u0440\\u0430 \\u00ab\\u0421\\u0443\\u043f\\u0435\\u0440\\u043f\\u043e\\u0437\\u0438\\u0446\\u0438\\u0438\\u00bb \\u0441\\u043e\\u0441\\u0442\\u043e\\u044f\\u043b\\u0430\\u0441\\u044c 10 \\u043d\\u043e\\u044f\\u0431\\u0440\\u044f 2022 \\u0433\\u043e\\u0434\\u0430 \\u043d\\u0430 \\u043e\\u043d\\u043b\\u0430\\u0439\\u043d-\\u043f\\u043b\\u0430\\u0442\\u0444\\u043e\\u0440\\u043c\\u0430\\u0445. \\u041f\\u043e\\u043c\\u0438\\u043c\\u043e \\u0422\\u0430\\u0431\\u0430\\u043a\\u043e\\u0432\\u0430 \\u0432 \\u0441\\u0435\\u0440\\u0438\\u0430\\u043b\\u0435 \\u0441\\u043d\\u044f\\u043b\\u0438\\u0441\\u044c \\u041a\\u043e\\u043d\\u0441\\u0442\\u0430\\u043d\\u0442\\u0438\\u043d \\u041b\\u0430\\u0432\\u0440\\u043e\\u043d\\u0435\\u043d\\u043a\\u043e, \\u041c\\u0430\\u0440\\u0438\\u043d\\u0430 \\u0417\\u0443\\u0434\\u0438\\u043d\\u0430 \\u0438 \\u041b\\u0443\\u043a\\u0435\\u0440\\u044c\\u044f \\u0418\\u043b\\u044c\\u044f\\u0448\\u0435\\u043d\\u043a\\u043e. \\u0420\\u0435\\u0436\\u0438\\u0441\\u0441\\u0435\\u0440\\u043e\\u043c \\u043f\\u0440\\u043e\\u0435\\u043a\\u0442\\u0430 \\u0432\\u044b\\u0441\\u0442\\u0443\\u043f\\u0438\\u043b \\u0412\\u0430\\u0434\\u0438\\u043c \\u0412\\u0430\\u043b\\u0438\\u0443\\u043b\\u043b\\u0438\\u043d. \\u041f\\u0440\\u043e\\u0434\\u044e\\u0441\\u0438\\u0440\\u0443\\u0435\\u043c\\u0430\\u044f \\u0421\\u0435\\u0440\\u0433\\u0435\\u0435\\u043c \\u0428\\u043d\\u0443\\u0440\\u043e\\u0432\\u044b\\u043c \\u0433\\u0440\\u0443\\u043f\\u043f\\u0430 \\u00ab\\u0417\\u043e\\u044f\\u00bb \\u0437\\u0430\\u043f\\u0438\\u0441\\u0430\\u043b\\u0430 \\u0441\\u0430\\u0443\\u043d\\u0434\\u0442\\u0440\\u0435\\u043a. \\u041f\\u0440\\u0438 \\u044d\\u0442\\u043e\\u043c \\u0432\\u043e\\u043a\\u0430\\u043b\\u0438\\u0441\\u0442\\u043a\\u0430 \\u043a\\u043e\\u043b\\u043b\\u0435\\u043a\\u0442\\u0438\\u0432\\u0430 \\u0434\\u0435\\u0431\\u044e\\u0442\\u0438\\u0440\\u043e\\u0432\\u0430\\u043b\\u0430 \\u0432 \\u043f\\u0440\\u043e\\u0435\\u043a\\u0442\\u0435 \\u043a\\u0430\\u043a \\u0430\\u043a\\u0442\\u0440\\u0438\\u0441\\u0430.\"\n        ],\n        \"semantic_type\": \"\",\n        \"description\": \"\"\n      }\n    },\n    {\n      \"column\": \"Keywords\",\n      \"properties\": {\n        \"dtype\": \"category\",\n        \"num_unique_values\": 550,\n        \"samples\": [\n          \"\\u0421\\u0422\\u0410\\u0422\\u042c\\u042f, \\u041e\\u0411\\u0417\\u041e\\u0420\\u042b, \\u0411\\u041e\\u0415\\u0412\\u0418\\u041a, \\u041f\\u0420\\u0418\\u041a\\u041b\\u042e\\u0427\\u0415\\u041d\\u0418\\u042f, \\u0424\\u0410\\u041d\\u0422\\u0410\\u0421\\u0422\\u0418\\u041a\\u0410, \\u0424\\u042d\\u041d\\u0422\\u0415\\u0417\\u0418, \\u0411\\u041e\\u0415\\u0412\\u0418\\u041a, \\u041f\\u0420\\u0418\\u041a\\u041b\\u042e\\u0427\\u0415\\u041d\\u0418\\u042f, \\u0424\\u0410\\u041d\\u0422\\u0410\\u0421\\u0422\\u0418\\u041a\\u0410, \\u0414\\u0420\\u0410\\u041c\\u0410, \\u0411\\u041e\\u0415\\u0412\\u0418\\u041a, \\u0424\\u0410\\u041d\\u0422\\u0410\\u0421\\u0422\\u0418\\u041a\\u0410, \\u0414\\u0420\\u0410\\u041c\\u0410, \\u0411\\u041e\\u0415\\u0412\\u0418\\u041a, \\u0424\\u0410\\u041d\\u0422\\u0410\\u0421\\u0422\\u0418\\u041a\\u0410, \\u0424\\u042d\\u041d\\u0422\\u0415\\u0417\\u0418, \\u0411\\u041e\\u0415\\u0412\\u0418\\u041a, \\u041f\\u0420\\u0418\\u041a\\u041b\\u042e\\u0427\\u0415\\u041d\\u0418\\u042f, \\u0424\\u042d\\u041d\\u0422\\u0415\\u0417\\u0418, \\u0411\\u041e\\u0415\\u0412\\u0418\\u041a, \\u041f\\u0420\\u0418\\u041a\\u041b\\u042e\\u0427\\u0415\\u041d\\u0418\\u042f, \\u0424\\u0410\\u041d\\u0422\\u0410\\u0421\\u0422\\u0418\\u041a\\u0410\",\n          \"\\u0421\\u0422\\u0410\\u0422\\u042c\\u042f\",\n          \"\\u041d\\u041e\\u0412\\u041e\\u0421\\u0422\\u042c, \\u0414\\u0415\\u0422\\u0415\\u041a\\u0422\\u0418\\u0412\"\n        ],\n        \"semantic_type\": \"\",\n        \"description\": \"\"\n      }\n    }\n  ]\n}",
       "type": "dataframe",
       "variable_name": "news_vk_data"
      },
      "text/html": [
       "\n",
       "  <div id=\"df-cb32b35b-98ac-4862-a1f5-37f5423c558e\" class=\"colab-df-container\">\n",
       "    <div>\n",
       "<style scoped>\n",
       "    .dataframe tbody tr th:only-of-type {\n",
       "        vertical-align: middle;\n",
       "    }\n",
       "\n",
       "    .dataframe tbody tr th {\n",
       "        vertical-align: top;\n",
       "    }\n",
       "\n",
       "    .dataframe thead th {\n",
       "        text-align: right;\n",
       "    }\n",
       "</style>\n",
       "<table border=\"1\" class=\"dataframe\">\n",
       "  <thead>\n",
       "    <tr style=\"text-align: right;\">\n",
       "      <th></th>\n",
       "      <th>URL</th>\n",
       "      <th>Title</th>\n",
       "      <th>Description</th>\n",
       "      <th>Article Text</th>\n",
       "      <th>Keywords</th>\n",
       "    </tr>\n",
       "  </thead>\n",
       "  <tbody>\n",
       "    <tr>\n",
       "      <th>0</th>\n",
       "      <td>https://kino.mail.ru/news/61905-serial-na-viho...</td>\n",
       "      <td>Сериал на выходные: едкая детективная комедия ...</td>\n",
       "      <td>Рассказываем о густонаселенном сериале «Прести...</td>\n",
       "      <td>В элитном поселке, где обитают сплошь богачи, ...</td>\n",
       "      <td>СТАТЬЯ, ЧТО ПОСМОТРЕТЬ, ДРАМА, КОМЕДИЯ, ДЕТЕКТИВ</td>\n",
       "    </tr>\n",
       "    <tr>\n",
       "      <th>1</th>\n",
       "      <td>https://kino.mail.ru/news/61913-film-na-vecher...</td>\n",
       "      <td>Фильм на вечер: атмосферный фильм-катастрофа с...</td>\n",
       "      <td>Погружаемся в апокалиптический триллер о франц...</td>\n",
       "      <td>Мир охвачен паникой — повсюду наблюдаются аном...</td>\n",
       "      <td>СТАТЬЯ, ЧТО ПОСМОТРЕТЬ, ДРАМА, ТРИЛЛЕР, ФАНТАС...</td>\n",
       "    </tr>\n",
       "    <tr>\n",
       "      <th>2</th>\n",
       "      <td>https://kino.mail.ru/news/61900-treiler-dnya-m...</td>\n",
       "      <td>Трейлер дня: Милла Йовович возвращается в трил...</td>\n",
       "      <td>Актриса снялась в новом экшене про пост-апокал...</td>\n",
       "      <td>Вышел дублированный трейлер фантастического тр...</td>\n",
       "      <td>СТАТЬЯ, ЧТО ПОСМОТРЕТЬ</td>\n",
       "    </tr>\n",
       "    <tr>\n",
       "      <th>3</th>\n",
       "      <td>https://kino.mail.ru/news/61871-film-na-vecher...</td>\n",
       "      <td>Фильм на вечер: милая зомби-комедия со звездой...</td>\n",
       "      <td>Заряжаемся хулиганским настроением за просмотр...</td>\n",
       "      <td>Оставшись сиротой, юный Оливер оказывается в т...</td>\n",
       "      <td>СТАТЬЯ, ЧТО ПОСМОТРЕТЬ, КОМЕДИЯ, УЖАСЫ</td>\n",
       "    </tr>\n",
       "    <tr>\n",
       "      <th>4</th>\n",
       "      <td>https://kino.mail.ru/news/61854-treiler-dnya-7...</td>\n",
       "      <td>Трейлер дня: 79-летний Майкл Дуглас играет Бен...</td>\n",
       "      <td>В сериале «Франклин» актер в роли отца-основат...</td>\n",
       "      <td>Вышел трейлер костюмированной 8-серийной драмы...</td>\n",
       "      <td>СТАТЬЯ, ЧТО ПОСМОТРЕТЬ</td>\n",
       "    </tr>\n",
       "  </tbody>\n",
       "</table>\n",
       "</div>\n",
       "    <div class=\"colab-df-buttons\">\n",
       "\n",
       "  <div class=\"colab-df-container\">\n",
       "    <button class=\"colab-df-convert\" onclick=\"convertToInteractive('df-cb32b35b-98ac-4862-a1f5-37f5423c558e')\"\n",
       "            title=\"Convert this dataframe to an interactive table.\"\n",
       "            style=\"display:none;\">\n",
       "\n",
       "  <svg xmlns=\"http://www.w3.org/2000/svg\" height=\"24px\" viewBox=\"0 -960 960 960\">\n",
       "    <path d=\"M120-120v-720h720v720H120Zm60-500h600v-160H180v160Zm220 220h160v-160H400v160Zm0 220h160v-160H400v160ZM180-400h160v-160H180v160Zm440 0h160v-160H620v160ZM180-180h160v-160H180v160Zm440 0h160v-160H620v160Z\"/>\n",
       "  </svg>\n",
       "    </button>\n",
       "\n",
       "  <style>\n",
       "    .colab-df-container {\n",
       "      display:flex;\n",
       "      gap: 12px;\n",
       "    }\n",
       "\n",
       "    .colab-df-convert {\n",
       "      background-color: #E8F0FE;\n",
       "      border: none;\n",
       "      border-radius: 50%;\n",
       "      cursor: pointer;\n",
       "      display: none;\n",
       "      fill: #1967D2;\n",
       "      height: 32px;\n",
       "      padding: 0 0 0 0;\n",
       "      width: 32px;\n",
       "    }\n",
       "\n",
       "    .colab-df-convert:hover {\n",
       "      background-color: #E2EBFA;\n",
       "      box-shadow: 0px 1px 2px rgba(60, 64, 67, 0.3), 0px 1px 3px 1px rgba(60, 64, 67, 0.15);\n",
       "      fill: #174EA6;\n",
       "    }\n",
       "\n",
       "    .colab-df-buttons div {\n",
       "      margin-bottom: 4px;\n",
       "    }\n",
       "\n",
       "    [theme=dark] .colab-df-convert {\n",
       "      background-color: #3B4455;\n",
       "      fill: #D2E3FC;\n",
       "    }\n",
       "\n",
       "    [theme=dark] .colab-df-convert:hover {\n",
       "      background-color: #434B5C;\n",
       "      box-shadow: 0px 1px 3px 1px rgba(0, 0, 0, 0.15);\n",
       "      filter: drop-shadow(0px 1px 2px rgba(0, 0, 0, 0.3));\n",
       "      fill: #FFFFFF;\n",
       "    }\n",
       "  </style>\n",
       "\n",
       "    <script>\n",
       "      const buttonEl =\n",
       "        document.querySelector('#df-cb32b35b-98ac-4862-a1f5-37f5423c558e button.colab-df-convert');\n",
       "      buttonEl.style.display =\n",
       "        google.colab.kernel.accessAllowed ? 'block' : 'none';\n",
       "\n",
       "      async function convertToInteractive(key) {\n",
       "        const element = document.querySelector('#df-cb32b35b-98ac-4862-a1f5-37f5423c558e');\n",
       "        const dataTable =\n",
       "          await google.colab.kernel.invokeFunction('convertToInteractive',\n",
       "                                                    [key], {});\n",
       "        if (!dataTable) return;\n",
       "\n",
       "        const docLinkHtml = 'Like what you see? Visit the ' +\n",
       "          '<a target=\"_blank\" href=https://colab.research.google.com/notebooks/data_table.ipynb>data table notebook</a>'\n",
       "          + ' to learn more about interactive tables.';\n",
       "        element.innerHTML = '';\n",
       "        dataTable['output_type'] = 'display_data';\n",
       "        await google.colab.output.renderOutput(dataTable, element);\n",
       "        const docLink = document.createElement('div');\n",
       "        docLink.innerHTML = docLinkHtml;\n",
       "        element.appendChild(docLink);\n",
       "      }\n",
       "    </script>\n",
       "  </div>\n",
       "\n",
       "\n",
       "<div id=\"df-553247d7-6b48-416e-acb4-289cdf4c463f\">\n",
       "  <button class=\"colab-df-quickchart\" onclick=\"quickchart('df-553247d7-6b48-416e-acb4-289cdf4c463f')\"\n",
       "            title=\"Suggest charts\"\n",
       "            style=\"display:none;\">\n",
       "\n",
       "<svg xmlns=\"http://www.w3.org/2000/svg\" height=\"24px\"viewBox=\"0 0 24 24\"\n",
       "     width=\"24px\">\n",
       "    <g>\n",
       "        <path d=\"M19 3H5c-1.1 0-2 .9-2 2v14c0 1.1.9 2 2 2h14c1.1 0 2-.9 2-2V5c0-1.1-.9-2-2-2zM9 17H7v-7h2v7zm4 0h-2V7h2v10zm4 0h-2v-4h2v4z\"/>\n",
       "    </g>\n",
       "</svg>\n",
       "  </button>\n",
       "\n",
       "<style>\n",
       "  .colab-df-quickchart {\n",
       "      --bg-color: #E8F0FE;\n",
       "      --fill-color: #1967D2;\n",
       "      --hover-bg-color: #E2EBFA;\n",
       "      --hover-fill-color: #174EA6;\n",
       "      --disabled-fill-color: #AAA;\n",
       "      --disabled-bg-color: #DDD;\n",
       "  }\n",
       "\n",
       "  [theme=dark] .colab-df-quickchart {\n",
       "      --bg-color: #3B4455;\n",
       "      --fill-color: #D2E3FC;\n",
       "      --hover-bg-color: #434B5C;\n",
       "      --hover-fill-color: #FFFFFF;\n",
       "      --disabled-bg-color: #3B4455;\n",
       "      --disabled-fill-color: #666;\n",
       "  }\n",
       "\n",
       "  .colab-df-quickchart {\n",
       "    background-color: var(--bg-color);\n",
       "    border: none;\n",
       "    border-radius: 50%;\n",
       "    cursor: pointer;\n",
       "    display: none;\n",
       "    fill: var(--fill-color);\n",
       "    height: 32px;\n",
       "    padding: 0;\n",
       "    width: 32px;\n",
       "  }\n",
       "\n",
       "  .colab-df-quickchart:hover {\n",
       "    background-color: var(--hover-bg-color);\n",
       "    box-shadow: 0 1px 2px rgba(60, 64, 67, 0.3), 0 1px 3px 1px rgba(60, 64, 67, 0.15);\n",
       "    fill: var(--button-hover-fill-color);\n",
       "  }\n",
       "\n",
       "  .colab-df-quickchart-complete:disabled,\n",
       "  .colab-df-quickchart-complete:disabled:hover {\n",
       "    background-color: var(--disabled-bg-color);\n",
       "    fill: var(--disabled-fill-color);\n",
       "    box-shadow: none;\n",
       "  }\n",
       "\n",
       "  .colab-df-spinner {\n",
       "    border: 2px solid var(--fill-color);\n",
       "    border-color: transparent;\n",
       "    border-bottom-color: var(--fill-color);\n",
       "    animation:\n",
       "      spin 1s steps(1) infinite;\n",
       "  }\n",
       "\n",
       "  @keyframes spin {\n",
       "    0% {\n",
       "      border-color: transparent;\n",
       "      border-bottom-color: var(--fill-color);\n",
       "      border-left-color: var(--fill-color);\n",
       "    }\n",
       "    20% {\n",
       "      border-color: transparent;\n",
       "      border-left-color: var(--fill-color);\n",
       "      border-top-color: var(--fill-color);\n",
       "    }\n",
       "    30% {\n",
       "      border-color: transparent;\n",
       "      border-left-color: var(--fill-color);\n",
       "      border-top-color: var(--fill-color);\n",
       "      border-right-color: var(--fill-color);\n",
       "    }\n",
       "    40% {\n",
       "      border-color: transparent;\n",
       "      border-right-color: var(--fill-color);\n",
       "      border-top-color: var(--fill-color);\n",
       "    }\n",
       "    60% {\n",
       "      border-color: transparent;\n",
       "      border-right-color: var(--fill-color);\n",
       "    }\n",
       "    80% {\n",
       "      border-color: transparent;\n",
       "      border-right-color: var(--fill-color);\n",
       "      border-bottom-color: var(--fill-color);\n",
       "    }\n",
       "    90% {\n",
       "      border-color: transparent;\n",
       "      border-bottom-color: var(--fill-color);\n",
       "    }\n",
       "  }\n",
       "</style>\n",
       "\n",
       "  <script>\n",
       "    async function quickchart(key) {\n",
       "      const quickchartButtonEl =\n",
       "        document.querySelector('#' + key + ' button');\n",
       "      quickchartButtonEl.disabled = true;  // To prevent multiple clicks.\n",
       "      quickchartButtonEl.classList.add('colab-df-spinner');\n",
       "      try {\n",
       "        const charts = await google.colab.kernel.invokeFunction(\n",
       "            'suggestCharts', [key], {});\n",
       "      } catch (error) {\n",
       "        console.error('Error during call to suggestCharts:', error);\n",
       "      }\n",
       "      quickchartButtonEl.classList.remove('colab-df-spinner');\n",
       "      quickchartButtonEl.classList.add('colab-df-quickchart-complete');\n",
       "    }\n",
       "    (() => {\n",
       "      let quickchartButtonEl =\n",
       "        document.querySelector('#df-553247d7-6b48-416e-acb4-289cdf4c463f button');\n",
       "      quickchartButtonEl.style.display =\n",
       "        google.colab.kernel.accessAllowed ? 'block' : 'none';\n",
       "    })();\n",
       "  </script>\n",
       "</div>\n",
       "    </div>\n",
       "  </div>\n"
      ],
      "text/plain": [
       "                                                 URL  \\\n",
       "0  https://kino.mail.ru/news/61905-serial-na-viho...   \n",
       "1  https://kino.mail.ru/news/61913-film-na-vecher...   \n",
       "2  https://kino.mail.ru/news/61900-treiler-dnya-m...   \n",
       "3  https://kino.mail.ru/news/61871-film-na-vecher...   \n",
       "4  https://kino.mail.ru/news/61854-treiler-dnya-7...   \n",
       "\n",
       "                                               Title  \\\n",
       "0  Сериал на выходные: едкая детективная комедия ...   \n",
       "1  Фильм на вечер: атмосферный фильм-катастрофа с...   \n",
       "2  Трейлер дня: Милла Йовович возвращается в трил...   \n",
       "3  Фильм на вечер: милая зомби-комедия со звездой...   \n",
       "4  Трейлер дня: 79-летний Майкл Дуглас играет Бен...   \n",
       "\n",
       "                                         Description  \\\n",
       "0  Рассказываем о густонаселенном сериале «Прести...   \n",
       "1  Погружаемся в апокалиптический триллер о франц...   \n",
       "2  Актриса снялась в новом экшене про пост-апокал...   \n",
       "3  Заряжаемся хулиганским настроением за просмотр...   \n",
       "4  В сериале «Франклин» актер в роли отца-основат...   \n",
       "\n",
       "                                        Article Text  \\\n",
       "0  В элитном поселке, где обитают сплошь богачи, ...   \n",
       "1  Мир охвачен паникой — повсюду наблюдаются аном...   \n",
       "2  Вышел дублированный трейлер фантастического тр...   \n",
       "3  Оставшись сиротой, юный Оливер оказывается в т...   \n",
       "4  Вышел трейлер костюмированной 8-серийной драмы...   \n",
       "\n",
       "                                            Keywords  \n",
       "0   СТАТЬЯ, ЧТО ПОСМОТРЕТЬ, ДРАМА, КОМЕДИЯ, ДЕТЕКТИВ  \n",
       "1  СТАТЬЯ, ЧТО ПОСМОТРЕТЬ, ДРАМА, ТРИЛЛЕР, ФАНТАС...  \n",
       "2                             СТАТЬЯ, ЧТО ПОСМОТРЕТЬ  \n",
       "3             СТАТЬЯ, ЧТО ПОСМОТРЕТЬ, КОМЕДИЯ, УЖАСЫ  \n",
       "4                             СТАТЬЯ, ЧТО ПОСМОТРЕТЬ  "
      ]
     },
     "execution_count": 13,
     "metadata": {},
     "output_type": "execute_result"
    }
   ],
   "source": [
    "news_vk_data.head()"
   ]
  },
  {
   "cell_type": "code",
   "execution_count": null,
   "metadata": {
    "id": "wYRoggDP0pGR"
   },
   "outputs": [],
   "source": []
  },
  {
   "cell_type": "code",
   "execution_count": 24,
   "metadata": {
    "colab": {
     "base_uri": "https://localhost:8080/",
     "height": 35
    },
    "id": "_f80emA5z6sY",
    "outputId": "a442e7fc-062b-4be6-970b-af22f0f3ad8a"
   },
   "outputs": [
    {
     "data": {
      "application/vnd.google.colaboratory.intrinsic+json": {
       "type": "string"
      },
      "text/plain": [
       "'Сериал на выходные: едкая детективная комедия с Розановой и Снигирь'"
      ]
     },
     "execution_count": 24,
     "metadata": {},
     "output_type": "execute_result"
    }
   ],
   "source": []
  },
  {
   "cell_type": "code",
   "execution_count": 31,
   "metadata": {
    "colab": {
     "base_uri": "https://localhost:8080/",
     "height": 178
    },
    "id": "8dAtQW7pz-UL",
    "outputId": "db40f7ca-15d7-414a-fc18-6ab2c87ae583"
   },
   "outputs": [
    {
     "data": {
      "application/vnd.google.colaboratory.intrinsic+json": {
       "type": "string"
      },
      "text/plain": [
       "'Сериал на выходные: едкая детективная комедия с Розановой и Снигирь Рассказываем о густонаселенном сериале «Престиж», где каждый герой наделен смачным пороком и парой скелетов в шкафу В элитном поселке, где обитают сплошь богачи, происходит убийство няни в одном из семейств. За расследование берется насквозь простывшая, но не утратившая ни капли проницательности сыщица Елизавета Егоровна (Ирина Розанова). Перед ней проплывает галерея порочных и несчастных хозяев дорогих коттеджей, а за ней тянется не менее колоритная выставка нянь: обманщиц и фальшивок. Каждый из этих персонажей может быть виновным в убийстве.  Клептомания, вранье, гордыня, цинизм и обыкновенная глупость — пороков героям отвешено с лихвой. Причем, наделены ими как богатые, так и бедные, что связывает сериал с такими образцами классовой сатиры, как оскароносные «Паразиты» или «Белый лотос». Детективная линия в «Престиже» крепко закручена, но бал здесь правит ирония. При этом многочисленные звездные исполнители, среди которых Юлия Снигирь, Любовь Толкалина, Настасья Самбурская, Ирина Дубцова, с явным удовольствием выдают утрированные характеры.'"
      ]
     },
     "execution_count": 31,
     "metadata": {},
     "output_type": "execute_result"
    }
   ],
   "source": [
    "news_vk_data.Title.iloc[0] + ' ' + news_vk_data.Description.iloc[0] + ' ' + news_vk_data.loc[:, 'Article Text'].iloc[0]"
   ]
  },
  {
   "cell_type": "code",
   "execution_count": 28,
   "metadata": {
    "id": "SCQyLm1m0CIr"
   },
   "outputs": [],
   "source": []
  },
  {
   "cell_type": "code",
   "execution_count": 21,
   "metadata": {
    "id": "r3av8A44rM4j"
   },
   "outputs": [],
   "source": [
    "from urllib.parse import urlparse\n",
    "\n",
    "# Function to extract domain\n",
    "def extract_domain(url):\n",
    "    parsed_url = urlparse(url)\n",
    "    return parsed_url.netloc\n",
    "\n",
    "# Apply the function to the DataFrame\n",
    "news_vk_data['domain'] = news_vk_data.URL.apply(extract_domain)"
   ]
  },
  {
   "cell_type": "code",
   "execution_count": 23,
   "metadata": {
    "colab": {
     "base_uri": "https://localhost:8080/"
    },
    "id": "BqzYc6U9q9L3",
    "outputId": "524277b9-2972-4762-fd82-5c866783af9f"
   },
   "outputs": [
    {
     "data": {
      "text/plain": [
       "domain\n",
       "kino.mail.ru    21093\n",
       "Name: count, dtype: int64"
      ]
     },
     "execution_count": 23,
     "metadata": {},
     "output_type": "execute_result"
    }
   ],
   "source": [
    "news_vk_data['domain'].value_counts()"
   ]
  },
  {
   "cell_type": "code",
   "execution_count": 19,
   "metadata": {
    "colab": {
     "base_uri": "https://localhost:8080/"
    },
    "id": "toMyWVhmqFgN",
    "outputId": "3496bf57-87a6-49a5-9330-c16dd9ef67a6"
   },
   "outputs": [
    {
     "data": {
      "text/plain": [
       "0        []\n",
       "1        []\n",
       "2        []\n",
       "3        []\n",
       "4        []\n",
       "         ..\n",
       "21088    []\n",
       "21089    []\n",
       "21090    []\n",
       "21091    []\n",
       "21092    []\n",
       "Name: URL, Length: 21093, dtype: object"
      ]
     },
     "execution_count": 19,
     "metadata": {},
     "output_type": "execute_result"
    }
   ],
   "source": [
    "news_vk_data.URL.str.findall('https://()\\.')"
   ]
  },
  {
   "cell_type": "code",
   "execution_count": 17,
   "metadata": {
    "colab": {
     "base_uri": "https://localhost:8080/"
    },
    "id": "DjmDw8P1pCTG",
    "outputId": "fe050f43-a980-4081-aecb-b105f5cb15af"
   },
   "outputs": [
    {
     "data": {
      "text/plain": [
       "Keywords\n",
       "СТАТЬЯ, ОБЗОРЫ, ДРАМА, ТРИЛЛЕР                                                                                                                                                                                                                            1\n",
       "СТАТЬЯ, ОБЗОРЫ, ИНТЕРВЬЮ, ДРАМА                                                                                                                                                                                                                           1\n",
       "СТАТЬЯ, ИСТОРИИ ПРО ЗВЕЗД, НОВОЕ ИМЯ, ТРИЛЛЕР, УЖАСЫ, ТРИЛЛЕР, ФАНТАСТИКА, ДРАМА, КОМЕДИЯ, ТРИЛЛЕР, ДЕТЕКТИВ, КРИМИНАЛ, ТРИЛЛЕР, БОЕВИК, ПРИКЛЮЧЕНИЯ                                                                                                      1\n",
       "СТАТЬЯ, ДРАМА, МЕЛОДРАМА, КОМЕДИЯ, ДРАМА, КОМЕДИЯ, ДРАМА, МЕЛОДРАМА, КОМЕДИЯ                                                                                                                                                                              1\n",
       "СТАТЬЯ, ОБЗОРЫ, ДРАМА, ФАНТАСТИКА, БОЕВИК, ПРИКЛЮЧЕНИЯ, ФЭНТЕЗИ, УЖАСЫ, ДРАМА, КОМЕДИЯ, КРИМИНАЛ, ДЕТЕКТИВ, ФЭНТЕЗИ, ПРИКЛЮЧЕНИЯ, ДРАМА, ТРИЛЛЕР, ДРАМА, КРИМИНАЛ, ДЕТЕКТИВ, ДРАМА, ДРАМА, ФАНТАСТИКА, ФЭНТЕЗИ, БОЕВИК, КРИМИНАЛ, ПРИКЛЮЧЕНИЯ, ВЕСТЕРН    1\n",
       "СТАТЬЯ, ОБЗОРЫ, БОЕВИК, ПРИКЛЮЧЕНИЯ, ФАНТАСТИКА, ФЭНТЕЗИ, БОЕВИК, ПРИКЛЮЧЕНИЯ, ФАНТАСТИКА, ДРАМА, БОЕВИК, ФАНТАСТИКА, ДРАМА, БОЕВИК, ФАНТАСТИКА, ФЭНТЕЗИ, БОЕВИК, ПРИКЛЮЧЕНИЯ, ФЭНТЕЗИ, БОЕВИК, ПРИКЛЮЧЕНИЯ, ФАНТАСТИКА                                   1\n",
       "СТАТЬЯ, ШОУ ТАЛАНТОВ                                                                                                                                                                                                                                      1\n",
       "СТАТЬЯ, ИНТЕРВЬЮ, КОМЕДИЯ, БОЕВИК, ФАНТАСТИКА, ФЭНТЕЗИ                                                                                                                                                                                                    1\n",
       "СТАТЬЯ, ДРАМА, ДРАМА, ВОЕННЫЙ                                                                                                                                                                                                                             1\n",
       "НОВОСТЬ, МАРК УОЛБЕРГ, МЭТТ ДЭЙМОН                                                                                                                                                                                                                        1\n",
       "Name: count, dtype: int64"
      ]
     },
     "execution_count": 17,
     "metadata": {},
     "output_type": "execute_result"
    }
   ],
   "source": [
    "news_vk_data.Keywords.value_counts().tail(10)"
   ]
  },
  {
   "cell_type": "code",
   "execution_count": null,
   "metadata": {
    "id": "VNlAq6XppCV6"
   },
   "outputs": [],
   "source": []
  },
  {
   "cell_type": "code",
   "execution_count": null,
   "metadata": {
    "id": "DQG55CXSpCYp"
   },
   "outputs": [],
   "source": []
  },
  {
   "cell_type": "code",
   "execution_count": 32,
   "metadata": {
    "id": "t42AC_1w0x60"
   },
   "outputs": [],
   "source": [
    "test = news_vk_data.Title.iloc[0] + ' ' + news_vk_data.Description.iloc[0] + ' ' + news_vk_data.loc[:, 'Article Text'].iloc[0]"
   ]
  },
  {
   "cell_type": "code",
   "execution_count": 49,
   "metadata": {
    "colab": {
     "base_uri": "https://localhost:8080/"
    },
    "id": "O4fpiRUY2_t6",
    "outputId": "6e803c46-f939-4438-e9f7-012b244553db"
   },
   "outputs": [
    {
     "data": {
      "text/plain": [
       "212.20077750912625"
      ]
     },
     "execution_count": 49,
     "metadata": {},
     "output_type": "execute_result"
    }
   ],
   "source": [
    "news_vk_data.loc[:, 'Article Text'].str.split().str.len().mean()"
   ]
  },
  {
   "cell_type": "code",
   "execution_count": 39,
   "metadata": {
    "colab": {
     "base_uri": "https://localhost:8080/"
    },
    "id": "ZnwmIH-bpAgp",
    "outputId": "aa8969f6-5baf-40ab-a4f7-e8e7e5f0e3ad"
   },
   "outputs": [
    {
     "name": "stdout",
     "output_type": "stream",
     "text": [
      " Политика: 40, Экономика: 50, Общество: 30, Закон и право: 90, Кино: 14, Телевидение: 77, Персоны: 50, События: 50, Бренды: 50, Наука: 50, Гаджеты: 50, Соцсети: 50, Технологии: 50, Опросы: 50, Головолом\n"
     ]
    }
   ],
   "source": [
    "instruct = prompt = \"\"\"\n",
    "У меня есть тема, которая содержит следующие документы:\n",
    "{text}\n",
    "Тема описывается следующими ключевыми словами: {keywords}\n",
    "\n",
    "На основе приведенной выше информации извлеките короткое, но очень описательное название темы, состоящее не более чем из 5 слов. Убедитесь, что оно имеет следующий формат:\n",
    "тема: <topic label>\n",
    "\"\"\"\n",
    "\n",
    "chat_template = 8.from_messages(\n",
    "    [\n",
    "        (\"system\", \"\"\"Ты редактор новостного агенства, и твоя задача извлекать тэги из новостей.\"\"\"),\n",
    "        (\"human\", instruct),\n",
    "    ]\n",
    ")\n",
    "\n",
    "topic = \"1. Создание преступного сообщества (преступной организации) в целях совершения одного или нескольких тяжких или особо тяжких преступлений либо руководство преступным сообществом (преступной организацией) или входящими в него (нее) структурными подразделениями,  а равно координация действий организованных групп, создание устойчивых связей между ними, разработка планов и создание условий для совершения преступлений  организованными группами, раздел сфер преступного влияния и (или) преступных доходов между такими группами - наказываются лишением свободы на срок от двенадцати до двадцати лет со штрафом в размере до пяти миллионов рублей или в размере заработной платы или иного дохода осужденного за период до пяти лет либо без такового и с ограничением свободы на срок от одного года до двух лет. (часть 1 в ред. Федерального закона от 01.04.2019 N 46-ФЗ) (см. текст в предыдущей редакции)\"\n",
    "\n",
    "news = \"На Украине захотели принять законопроект, который вводит военную подготовку в школах. Об этом пишет ТАСС со ссылкой на украинское издание «Судебно-юридическая газета». Комитет по вопросам молодежи и спорта Верховной рады рекомендовал украинскому парламенту принять за основу соответствующий законопроект. «Новый предмет \"Защита Украины\" будет введен в учреждениях общего среднего, профессионального (профессионально-технического), профессионального высшего, высшего образования», — уточнили в агентстве.Утверждается, что члены комитета поддержали законопроект. Они сочли, что нововведение будет способствовать «совершенствованию военной подготовки и военно-патриотического воспитания».Ранее стало известно, что старшеклассников на подконтрольных Украине территориях Запорожской области начали обучать военному делу и медицине. Об этом заявил представитель российского силового ведомства.Перед этим сообщалось, что в Полтавской области Украины решили научить школьников управлять беспилотными летательными аппаратами (БПЛА).\"\n",
    "kws = \"политика, Россия, Украина\"\n",
    "res = chat.invoke(chat_template.format_messages(text=news, keywords=kws))\n",
    "print(res.content)"
   ]
  },
  {
   "cell_type": "code",
   "execution_count": 53,
   "metadata": {
    "id": "85mjlVhW4VjY"
   },
   "outputs": [],
   "source": [
    "themes = ['Бренды', 'Красота']"
   ]
  },
  {
   "cell_type": "code",
   "execution_count": 1,
   "metadata": {
    "id": "BOdSPPmh4EDL"
   },
   "outputs": [],
   "source": [
    "def get_news(topic):\n",
    "    instruct = \"\"\"\n",
    "    Напиши статью-новость длиной в 200 слов со следующими тематиками\n",
    "\n",
    "    Тематики: ```{themes}```\"\n",
    "    \"\"\"\n",
    "\n",
    "    chat_template = ChatPromptTemplate.from_messages(\n",
    "        [\n",
    "            (\"system\", \"\"\"Ты очень талантливый новостной журналист, и твоя задача написать одну статью в журнал по заданным темам.\"\"\"),\n",
    "            (\"human\", instruct),\n",
    "        ]\n",
    "    )\n",
    "\n",
    "    res = chat.invoke(chat_template.format_messages(themes=topic))\n",
    "    return res.content"
   ]
  },
  {
   "cell_type": "code",
   "execution_count": 3,
   "metadata": {},
   "outputs": [
    {
     "ename": "NameError",
     "evalue": "name 'ChatPromptTemplate' is not defined",
     "output_type": "error",
     "traceback": [
      "\u001b[1;31m---------------------------------------------------------------------------\u001b[0m",
      "\u001b[1;31mNameError\u001b[0m                                 Traceback (most recent call last)",
      "Input \u001b[1;32mIn [3]\u001b[0m, in \u001b[0;36m<cell line: 3>\u001b[1;34m()\u001b[0m\n\u001b[0;32m      1\u001b[0m topic \u001b[38;5;241m=\u001b[39m \u001b[38;5;124m\"\u001b[39m\u001b[38;5;124m1. Создание преступного сообщества (преступной организации) в целях совершения одного или нескольких тяжких или особо тяжких преступлений либо руководство преступным сообществом (преступной организацией) или входящими в него (нее) структурными подразделениями,  а равно координация действий организованных групп, создание устойчивых связей между ними, разработка планов и создание условий для совершения преступлений  организованными группами, раздел сфер преступного влияния и (или) преступных доходов между такими группами - наказываются лишением свободы на срок от двенадцати до двадцати лет со штрафом в размере до пяти миллионов рублей или в размере заработной платы или иного дохода осужденного за период до пяти лет либо без такового и с ограничением свободы на срок от одного года до двух лет. (часть 1 в ред. Федерального закона от 01.04.2019 N 46-ФЗ) (см. текст в предыдущей редакции)\u001b[39m\u001b[38;5;124m\"\u001b[39m\n\u001b[1;32m----> 3\u001b[0m \u001b[38;5;28mprint\u001b[39m(\u001b[43mget_news\u001b[49m\u001b[43m(\u001b[49m\u001b[43mtopic\u001b[49m\u001b[43m)\u001b[49m)\n",
      "Input \u001b[1;32mIn [1]\u001b[0m, in \u001b[0;36mget_news\u001b[1;34m(topic)\u001b[0m\n\u001b[0;32m      1\u001b[0m \u001b[38;5;28;01mdef\u001b[39;00m \u001b[38;5;21mget_news\u001b[39m(topic):\n\u001b[0;32m      2\u001b[0m     instruct \u001b[38;5;241m=\u001b[39m \u001b[38;5;124m\"\"\"\u001b[39m\n\u001b[0;32m      3\u001b[0m \u001b[38;5;124m    Знания пароля не всегда достаточно, чтобы попасть в аккаунт — в некоторых случаях Яндекс проводит дополнительную проверку. Если в истории входов (https://passport.yandex.ru/profile/journal) нет подозрительных записей, это значит, что злоумышленник не смог её пройти. В этом случае Ваши данные остаются в безопасности, но пароль всё равно необходимо сменить на новый, известный только Вам.\u001b[39m\u001b[38;5;124m\"\u001b[39m\n\u001b[0;32m      4\u001b[0m \u001b[38;5;124m    \u001b[39m\u001b[38;5;124m\"\"\"\u001b[39m\n\u001b[1;32m----> 6\u001b[0m     chat_template \u001b[38;5;241m=\u001b[39m \u001b[43mChatPromptTemplate\u001b[49m\u001b[38;5;241m.\u001b[39mfrom_messages(\n\u001b[0;32m      7\u001b[0m         [\n\u001b[0;32m      8\u001b[0m             (\u001b[38;5;124m\"\u001b[39m\u001b[38;5;124msystem\u001b[39m\u001b[38;5;124m\"\u001b[39m, \u001b[38;5;124m\"\"\"\u001b[39m\u001b[38;5;124mТы очень талантливый новостной журналист, и твоя задача написать одну статью в журнал по заданным темам.\u001b[39m\u001b[38;5;124m\"\"\"\u001b[39m),\n\u001b[0;32m      9\u001b[0m             (\u001b[38;5;124m\"\u001b[39m\u001b[38;5;124mhuman\u001b[39m\u001b[38;5;124m\"\u001b[39m, instruct),\n\u001b[0;32m     10\u001b[0m         ]\n\u001b[0;32m     11\u001b[0m     )\n\u001b[0;32m     13\u001b[0m     res \u001b[38;5;241m=\u001b[39m chat\u001b[38;5;241m.\u001b[39minvoke(chat_template\u001b[38;5;241m.\u001b[39mformat_messages(themes\u001b[38;5;241m=\u001b[39mtopic))\n\u001b[0;32m     14\u001b[0m     \u001b[38;5;28;01mreturn\u001b[39;00m res\u001b[38;5;241m.\u001b[39mcontent\n",
      "\u001b[1;31mNameError\u001b[0m: name 'ChatPromptTemplate' is not defined"
     ]
    }
   ],
   "source": [
    "topic = \"1. Создание преступного сообщества (преступной организации) в целях совершения одного или нескольких тяжких или особо тяжких преступлений либо руководство преступным сообществом (преступной организацией) или входящими в него (нее) структурными подразделениями,  а равно координация действий организованных групп, создание устойчивых связей между ними, разработка планов и создание условий для совершения преступлений  организованными группами, раздел сфер преступного влияния и (или) преступных доходов между такими группами - наказываются лишением свободы на срок от двенадцати до двадцати лет со штрафом в размере до пяти миллионов рублей или в размере заработной платы или иного дохода осужденного за период до пяти лет либо без такового и с ограничением свободы на срок от одного года до двух лет. (часть 1 в ред. Федерального закона от 01.04.2019 N 46-ФЗ) (см. текст в предыдущей редакции)\"\n",
    "\n",
    "print(get_news(topic))"
   ]
  },
  {
   "cell_type": "code",
   "execution_count": null,
   "metadata": {},
   "outputs": [],
   "source": [
    "prompt = \"\"\"\n",
    "У меня есть тема, которая содержит следующие документы:\n",
    "[DOCUMENTS]\n",
    "Тема описывается следующими ключевыми словами: [KEYWORDS]\n",
    "\n",
    "На основе приведенной выше информации извлеките короткое, но очень описательное название темы, состоящее не более чем из 5 слов. Убедитесь, что оно имеет следующий формат:\n",
    "тема: <topic label>\n",
    "\"\"\"\n",
    "\n"
   ]
  },
  {
   "cell_type": "code",
   "execution_count": 4,
   "metadata": {
    "id": "KCcQP40PBwmD"
   },
   "outputs": [],
   "source": [
    "from tqdm import tqdm"
   ]
  },
  {
   "cell_type": "code",
   "execution_count": 37,
   "metadata": {
    "colab": {
     "base_uri": "https://localhost:8080/",
     "height": 125
    },
    "id": "4fONpj0PBj0E",
    "outputId": "55addf44-2cfe-4421-d78e-0dfe061a4084"
   },
   "outputs": [
    {
     "data": {
      "application/vnd.google.colaboratory.intrinsic+json": {
       "type": "string"
      },
      "text/plain": [
       "'Направление: Новости\\nТема: Опасные предупреждения и прогнозы погоды на ближайшие дни\\n\\nВ последние дни весны, погода в нашем регионе становилась все более нестабильной, и ученые предупреждают о приближении мощного циклона. \\n\\nСогласно прогнозам, в ближайшие дни ожидается гроза с сильными ветрами и ливнями. Это может привести к серьёзным последствиям, таким как разрушения, разрушение инфраструктуры и серьёзные разрушения. \\n\\nСледует быть осторожными и следовать инструкциям местных органов власти. Это поможет снизить риск и защитить людей и собственность. \\n\\nБудьте начеку, и следите за актуальной информацией!'"
      ]
     },
     "execution_count": 37,
     "metadata": {},
     "output_type": "execute_result"
    }
   ],
   "source": [
    "topics_extra = {'Погода': [],\n",
    "                'Рецепты': [],\n",
    "                'Опросы': [],\n",
    "                'Головоломки': []}\n",
    "\n",
    "get_news(list(topics_extra.keys())[0])"
   ]
  },
  {
   "cell_type": "code",
   "execution_count": null,
   "metadata": {
    "id": "0e8drYw6Eni2"
   },
   "outputs": [],
   "source": []
  },
  {
   "cell_type": "code",
   "execution_count": 38,
   "metadata": {
    "colab": {
     "base_uri": "https://localhost:8080/"
    },
    "id": "RhxGorqXDGWU",
    "outputId": "ac66942a-909c-4cd7-e4a4-e9f075c0c146"
   },
   "outputs": [
    {
     "name": "stderr",
     "output_type": "stream",
     "text": [
      "  0%|          | 0/4 [00:00<?, ?it/s]\n",
      "  0%|          | 0/10 [00:00<?, ?it/s]\u001b[A\n",
      " 10%|█         | 1/10 [02:15<20:22, 135.83s/it]\u001b[A\n",
      " 20%|██        | 2/10 [03:00<10:56, 82.01s/it] \u001b[A\n",
      " 30%|███       | 3/10 [04:19<09:23, 80.56s/it]\u001b[A\n",
      " 40%|████      | 4/10 [05:23<07:24, 74.12s/it]\u001b[A\n",
      " 50%|█████     | 5/10 [06:19<05:37, 67.50s/it]\u001b[A\n",
      " 60%|██████    | 6/10 [07:09<04:07, 61.83s/it]\u001b[A\n",
      " 70%|███████   | 7/10 [07:37<02:32, 50.71s/it]\u001b[A\n",
      " 80%|████████  | 8/10 [08:13<01:31, 45.93s/it]\u001b[A\n",
      " 90%|█████████ | 9/10 [10:52<01:21, 81.42s/it]\u001b[A\n",
      "100%|██████████| 10/10 [11:42<00:00, 70.24s/it]\n",
      " 25%|██▌       | 1/4 [11:42<35:07, 702.43s/it]\n",
      "  0%|          | 0/10 [00:00<?, ?it/s]\u001b[A\n",
      " 10%|█         | 1/10 [02:01<18:12, 121.43s/it]\u001b[A\n",
      " 20%|██        | 2/10 [04:08<16:36, 124.53s/it]\u001b[A\n",
      " 30%|███       | 3/10 [05:28<12:10, 104.41s/it]\u001b[A\n",
      " 40%|████      | 4/10 [06:22<08:25, 84.33s/it] \u001b[A\n",
      " 50%|█████     | 5/10 [07:37<06:44, 80.99s/it]\u001b[A\n",
      " 60%|██████    | 6/10 [09:48<06:31, 97.98s/it]\u001b[A\n",
      " 70%|███████   | 7/10 [10:30<03:59, 79.91s/it]\u001b[A\n",
      " 80%|████████  | 8/10 [12:59<03:23, 101.69s/it]\u001b[A\n",
      " 90%|█████████ | 9/10 [15:35<01:58, 118.62s/it]\u001b[A\n",
      "100%|██████████| 10/10 [17:52<00:00, 107.27s/it]\n",
      " 50%|█████     | 2/4 [29:35<30:40, 920.27s/it]\n",
      "  0%|          | 0/10 [00:00<?, ?it/s]\u001b[A\n",
      " 10%|█         | 1/10 [01:00<09:06, 60.75s/it]\u001b[A\n",
      " 20%|██        | 2/10 [02:00<08:01, 60.15s/it]\u001b[A\n",
      " 30%|███       | 3/10 [02:57<06:52, 58.94s/it]\u001b[A\n",
      " 40%|████      | 4/10 [03:57<05:55, 59.28s/it]\u001b[A\n",
      " 50%|█████     | 5/10 [06:20<07:26, 89.34s/it]\u001b[A\n",
      " 60%|██████    | 6/10 [07:24<05:23, 80.86s/it]\u001b[A\n",
      " 70%|███████   | 7/10 [09:49<05:04, 101.57s/it]\u001b[A\n",
      " 80%|████████  | 8/10 [10:41<02:51, 85.88s/it] \u001b[A\n",
      " 90%|█████████ | 9/10 [11:21<01:11, 71.70s/it]\u001b[A\n",
      "100%|██████████| 10/10 [11:42<00:00, 70.27s/it]\n",
      " 75%|███████▌  | 3/4 [41:17<13:40, 820.94s/it]\n",
      "  0%|          | 0/10 [00:00<?, ?it/s]\u001b[A\n",
      " 10%|█         | 1/10 [01:05<09:47, 65.31s/it]\u001b[A\n",
      " 20%|██        | 2/10 [03:31<15:01, 112.67s/it]\u001b[A\n",
      " 30%|███       | 3/10 [06:15<15:55, 136.45s/it]\u001b[A\n",
      " 40%|████      | 4/10 [07:23<10:56, 109.35s/it]\u001b[A\n",
      " 50%|█████     | 5/10 [09:40<09:56, 119.35s/it]\u001b[A\n",
      " 60%|██████    | 6/10 [12:11<08:40, 130.13s/it]\u001b[A\n",
      " 70%|███████   | 7/10 [13:43<05:52, 117.65s/it]\u001b[A\n",
      " 80%|████████  | 8/10 [16:26<04:24, 132.01s/it]\u001b[A\n",
      " 90%|█████████ | 9/10 [17:28<01:50, 110.26s/it]\u001b[A\n",
      "100%|██████████| 10/10 [18:25<00:00, 110.58s/it]\n",
      "100%|██████████| 4/4 [59:43<00:00, 895.94s/it]\n"
     ]
    }
   ],
   "source": [
    "for topic in tqdm(list(topics_extra.keys())):\n",
    "    for num in tqdm(range(0, 10)):\n",
    "        res_gen_news = get_news(topic)\n",
    "        topics_extra[topic].append(res_gen_news)"
   ]
  },
  {
   "cell_type": "code",
   "execution_count": 40,
   "metadata": {
    "id": "nvZ2P_aFDGZA"
   },
   "outputs": [],
   "source": [
    "extra_articles = pd.DataFrame(topics_extra)"
   ]
  },
  {
   "cell_type": "code",
   "execution_count": 41,
   "metadata": {
    "colab": {
     "base_uri": "https://localhost:8080/",
     "height": 606
    },
    "id": "bNjMy418DGcZ",
    "outputId": "12b0ad03-15cf-44ed-b23e-3287597b81cc"
   },
   "outputs": [
    {
     "data": {
      "application/vnd.google.colaboratory.intrinsic+json": {
       "summary": "{\n  \"name\": \"extra_articles\",\n  \"rows\": 10,\n  \"fields\": [\n    {\n      \"column\": \"\\u041f\\u043e\\u0433\\u043e\\u0434\\u0430\",\n      \"properties\": {\n        \"dtype\": \"string\",\n        \"num_unique_values\": 10,\n        \"samples\": [\n          \"\\u041d\\u043e\\u0432\\u043e\\u0441\\u0442\\u0438 \\u043f\\u043e\\u0433\\u043e\\u0434\\u044b: \\u043f\\u0440\\u0438\\u0431\\u043b\\u0438\\u0436\\u0430\\u0435\\u0442\\u0441\\u044f \\u0441\\u0435\\u0437\\u043e\\u043d \\u0442\\u0443\\u043c\\u0430\\u043d\\u043e\\u0432 \\u0438 \\u0434\\u043e\\u0436\\u0434\\u0435\\u0439\\n\\n\\u0421\\u0435\\u0433\\u043e\\u0434\\u043d\\u044f \\u0441\\u0442\\u0430\\u043b\\u043e \\u0438\\u0437\\u0432\\u0435\\u0441\\u0442\\u043d\\u043e, \\u0447\\u0442\\u043e \\u043f\\u0440\\u0438\\u0431\\u043b\\u0438\\u0436\\u0430\\u0435\\u0442\\u0441\\u044f \\u0441\\u0435\\u0437\\u043e\\u043d \\u0442\\u0443\\u043c\\u0430\\u043d\\u043e\\u0432 \\u0438 \\u0434\\u043e\\u0436\\u0434\\u0435\\u0439 \\u0432 \\u043d\\u0430\\u0448\\u0435\\u0439 \\u0441\\u0442\\u0440\\u0430\\u043d\\u0435. \\u0412 \\u044d\\u0442\\u043e \\u0432\\u0440\\u0435\\u043c\\u044f \\u0433\\u043e\\u0434\\u0430, \\u043a\\u0430\\u043a \\u043f\\u0440\\u0430\\u0432\\u0438\\u043b\\u043e, \\u043f\\u043e\\u0433\\u043e\\u0434\\u043d\\u044b\\u0435 \\u0443\\u0441\\u043b\\u043e\\u0432\\u0438\\u044f \\u0434\\u043b\\u044f \\u043c\\u043d\\u043e\\u0433\\u0438\\u0445 \\u043b\\u044e\\u0434\\u0435\\u0439 \\u0441\\u0442\\u0430\\u043d\\u043e\\u0432\\u044f\\u0442\\u0441\\u044f \\u043d\\u0435 \\u0441\\u0430\\u043c\\u044b\\u043c\\u0438 \\u043f\\u0440\\u0438\\u044f\\u0442\\u043d\\u044b\\u043c\\u0438. \\u0412 \\u044d\\u0442\\u043e \\u0432\\u0440\\u0435\\u043c\\u044f \\u0433\\u043e\\u0434\\u0430, \\u043a\\u0430\\u043a \\u043f\\u0440\\u0430\\u0432\\u0438\\u043b\\u043e, \\u043f\\u043e\\u0433\\u043e\\u0434\\u043d\\u044b\\u0435 \\u0443\\u0441\\u043b\\u043e\\u0432\\u0438\\u044f \\u0434\\u043b\\u044f \\u043c\\u043d\\u043e\\u0433\\u0438\\u0445 \\u043b\\u044e\\u0434\\u0435\\u0439 \\u0441\\u0442\\u0430\\u043d\\u043e\\u0432\\u044f\\u0442\\u0441\\u044f \\u043d\\u0435 \\u0441\\u0430\\u043c\\u044b\\u043c\\u0438 \\u043f\\u0440\\u0438\\u044f\\u0442\\u043d\\u044b\\u043c\\u0438.\\n\\n\\u0421\\u043e\\u0433\\u043b\\u0430\\u0441\\u043d\\u043e \\u043f\\u0440\\u043e\\u0433\\u043d\\u043e\\u0437\\u0430\\u043c \\u043c\\u0435\\u0442\\u0435\\u043e\\u0440\\u043e\\u043b\\u043e\\u0433\\u043e\\u0432, \\u044d\\u0442\\u043e \\u0441\\u0435\\u0437\\u043e\\u043d \\u0434\\u043b\\u044f \\u0442\\u0443\\u043c\\u0430\\u043d\\u043e\\u0432, \\u0434\\u043e\\u0436\\u0434\\u0435\\u0439 \\u0438 \\u0441\\u0438\\u043b\\u044c\\u043d\\u044b\\u0445 \\u0432\\u0435\\u0442\\u0440\\u043e\\u0432. \\u0412 \\u044d\\u0442\\u043e \\u0432\\u0440\\u0435\\u043c\\u044f \\u0433\\u043e\\u0434\\u0430, \\u043a\\u0430\\u043a \\u043f\\u0440\\u0430\\u0432\\u0438\\u043b\\u043e, \\u043f\\u043e\\u0433\\u043e\\u0434\\u043d\\u044b\\u0435 \\u0443\\u0441\\u043b\\u043e\\u0432\\u0438\\u044f \\u0434\\u043b\\u044f \\u043c\\u043d\\u043e\\u0433\\u0438\\u0445 \\u043b\\u044e\\u0434\\u0435\\u0439 \\u0441\\u0442\\u0430\\u043d\\u043e\\u0432\\u044f\\u0442\\u0441\\u044f \\u043d\\u0435 \\u0441\\u0430\\u043c\\u044b\\u043c\\u0438 \\u043f\\u0440\\u0438\\u044f\\u0442\\u043d\\u044b\\u043c\\u0438.\\n\\n\\u0421\\u0435\\u0433\\u043e\\u0434\\u043d\\u044f \\u0441\\u0442\\u0430\\u043b\\u043e \\u0438\\u0437\\u0432\\u0435\\u0441\\u0442\\u043d\\u043e, \\u0447\\u0442\\u043e \\u044d\\u0442\\u043e \\u0441\\u0435\\u0437\\u043e\\u043d \\u0434\\u043b\\u044f \\u0442\\u0443\\u043c\\u0430\\u043d\\u043e\\u0432, \\u0434\\u043e\\u0436\\u0434\\u0435\\u0439 \\u0438 \\u0441\\u0438\\u043b\\u044c\\u043d\\u044b\\u0445 \\u0432\\u0435\\u0442\\u0440\\u043e\\u0432. \\u0412 \\u044d\\u0442\\u043e \\u0432\\u0440\\u0435\\u043c\\u044f \\u0433\\u043e\\u0434\\u0430, \\u043a\\u0430\\u043a \\u043f\\u0440\\u0430\\u0432\\u0438\\u043b\\u043e, \\u043f\\u043e\\u0433\\u043e\\u0434\\u043d\\u044b\\u0435 \\u0443\\u0441\\u043b\\u043e\\u0432\\u0438\\u044f \\u0434\\u043b\\u044f \\u043c\\u043d\\u043e\\u0433\\u0438\\u0445 \\u043b\\u044e\\u0434\\u0435\\u0439 \\u0441\\u0442\\u0430\\u043d\\u043e\\u0432\\u044f\\u0442\\u0441\\u044f \\u043d\\u0435 \\u0441\\u0430\\u043c\\u044b\\u043c\\u0438 \\u043f\\u0440\\u0438\\u044f\\u0442\\u043d\\u044b\\u043c\\u0438.\\n\\n\\u041c\\u0435\\u0442\\u0435\\u043e\\u0440\\u043e\\u043b\\u043e\\u0433\\u0438 \\u043f\\u0440\\u0435\\u0434\\u0443\\u043f\\u0440\\u0435\\u0436\\u0434\\u0430\\u044e\\u0442 \\u0436\\u0438\\u0442\\u0435\\u043b\\u0435\\u0439 \\u043d\\u0430\\u0448\\u0435\\u0439 \\u0441\\u0442\\u0440\\u0430\\u043d\\u044b \\u0431\\u044b\\u0442\\u044c \\u0430\\u043a\\u043a\\u0443\\u0440\\u0430\\u0442\\u043d\\u044b\\u043c\\u0438 \\u043f\\u0440\\u0438 \\u043f\\u0440\\u043e\\u0433\\u0443\\u043b\\u043a\\u0430\\u0445, \\u0432\\u0435\\u0434\\u044c \\u044d\\u0442\\u043e \\u0441\\u0435\\u0437\\u043e\\u043d \\u0434\\u043b\\u044f \\u0442\\u0443\\u043c\\u0430\\u043d\\u043e\\u0432, \\u0434\\u043e\\u0436\\u0434\\u0435\\u0439 \\u0438 \\u0441\\u0438\\u043b\\u044c\\u043d\\u044b\\u0445 \\u0432\\u0435\\u0442\\u0440\\u043e\\u0432. \\u0412 \\u044d\\u0442\\u043e \\u0432\\u0440\\u0435\\u043c\\u044f \\u0433\\u043e\\u0434\\u0430, \\u043a\\u0430\\u043a \\u043f\\u0440\\u0430\\u0432\\u0438\\u043b\\u043e, \\u043f\\u043e\\u0433\\u043e\\u0434\\u043d\\u044b\\u0435 \\u0443\\u0441\\u043b\\u043e\\u0432\\u0438\\u044f \\u0434\\u043b\\u044f \\u043c\\u043d\\u043e\\u0433\\u0438\\u0445 \\u043b\\u044e\\u0434\\u0435\\u0439 \\u0441\\u0442\\u0430\\u043d\\u043e\\u0432\\u044f\\u0442\\u0441\\u044f \\u043d\\u0435 \\u0441\\u0430\\u043c\\u044b\\u043c\\u0438 \\u043f\\u0440\\u0438\\u044f\\u0442\\u043d\\u044b\\u043c\\u0438.\\n\\n\\u041d\\u0430\\u0434\\u0435\\u0435\\u043c\\u0441\\u044f, \\u0447\\u0442\\u043e \\u044d\\u0442\\u043e \\u0441\\u0435\\u0437\\u043e\\u043d \\u0434\\u043b\\u044f \\u0442\\u0443\\u043c\\u0430\\u043d\\u043e\\u0432, \\u0434\\u043e\\u0436\\u0434\\u0435\\u0439 \\u0438 \\u0441\\u0438\\u043b\\u044c\\u043d\\u044b\\u0445 \\u0432\\u0435\\u0442\\u0440\\u043e\\u0432, \\u044d\\u0442\\u043e \\u0441\\u0435\\u0437\\u043e\\u043d \\u0434\\u043b\\u044f \\u0442\\u0443\\u043c\\u0430\\u043d\\u043e\\u0432, \\u0434\\u043e\\u0436\\u0434\\u0435\\u0439 \\u0438 \\u0441\\u0438\\u043b\\u044c\\u043d\\u044b\\u0445 \\u0432\\u0435\\u0442\\u0440\\u043e\\u0432. \\u0412 \\u044d\\u0442\\u043e \\u0432\\u0440\\u0435\\u043c\\u044f \\u0433\\u043e\\u0434\\u0430, \\u043a\\u0430\\u043a \\u043f\\u0440\\u0430\\u0432\\u0438\\u043b\\u043e, \\u043f\\u043e\\u0433\\u043e\\u0434\\u043d\\u044b\\u0435 \\u0443\\u0441\\u043b\\u043e\\u0432\\u0438\\u044f \\u0434\\u043b\\u044f \\u043c\\u043d\\u043e\\u0433\\u0438\\u0445 \\u043b\\u044e\\u0434\\u0435\\u0439 \\u0441\\u0442\\u0430\\u043d\\u043e\\u0432\\u044f\\u0442\\u0441\\u044f \\u043d\\u0435 \\u0441\\u0430\\u043c\\u044b\\u043c\\u0438 \\u043f\\u0440\\u0438\\u044f\\u0442\\u043d\\u044b\\u043c\\u0438.\\n\\n\\u041d\\u0430\\u0434\\u0435\\u0435\\u043c\\u0441\\u044f, \\u0447\\u0442\\u043e \\u044d\\u0442\\u043e \\u0441\\u0435\\u0437\\u043e\\u043d \\u0434\\u043b\\u044f \\u0442\\u0443\\u043c\\u0430\\u043d\\u043e\\u0432, \\u0434\\u043e\\u0436\\u0434\\u0435\\u0439 \\u0438 \\u0441\\u0438\\u043b\\u044c\\u043d\\u044b\\u0445 \\u0432\\u0435\\u0442\\u0440\\u043e\\u0432, \\u044d\\u0442\\u043e \\u0441\\u0435\\u0437\\u043e\\u043d \\u0434\\u043b\\u044f \\u0442\\u0443\\u043c\\u0430\\u043d\\u043e\\u0432, \\u0434\\u043e\\u0436\\u0434\\u0435\\u0439 \\u0438 \\u0441\\u0438\\u043b\\u044c\\u043d\\u044b\\u0445 \\u0432\\u0435\\u0442\\u0440\\u043e\\u0432. \\u0412 \\u044d\\u0442\\u043e \\u0432\\u0440\\u0435\\u043c\\u044f \\u0433\\u043e\\u0434\\u0430, \\u043a\\u0430\\u043a \\u043f\\u0440\\u0430\\u0432\\u0438\\u043b\\u043e, \\u043f\\u043e\\u0433\\u043e\\u0434\\u043d\\u044b\\u0435 \\u0443\\u0441\\u043b\\u043e\\u0432\\u0438\\u044f \\u0434\\u043b\\u044f \\u043c\\u043d\\u043e\\u0433\\u0438\\u0445 \\u043b\\u044e\\u0434\\u0435\\u0439 \\u0441\\u0442\\u0430\\u043d\\u043e\\u0432\\u044f\\u0442\\u0441\\u044f \\u043d\\u0435 \\u0441\\u0430\\u043c\\u044b\\u043c\\u0438 \\u043f\\u0440\\u0438\\u044f\\u0442\\u043d\\u044b\\u043c\\u0438.\\n\\n\\u0418, \\u043a\\u0430\\u043a \\u044d\\u0442\\u043e \\u043d\\u0438 \\u043f\\u0435\\u0447\\u0430\\u043b\\u044c\\u043d\\u043e, \\u044d\\u0442\\u043e \\u0441\\u0435\\u0437\\u043e\\u043d \\u0434\\u043b\\u044f \\u0442\\u0443\\u043c\\u0430\\u043d\\u043e\\u0432, \\u0434\\u043e\\u0436\\u0434\\u0435\\u0439 \\u0438 \\u0441\\u0438\\u043b\\u044c\\u043d\\u044b\\u0445 \\u0432\\u0435\\u0442\\u0440\\u043e\\u0432. \\u0412 \\u044d\\u0442\\u043e \\u0432\\u0440\\u0435\\u043c\\u044f \\u0433\\u043e\\u0434\\u0430, \\u043a\\u0430\\u043a \\u043f\\u0440\\u0430\\u0432\\u0438\\u043b\\u043e, \\u043f\\u043e\\u0433\\u043e\\u0434\\u043d\\u044b\\u0435 \\u0443\\u0441\\u043b\\u043e\\u0432\\u0438\\u044f \\u0434\\u043b\\u044f \\u043c\\u043d\\u043e\\u0433\\u0438\\u0445 \\u043b\\u044e\\u0434\\u0435\\u0439 \\u0441\\u0442\\u0430\\u043d\\u043e\\u0432\\u044f\\u0442\\u0441\\u044f \\u043d\\u0435 \\u0441\\u0430\\u043c\\u044b\\u043c\\u0438 \\u043f\\u0440\\u0438\\u044f\\u0442\\u043d\\u044b\\u043c\\u0438.\\n\\n\\u041d\\u0430\\u0434\\u0435\\u0435\\u043c\\u0441\\u044f, \\u0447\\u0442\\u043e \\u044d\\u0442\\u043e \\u0441\\u0435\\u0437\\u043e\\u043d \\u0434\\u043b\\u044f \\u0442\\u0443\\u043c\\u0430\\u043d\\u043e\\u0432, \\u0434\\u043e\\u0436\\u0434\\u0435\\u0439 \\u0438 \\u0441\\u0438\\u043b\\u044c\\u043d\\u044b\\u0445 \\u0432\\u0435\\u0442\\u0440\\u043e\\u0432, \\u044d\\u0442\\u043e \\u0441\\u0435\\u0437\\u043e\\u043d \\u0434\\u043b\\u044f \\u0442\\u0443\\u043c\\u0430\\u043d\\u043e\\u0432, \\u0434\\u043e\\u0436\\u0434\\u0435\\u0439 \\u0438 \\u0441\\u0438\\u043b\\u044c\\u043d\\u044b\\u0445 \\u0432\\u0435\\u0442\\u0440\\u043e\\u0432. \\u0412 \\u044d\\u0442\\u043e \\u0432\\u0440\\u0435\\u043c\\u044f \\u0433\\u043e\\u0434\\u0430, \\u043a\\u0430\\u043a \\u043f\\u0440\\u0430\\u0432\\u0438\\u043b\\u043e, \\u043f\\u043e\\u0433\\u043e\\u0434\\u043d\\u044b\\u0435 \\u0443\\u0441\\u043b\\u043e\\u0432\\u0438\\u044f \\u0434\\u043b\\u044f \\u043c\\u043d\\u043e\\u0433\\u0438\\u0445 \\u043b\\u044e\\u0434\\u0435\\u0439 \\u0441\\u0442\\u0430\\u043d\\u043e\\u0432\\u044f\\u0442\\u0441\\u044f \\u043d\\u0435 \\u0441\\u0430\\u043c\\u044b\\u043c\\u0438 \\u043f\\u0440\\u0438\\u044f\\u0442\\u043d\\u044b\\u043c\\u0438.\\n\\n\\u0418, \\u043a\\u0430\\u043a \\u044d\\u0442\\u043e \\u043d\\u0438 \\u043f\\u0435\\u0447\\u0430\\u043b\\u044c\\u043d\\u043e, \\u044d\\u0442\\u043e \\u0441\\u0435\\u0437\\u043e\\u043d \\u0434\\u043b\\u044f \\u0442\\u0443\\u043c\\u0430\\u043d\\u043e\\u0432, \\u0434\\u043e\\u0436\\u0434\\u0435\\u0439 \\u0438 \\u0441\\u0438\\u043b\\u044c\\u043d\\u044b\\u0445 \\u0432\\u0435\\u0442\\u0440\\u043e\\u0432. \\u0412 \\u044d\\u0442\\u043e \\u0432\\u0440\\u0435\\u043c\\u044f \\u0433\\u043e\\u0434\\u0430, \\u043a\\u0430\\u043a \\u043f\\u0440\\u0430\\u0432\\u0438\\u043b\\u043e, \\u043f\\u043e\\u0433\\u043e\\u0434\\u043d\\u044b\\u0435 \\u0443\\u0441\\u043b\\u043e\\u0432\\u0438\\u044f \\u0434\\u043b\\u044f \\u043c\\u043d\\u043e\\u0433\\u0438\\u0445 \\u043b\\u044e\\u0434\\u0435\\u0439 \\u0441\\u0442\\u0430\\u043d\\u043e\\u0432\\u044f\\u0442\\u0441\\u044f \\u043d\\u0435 \\u0441\\u0430\\u043c\\u044b\\u043c\\u0438 \\u043f\\u0440\\u0438\\u044f\\u0442\\u043d\\u044b\\u043c\\u0438.\\n\\n\\u041d\\u0430\\u0434\\u0435\\u0435\\u043c\\u0441\\u044f, \\u0447\\u0442\\u043e \\u044d\\u0442\\u043e \\u0441\\u0435\\u0437\\u043e\\u043d \\u0434\\u043b\\u044f \\u0442\\u0443\\u043c\\u0430\\u043d\\u043e\\u0432, \\u0434\\u043e\\u0436\\u0434\\u0435\\u0439 \\u0438 \\u0441\\u0438\\u043b\\u044c\\u043d\\u044b\\u0445 \\u0432\\u0435\\u0442\\u0440\\u043e\\u0432, \\u044d\\u0442\\u043e \\u0441\\u0435\\u0437\\u043e\\u043d \\u0434\\u043b\\u044f \\u0442\\u0443\\u043c\\u0430\\u043d\\u043e\\u0432, \\u0434\\u043e\\u0436\\u0434\\u0435\\u0439 \\u0438 \\u0441\\u0438\\u043b\\u044c\\u043d\\u044b\\u0445 \\u0432\\u0435\\u0442\\u0440\\u043e\\u0432. \\u0412 \\u044d\\u0442\\u043e \\u0432\\u0440\\u0435\\u043c\\u044f \\u0433\\u043e\\u0434\\u0430, \\u043a\\u0430\\u043a \\u043f\\u0440\\u0430\\u0432\\u0438\\u043b\\u043e, \\u043f\\u043e\\u0433\\u043e\\u0434\\u043d\\u044b\\u0435 \\u0443\\u0441\\u043b\\u043e\\u0432\\u0438\\u044f \\u0434\\u043b\\u044f \\u043c\\u043d\\u043e\\u0433\\u0438\\u0445 \\u043b\\u044e\\u0434\\u0435\\u0439 \\u0441\\u0442\\u0430\\u043d\\u043e\\u0432\\u044f\\u0442\\u0441\\u044f \\u043d\\u0435 \\u0441\\u0430\\u043c\\u044b\\u043c\\u0438 \\u043f\\u0440\\u0438\\u044f\\u0442\\u043d\\u044b\\u043c\\u0438.\\n\\n\\u0418, \\u043a\\u0430\\u043a \\u044d\\u0442\\u043e \\u043d\\u0438 \\u043f\\u0435\\u0447\\u0430\\u043b\\u044c\\u043d\\u043e, \\u044d\\u0442\\u043e \\u0441\\u0435\\u0437\\u043e\\u043d \\u0434\\u043b\\u044f \\u0442\\u0443\\u043c\\u0430\\u043d\\u043e\\u0432, \\u0434\\u043e\\u0436\\u0434\\u0435\\u0439 \\u0438 \\u0441\\u0438\\u043b\\u044c\\u043d\\u044b\\u0445 \\u0432\\u0435\\u0442\\u0440\\u043e\\u0432. \\u0412 \\u044d\\u0442\\u043e \\u0432\\u0440\\u0435\\u043c\\u044f \\u0433\\u043e\\u0434\\u0430, \\u043a\\u0430\\u043a \\u043f\\u0440\\u0430\\u0432\\u0438\\u043b\\u043e, \\u043f\\u043e\\u0433\\u043e\\u0434\\u043d\\u044b\\u0435 \\u0443\\u0441\\u043b\\u043e\\u0432\\u0438\\u044f \\u0434\\u043b\\u044f \\u043c\\u043d\\u043e\\u0433\\u0438\\u0445 \\u043b\\u044e\\u0434\\u0435\\u0439 \\u0441\\u0442\\u0430\\u043d\\u043e\\u0432\\u044f\\u0442\\u0441\\u044f \\u043d\\u0435 \\u0441\\u0430\\u043c\\u044b\\u043c\\u0438 \\u043f\\u0440\\u0438\\u044f\\u0442\\u043d\\u044b\\u043c\\u0438.\\n\\n\\u041d\\u0430\\u0434\\u0435\\u0435\\u043c\\u0441\\u044f, \\u0447\\u0442\\u043e \\u044d\\u0442\\u043e \\u0441\\u0435\\u0437\\u043e\\u043d \\u0434\\u043b\\u044f \\u0442\\u0443\\u043c\\u0430\\u043d\\u043e\\u0432, \\u0434\\u043e\\u0436\\u0434\\u0435\\u0439 \\u0438 \\u0441\\u0438\\u043b\\u044c\\u043d\\u044b\\u0445 \\u0432\\u0435\\u0442\\u0440\\u043e\\u0432, \\u044d\\u0442\\u043e \\u0441\\u0435\\u0437\\u043e\\u043d \\u0434\\u043b\\u044f \\u0442\\u0443\\u043c\\u0430\\u043d\\u043e\\u0432, \\u0434\\u043e\\u0436\\u0434\\u0435\\u0439 \\u0438 \\u0441\\u0438\\u043b\\u044c\\u043d\\u044b\\u0445 \\u0432\\u0435\\u0442\\u0440\\u043e\\u0432. \\u0412 \\u044d\\u0442\\u043e \\u0432\\u0440\\u0435\\u043c\\u044f \\u0433\\u043e\\u0434\\u0430, \\u043a\\u0430\\u043a \\u043f\\u0440\\u0430\\u0432\\u0438\\u043b\\u043e,\",\n          \"\\u041d\\u043e\\u0432\\u044b\\u0439 \\u0440\\u0435\\u043a\\u043e\\u0440\\u0434 \\u043f\\u043e \\u0442\\u0435\\u043c\\u043f\\u0435\\u0440\\u0430\\u0442\\u0443\\u0440\\u0435 \\u0443\\u0441\\u0442\\u0430\\u043d\\u043e\\u0432\\u0438\\u043b\\u0438 \\u0432 \\u041c\\u043e\\u0441\\u043a\\u0432\\u0435\\n\\n\\u0412\\u0447\\u0435\\u0440\\u0430 \\u0432 \\u041c\\u043e\\u0441\\u043a\\u0432\\u0435 \\u0443\\u0441\\u0442\\u0430\\u043d\\u043e\\u0432\\u0438\\u043b\\u0438 \\u043d\\u043e\\u0432\\u044b\\u0439 \\u0440\\u0435\\u043a\\u043e\\u0440\\u0434 \\u043f\\u043e \\u0442\\u0435\\u043c\\u043f\\u0435\\u0440\\u0430\\u0442\\u0443\\u0440\\u0435. \\u0412 \\u041c\\u043e\\u0441\\u043a\\u0432\\u0435 \\u0431\\u044b\\u043b\\u043e \\u043e\\u0447\\u0435\\u043d\\u044c \\u0442\\u0435\\u043f\\u043b\\u043e, \\u0438 \\u0442\\u0435\\u043c\\u043f\\u0435\\u0440\\u0430\\u0442\\u0443\\u0440\\u0430 \\u0434\\u043e\\u0441\\u0442\\u0438\\u0433\\u043b\\u0430 \\u0440\\u0435\\u043a\\u043e\\u0440\\u0434\\u043d\\u043e\\u0439 \\u043e\\u0442\\u043c\\u0435\\u0442\\u043a\\u0438 \\u0432 26 \\u0433\\u0440\\u0430\\u0434\\u0443\\u0441\\u043e\\u0432 \\u043f\\u043e \\u0448\\u043a\\u0430\\u043b\\u0435 \\u0426\\u0435\\u043b\\u044c\\u0441\\u0438\\u044f. \\u042d\\u0442\\u043e \\u043f\\u0435\\u0440\\u0432\\u044b\\u0439 \\u0440\\u0430\\u0437, \\u043a\\u043e\\u0433\\u0434\\u0430 \\u0442\\u0435\\u043c\\u043f\\u0435\\u0440\\u0430\\u0442\\u0443\\u0440\\u0430 \\u0432 \\u041c\\u043e\\u0441\\u043a\\u0432\\u0435 \\u0434\\u043e\\u0441\\u0442\\u0438\\u0433\\u0430\\u043b\\u0430 \\u0442\\u0430\\u043a\\u043e\\u0433\\u043e \\u0432\\u044b\\u0441\\u043e\\u043a\\u043e\\u0433\\u043e \\u0443\\u0440\\u043e\\u0432\\u043d\\u044f \\u0432 \\u0434\\u0430\\u043d\\u043d\\u043e\\u0435 \\u0432\\u0440\\u0435\\u043c\\u044f \\u0433\\u043e\\u0434\\u0430. \\u0412 \\u041c\\u043e\\u0441\\u043a\\u0432\\u0435 \\u0431\\u044b\\u043b\\u043e \\u043e\\u0447\\u0435\\u043d\\u044c \\u0442\\u0435\\u043f\\u043b\\u043e, \\u0438 \\u043b\\u044e\\u0434\\u0438 \\u043d\\u0430 \\u0443\\u043b\\u0438\\u0446\\u0430\\u0445 \\u041c\\u043e\\u0441\\u043a\\u0432\\u044b \\u043d\\u0430\\u0441\\u043b\\u0430\\u0436\\u0434\\u0430\\u043b\\u0438\\u0441\\u044c \\u0442\\u0435\\u043f\\u043b\\u043e\\u0439 \\u043f\\u043e\\u0433\\u043e\\u0434\\u043e\\u0439, \\u043d\\u043e \\u043f\\u0440\\u0438 \\u044d\\u0442\\u043e\\u043c \\u043d\\u0435 \\u0437\\u0430\\u0431\\u044b\\u0432\\u0430\\u043b\\u0438 \\u043e \\u043d\\u0435\\u043e\\u0431\\u0445\\u043e\\u0434\\u0438\\u043c\\u044b\\u0445 \\u043c\\u0435\\u0440\\u0430\\u0445 \\u0431\\u0435\\u0437\\u043e\\u043f\\u0430\\u0441\\u043d\\u043e\\u0441\\u0442\\u0438, \\u0441\\u0432\\u044f\\u0437\\u0430\\u043d\\u043d\\u044b\\u0445 \\u0441 \\u0436\\u0430\\u0440\\u043e\\u0439.\\n\\n\\u0412\\u0447\\u0435\\u0440\\u0430 \\u0432 \\u041c\\u043e\\u0441\\u043a\\u0432\\u0435 \\u0443\\u0441\\u0442\\u0430\\u043d\\u043e\\u0432\\u0438\\u043b\\u0438 \\u043d\\u043e\\u0432\\u044b\\u0439 \\u0440\\u0435\\u043a\\u043e\\u0440\\u0434 \\u043f\\u043e \\u0442\\u0435\\u043c\\u043f\\u0435\\u0440\\u0430\\u0442\\u0443\\u0440\\u0435. \\u0412 \\u041c\\u043e\\u0441\\u043a\\u0432\\u0435 \\u0431\\u044b\\u043b\\u043e \\u043e\\u0447\\u0435\\u043d\\u044c \\u0442\\u0435\\u043f\\u043b\\u043e, \\u0438 \\u0442\\u0435\\u043c\\u043f\\u0435\\u0440\\u0430\\u0442\\u0443\\u0440\\u0430 \\u0434\\u043e\\u0441\\u0442\\u0438\\u0433\\u043b\\u0430 \\u0440\\u0435\\u043a\\u043e\\u0440\\u0434\\u043d\\u043e\\u0439 \\u043e\\u0442\\u043c\\u0435\\u0442\\u043a\\u0438 \\u0432 26 \\u0433\\u0440\\u0430\\u0434\\u0443\\u0441\\u043e\\u0432 \\u043f\\u043e \\u0448\\u043a\\u0430\\u043b\\u0435 \\u0426\\u0435\\u043b\\u044c\\u0441\\u0438\\u044f. \\u042d\\u0442\\u043e \\u043f\\u0435\\u0440\\u0432\\u044b\\u0439 \\u0440\\u0430\\u0437, \\u043a\\u043e\\u0433\\u0434\\u0430 \\u0442\\u0435\\u043c\\u043f\\u0435\\u0440\\u0430\\u0442\\u0443\\u0440\\u0430 \\u0432 \\u041c\\u043e\\u0441\\u043a\\u0432\\u0435 \\u0434\\u043e\\u0441\\u0442\\u0438\\u0433\\u0430\\u043b\\u0430 \\u0442\\u0430\\u043a\\u043e\\u0433\\u043e \\u0432\\u044b\\u0441\\u043e\\u043a\\u043e\\u0433\\u043e \\u0443\\u0440\\u043e\\u0432\\u043d\\u044f \\u0432 \\u0434\\u0430\\u043d\\u043d\\u043e\\u0435 \\u0432\\u0440\\u0435\\u043c\\u044f \\u0433\\u043e\\u0434\\u0430. \\u0412 \\u041c\\u043e\\u0441\\u043a\\u0432\\u0435 \\u0431\\u044b\\u043b\\u043e \\u043e\\u0447\\u0435\\u043d\\u044c \\u0442\\u0435\\u043f\\u043b\\u043e, \\u0438 \\u043b\\u044e\\u0434\\u0438 \\u043d\\u0430 \\u0443\\u043b\\u0438\\u0446\\u0430\\u0445 \\u041c\\u043e\\u0441\\u043a\\u0432\\u044b \\u043d\\u0430\\u0441\\u043b\\u0430\\u0436\\u0434\\u0430\\u043b\\u0438\\u0441\\u044c \\u0442\\u0435\\u043f\\u043b\\u043e\\u0439 \\u043f\\u043e\\u0433\\u043e\\u0434\\u043e\\u0439, \\u043d\\u043e \\u043f\\u0440\\u0438 \\u044d\\u0442\\u043e\\u043c \\u043d\\u0435 \\u0437\\u0430\\u0431\\u044b\\u0432\\u0430\\u043b\\u0438 \\u043e \\u043d\\u0435\\u043e\\u0431\\u0445\\u043e\\u0434\\u0438\\u043c\\u044b\\u0445 \\u043c\\u0435\\u0440\\u0430\\u0445 \\u0431\\u0435\\u0437\\u043e\\u043f\\u0430\\u0441\\u043d\\u043e\\u0441\\u0442\\u0438, \\u0441\\u0432\\u044f\\u0437\\u0430\\u043d\\u043d\\u044b\\u0445 \\u0441 \\u0436\\u0430\\u0440\\u043e\\u0439.\",\n          \"\\u041d\\u0435\\u043f\\u0440\\u0435\\u0434\\u0432\\u0438\\u0434\\u0435\\u043d\\u043d\\u044b\\u0439 \\u0445\\u043e\\u043b\\u043e\\u0434\\u043d\\u044b\\u0439 \\u0444\\u0440\\u043e\\u043d\\u0442 \\u00ab\\u0421\\u0435\\u0432\\u0435\\u0440\\u00bb \\u043f\\u0440\\u0438\\u043d\\u0435\\u0441\\u0435\\u0442 \\u0437\\u0430\\u043c\\u043e\\u0440\\u043e\\u0437\\u043a\\u0438 \\u043d\\u0430 territory \\u00ab\\u0421\\u0435\\u0432\\u0435\\u0440\\u043d\\u043e\\u043c\\u00bb \\u0440\\u0435\\u0433\\u0438\\u043e\\u043d\\u0435, \\u0441\\u043e\\u043e\\u0431\\u0449\\u0430\\u0435\\u0442 \\u00ab\\u0421\\u0435\\u0432\\u0435\\u0440\\u043d\\u043e\\u043c\\u00bb \\u043c\\u0435\\u0442\\u0435\\u043e\\u0440\\u043e\\u043b\\u043e\\u0433\\u0438\\u0447\\u0435\\u0441\\u043a\\u0438\\u0439 \\u0446\\u0435\\u043d\\u0442\\u0440.\\n\\n\\u0421\\u043e\\u0433\\u043b\\u0430\\u0441\\u043d\\u043e \\u043f\\u0440\\u043e\\u0433\\u043d\\u043e\\u0437\\u0443, \\u0432 \\u0431\\u043b\\u0438\\u0436\\u0430\\u0439\\u0448\\u0438\\u0435 3 \\u0434\\u043d\\u044f \\u0442\\u0435\\u043c\\u043f\\u0435\\u0440\\u0430\\u0442\\u0443\\u0440\\u0430 \\u0431\\u0443\\u0434\\u0435\\u0442 \\u043d\\u0438\\u0436\\u0435, \\u0447\\u0435\\u043c \\u043e\\u0431\\u044b\\u0447\\u043d\\u043e \\u043d\\u0430 5-6 \\u0433\\u0440\\u0430\\u0434\\u0443\\u0441\\u043e\\u0432, \\u0447\\u0442\\u043e \\u043c\\u043e\\u0436\\u0435\\u0442 \\u043f\\u0440\\u0438\\u0432\\u0435\\u0441\\u0442\\u0438 \\u043a \\u0437\\u0430\\u043c\\u043e\\u0440\\u043e\\u0437\\u043a\\u0430\\u043c \\u043d\\u0430 \\u0443\\u043b\\u0438\\u0446\\u0430\\u0445, \\u043e\\u0441\\u043e\\u0431\\u0435\\u043d\\u043d\\u043e \\u043d\\u043e\\u0447\\u044c\\u044e.\\n\\n\\u0421\\u0435\\u0439\\u0447\\u0430\\u0441 \\u00ab\\u0421\\u0435\\u0432\\u0435\\u0440\\u043d\\u043e\\u043c\\u00bb \\u0440\\u0435\\u0433\\u0438\\u043e\\u043d\\u0435 \\u043f\\u0440\\u0435\\u043e\\u0431\\u043b\\u0430\\u0434\\u0430\\u0435\\u0442 \\u0445\\u043e\\u043b\\u043e\\u0434\\u043d\\u044b\\u0439 \\u0438 \\u043f\\u0430\\u0441\\u043c\\u0443\\u0440\\u043d\\u044b\\u0439 \\u043a\\u043b\\u0438\\u043c\\u0430\\u0442, \\u0441 \\u043f\\u0440\\u0435\\u0438\\u043c\\u0443\\u0449\\u0435\\u0441\\u0442\\u0432\\u0435\\u043d\\u043d\\u043e \\u0441\\u0435\\u0432\\u0435\\u0440\\u043e-\\u0437\\u0430\\u043f\\u0430\\u0434\\u043d\\u044b\\u043c\\u0438 \\u0432\\u0435\\u0442\\u0440\\u0430\\u043c\\u0438, \\u0447\\u0442\\u043e \\u043c\\u043e\\u0436\\u0435\\u0442 \\u043f\\u0440\\u0438\\u0432\\u0435\\u0441\\u0442\\u0438 \\u043a \\u0437\\u0430\\u043c\\u043e\\u0440\\u043e\\u0437\\u043a\\u0430\\u043c, \\u043e\\u0441\\u043e\\u0431\\u0435\\u043d\\u043d\\u043e \\u043d\\u043e\\u0447\\u044c\\u044e.\\n\\n\\u041c\\u0435\\u0442\\u0435\\u043e\\u0440\\u043e\\u043b\\u043e\\u0433\\u0438 \\u043d\\u0430\\u0441\\u0442\\u043e\\u044f\\u0442\\u0435\\u043b\\u044c\\u043d\\u043e \\u0440\\u0435\\u043a\\u043e\\u043c\\u0435\\u043d\\u0434\\u0443\\u044e\\u0442 \\u0436\\u0438\\u0442\\u0435\\u043b\\u044f\\u043c \\u00ab\\u0421\\u0435\\u0432\\u0435\\u0440\\u043d\\u043e\\u043c\\u00bb \\u0440\\u0435\\u0433\\u0438\\u043e\\u043d\\u0435 \\u0431\\u0435\\u0440\\u0435\\u0433\\u0438\\u0442\\u044c\\u0441\\u044f \\u043e\\u0442 \\u0437\\u0430\\u043c\\u043e\\u0440\\u043e\\u0437\\u043a\\u043e\\u0432, \\u043e\\u0441\\u043e\\u0431\\u0435\\u043d\\u043d\\u043e \\u043f\\u043e\\u0436\\u0438\\u043b\\u044b\\u043c \\u043b\\u044e\\u0434\\u044f\\u043c, \\u0434\\u0435\\u0442\\u044f\\u043c \\u0438 \\u0436\\u0438\\u0432\\u043e\\u0442\\u043d\\u044b\\u043c, \\u0438 \\u043f\\u0440\\u0435\\u0434\\u043f\\u0440\\u0438\\u043d\\u0438\\u043c\\u0430\\u0442\\u044c \\u043c\\u0435\\u0440\\u044b, \\u0447\\u0442\\u043e\\u0431\\u044b \\u0441\\u043e\\u0445\\u0440\\u0430\\u043d\\u0438\\u0442\\u044c \\u0442\\u0435\\u043f\\u043b\\u043e \\u0438 \\u043a\\u043e\\u043c\\u0444\\u043e\\u0440\\u0442 \\u0432 \\u0441\\u0432\\u043e\\u0438\\u0445 \\u0434\\u043e\\u043c\\u0430\\u0445.\\n\\n\\u0422\\u0430\\u043a\\u0436\\u0435 \\u00ab\\u0421\\u0435\\u0432\\u0435\\u0440\\u043d\\u043e\\u043c\\u00bb \\u043c\\u0435\\u0442\\u0435\\u043e\\u0440\\u043e\\u043b\\u043e\\u0433\\u0438\\u0447\\u0435\\u0441\\u043a\\u043e\\u043c \\u0446\\u0435\\u043d\\u0442\\u0440\\u0435 \\u043f\\u0440\\u0435\\u0434\\u043b\\u0430\\u0433\\u0430\\u044e\\u0442 \\u0438\\u0441\\u043f\\u043e\\u043b\\u044c\\u0437\\u043e\\u0432\\u0430\\u0442\\u044c \\u0442\\u0435\\u043f\\u043b\\u044b\\u0435 \\u043e\\u0434\\u0435\\u0436\\u0434\\u044b, \\u043e\\u0441\\u043e\\u0431\\u0435\\u043d\\u043d\\u043e \\u0448\\u0430\\u043f\\u043a\\u0438, \\u0448\\u0430\\u0440\\u0444\\u044b, \\u0432\\u0430\\u0440\\u0435\\u0436\\u0438, \\u0430 \\u0442\\u0430\\u043a\\u0436\\u0435 \\u0438\\u0441\\u043f\\u043e\\u043b\\u044c\\u0437\\u043e\\u0432\\u0430\\u0442\\u044c \\u044d\\u043b\\u0435\\u043a\\u0442\\u0440\\u0438\\u0447\\u0435\\u0441\\u043a\\u0438\\u0435 \\u043d\\u0430\\u0433\\u0440\\u0435\\u0432\\u0430\\u0442\\u0435\\u043b\\u0438, \\u0447\\u0442\\u043e\\u0431\\u044b \\u043f\\u0440\\u0435\\u0434\\u043e\\u0442\\u0432\\u0440\\u0430\\u0442\\u0438\\u0442\\u044c \\u0437\\u0430\\u043c\\u043e\\u0440\\u043e\\u0437\\u043a\\u0438 \\u043d\\u0430 \\u0443\\u043b\\u0438\\u0446\\u0430\\u0445.\"\n        ],\n        \"semantic_type\": \"\",\n        \"description\": \"\"\n      }\n    },\n    {\n      \"column\": \"\\u0420\\u0435\\u0446\\u0435\\u043f\\u0442\\u044b\",\n      \"properties\": {\n        \"dtype\": \"string\",\n        \"num_unique_values\": 10,\n        \"samples\": [\n          \"\\u041d\\u043e\\u0432\\u0430\\u044f \\u043a\\u0443\\u0445\\u043d\\u044f, \\u043d\\u043e\\u0432\\u044b\\u0435 \\u0440\\u0435\\u0446\\u0435\\u043f\\u0442\\u044b, \\u043d\\u043e\\u0432\\u044b\\u0435 \\u0432\\u043e\\u0437\\u043c\\u043e\\u0436\\u043d\\u043e\\u0441\\u0442\\u0438 \\u0434\\u043b\\u044f \\u044d\\u043a\\u0441\\u043f\\u0435\\u0440\\u0438\\u043c\\u0435\\u043d\\u0442\\u043e\\u0432 \\u0438 \\u043e\\u0442\\u043a\\u0440\\u044b\\u0442\\u0438\\u0439. \\n\\n\\u0421\\u0435\\u0433\\u043e\\u0434\\u043d\\u044f, \\u0432 \\u043d\\u0430\\u0448\\u0435\\u043c \\u043c\\u0438\\u0440\\u0435, \\u0432\\u043e\\u043a\\u0440\\u0443\\u0433 \\u043d\\u0430\\u0441 \\u043c\\u043d\\u043e\\u0436\\u0435\\u0441\\u0442\\u0432\\u043e \\u0440\\u0430\\u0437\\u043d\\u043e\\u043e\\u0431\\u0440\\u0430\\u0437\\u043d\\u044b\\u0445 \\u0440\\u0435\\u0446\\u0435\\u043f\\u0442\\u043e\\u0432, \\u043a\\u043e\\u0442\\u043e\\u0440\\u044b\\u0435 \\u043a\\u0430\\u0436\\u0434\\u044b\\u0439 \\u0434\\u0435\\u043d\\u044c \\u043f\\u0440\\u0438\\u0432\\u043d\\u043e\\u0441\\u044f\\u0442 \\u043d\\u043e\\u0432\\u044b\\u0435 \\u0438 \\u043d\\u043e\\u0432\\u044b\\u0435 \\u0438\\u0434\\u0435\\u0438, \\u0432\\u0434\\u043e\\u0445\\u043d\\u043e\\u0432\\u043b\\u044f\\u044f \\u043d\\u0430\\u0441, \\u0447\\u0442\\u043e\\u0431\\u044b \\u043f\\u043e\\u043f\\u0440\\u043e\\u0431\\u043e\\u0432\\u0430\\u0442\\u044c \\u0447\\u0442\\u043e-\\u0442\\u043e \\u043d\\u043e\\u0432\\u043e\\u0435, \\u0447\\u0442\\u043e-\\u0442\\u043e \\u043d\\u0435\\u0438\\u0437\\u0432\\u0435\\u0434\\u0430\\u043d\\u043d\\u043e\\u0435. \\n\\n\\u041e\\u0434\\u043d\\u0430\\u043a\\u043e, \\u0432\\u043e\\u043a\\u0440\\u0443\\u0433 \\u043d\\u0430\\u0441 \\u0442\\u0430\\u043a\\u0436\\u0435 \\u0441\\u0443\\u0449\\u0435\\u0441\\u0442\\u0432\\u0443\\u0435\\u0442 \\u043c\\u043d\\u043e\\u0436\\u0435\\u0441\\u0442\\u0432\\u043e \\u0440\\u0435\\u0446\\u0435\\u043f\\u0442\\u043e\\u0432, \\u043a\\u043e\\u0442\\u043e\\u0440\\u044b\\u0435, \\u043f\\u043e-\\u0432\\u0438\\u0434\\u0438\\u043c\\u043e\\u043c\\u0443, \\u043f\\u043e\\u0442\\u0435\\u0440\\u044f\\u043b\\u0438 \\u0441\\u0432\\u043e\\u044e \\u0430\\u043a\\u0442\\u0443\\u0430\\u043b\\u044c\\u043d\\u043e\\u0441\\u0442\\u044c, \\u0438, \\u0432\\u043e\\u0437\\u043c\\u043e\\u0436\\u043d\\u043e, \\u0438\\u0445 \\u0441\\u0442\\u043e\\u0438\\u0442 \\u0432\\u044b\\u043a\\u0438\\u043d\\u0443\\u0442\\u044c, \\u0447\\u0442\\u043e\\u0431\\u044b \\u0434\\u0430\\u0442\\u044c \\u043c\\u0435\\u0441\\u0442\\u043e \\u043d\\u043e\\u0432\\u044b\\u043c, \\u0431\\u043e\\u043b\\u0435\\u0435 \\u044f\\u0440\\u043a\\u0438\\u043c, \\u0431\\u043e\\u043b\\u0435\\u0435 \\u043f\\u0440\\u0438\\u0432\\u043b\\u0435\\u043a\\u0430\\u0442\\u0435\\u043b\\u044c\\u043d\\u044b\\u043c \\u0440\\u0435\\u0446\\u0435\\u043f\\u0442\\u0430\\u043c. \\n\\n\\u041e\\u0434\\u043d\\u0430\\u043a\\u043e, \\u0441\\u0442\\u043e\\u0438\\u0442 \\u043f\\u043e\\u043c\\u043d\\u0438\\u0442\\u044c, \\u0447\\u0442\\u043e \\u043a\\u0430\\u0436\\u0434\\u043e\\u0435 \\u0431\\u043b\\u044e\\u0434\\u043e \\u0438\\u043c\\u0435\\u0435\\u0442 \\u0441\\u0432\\u043e\\u0435 \\u043c\\u0435\\u0441\\u0442\\u043e \\u0438 \\u0441\\u0432\\u043e\\u0435 \\u0432\\u0440\\u0435\\u043c\\u044f, \\u0438, \\u0432\\u043e\\u0437\\u043c\\u043e\\u0436\\u043d\\u043e, \\u0438\\u043c\\u0435\\u043d\\u043d\\u043e \\u0432 \\u0442\\u0430\\u043a\\u043e\\u043c \\u0432\\u0438\\u0434\\u0435, \\u043a\\u0430\\u043a\\u0438\\u043c \\u0432\\u044b \\u0438\\u0445 \\u043f\\u0440\\u0438\\u0432\\u044b\\u043a\\u043b\\u0438, \\u043e\\u043d\\u0438 \\u0438 \\u0434\\u043e\\u043b\\u0436\\u043d\\u044b \\u0431\\u044b\\u0442\\u044c. \\n\\n\\u0422\\u0430\\u043a\\u0438\\u043c \\u043e\\u0431\\u0440\\u0430\\u0437\\u043e\\u043c, \\u0432\\u043e\\u043a\\u0440\\u0443\\u0433 \\u043d\\u0430\\u0441, \\u0432\\u043e\\u043a\\u0440\\u0443\\u0433 \\u043d\\u0430\\u0441, \\u0432\\u043e\\u043a\\u0440\\u0443\\u0433 \\u043d\\u0430\\u0441, \\u0432\\u043e\\u043a\\u0440\\u0443\\u0433 \\u043d\\u0430\\u0441, \\u0432\\u043e\\u043a\\u0440\\u0443\\u0433 \\u043d\\u0430\\u0441, \\u0432\\u043e\\u043a\\u0440\\u0443\\u0433 \\u043d\\u0430\\u0441, \\u0432\\u043e\\u043a\\u0440\\u0443\\u0433 \\u043d\\u0430\\u0441, \\u0432\\u043e\\u043a\\u0440\\u0443\\u0433 \\u043d\\u0430\\u0441, \\u0432\\u043e\\u043a\\u0440\\u0443\\u0433 \\u043d\\u0430\\u0441, \\u0432\\u043e\\u043a\\u0440\\u0443\\u0433 \\u043d\\u0430\\u0441, \\u0432\\u043e\\u043a\\u0440\\u0443\\u0433 \\u043d\\u0430\\u0441, \\u0432\\u043e\\u043a\\u0440\\u0443\\u0433 \\u043d\\u0430\\u0441, \\u0432\\u043e\\u043a\\u0440\\u0443\\u0433 \\u043d\\u0430\\u0441, \\u0432\\u043e\\u043a\\u0440\\u0443\\u0433 \\u043d\\u0430\\u0441, \\u0432\\u043e\\u043a\\u0440\\u0443\\u0433 \\u043d\\u0430\\u0441, \\u0432\\u043e\\u043a\\u0440\\u0443\\u0433 \\u043d\\u0430\\u0441, \\u0432\\u043e\\u043a\\u0440\\u0443\\u0433 \\u043d\\u0430\\u0441, \\u0432\\u043e\\u043a\\u0440\\u0443\\u0433 \\u043d\\u0430\\u0441, \\u0432\\u043e\\u043a\\u0440\\u0443\\u0433 \\u043d\\u0430\\u0441, \\u0432\\u043e\\u043a\\u0440\\u0443\\u0433 \\u043d\\u0430\\u0441, \\u0432\\u043e\\u043a\\u0440\\u0443\\u0433 \\u043d\\u0430\\u0441, \\u0432\\u043e\\u043a\\u0440\\u0443\\u0433 \\u043d\\u0430\\u0441, \\u0432\\u043e\\u043a\\u0440\\u0443\\u0433 \\u043d\\u0430\\u0441, \\u0432\\u043e\\u043a\\u0440\\u0443\\u0433 \\u043d\\u0430\\u0441, \\u0432\\u043e\\u043a\\u0440\\u0443\\u0433 \\u043d\\u0430\\u0441, \\u0432\\u043e\\u043a\\u0440\\u0443\\u0433 \\u043d\\u0430\\u0441, \\u0432\\u043e\\u043a\\u0440\\u0443\\u0433 \\u043d\\u0430\\u0441, \\u0432\\u043e\\u043a\\u0440\\u0443\\u0433 \\u043d\\u0430\\u0441, \\u0432\\u043e\\u043a\\u0440\\u0443\\u0433 \\u043d\\u0430\\u0441, \\u0432\\u043e\\u043a\\u0440\\u0443\\u0433 \\u043d\\u0430\\u0441, \\u0432\\u043e\\u043a\\u0440\\u0443\\u0433 \\u043d\\u0430\\u0441, \\u0432\\u043e\\u043a\\u0440\\u0443\\u0433 \\u043d\\u0430\\u0441, \\u0432\\u043e\\u043a\\u0440\\u0443\\u0433 \\u043d\\u0430\\u0441, \\u0432\\u043e\\u043a\\u0440\\u0443\\u0433 \\u043d\\u0430\\u0441, \\u0432\\u043e\\u043a\\u0440\\u0443\\u0433 \\u043d\\u0430\\u0441, \\u0432\\u043e\\u043a\\u0440\\u0443\\u0433 \\u043d\\u0430\\u0441, \\u0432\\u043e\\u043a\\u0440\\u0443\\u0433 \\u043d\\u0430\\u0441, \\u0432\\u043e\\u043a\\u0440\\u0443\\u0433 \\u043d\\u0430\\u0441, \\u0432\\u043e\\u043a\\u0440\\u0443\\u0433 \\u043d\\u0430\\u0441, \\u0432\\u043e\\u043a\\u0440\\u0443\\u0433 \\u043d\\u0430\\u0441, \\u0432\\u043e\\u043a\\u0440\\u0443\\u0433 \\u043d\\u0430\\u0441, \\u0432\\u043e\\u043a\\u0440\\u0443\\u0433 \\u043d\\u0430\\u0441, \\u0432\\u043e\\u043a\\u0440\\u0443\\u0433 \\u043d\\u0430\\u0441, \\u0432\\u043e\\u043a\\u0440\\u0443\\u0433 \\u043d\\u0430\\u0441, \\u0432\\u043e\\u043a\\u0440\\u0443\\u0433 \\u043d\\u0430\\u0441, \\u0432\\u043e\\u043a\\u0440\\u0443\\u0433 \\u043d\\u0430\\u0441, \\u0432\\u043e\\u043a\\u0440\\u0443\\u0433 \\u043d\\u0430\\u0441, \\u0432\\u043e\\u043a\\u0440\\u0443\\u0433 \\u043d\\u0430\\u0441, \\u0432\\u043e\\u043a\\u0440\\u0443\\u0433 \\u043d\\u0430\\u0441, \\u0432\\u043e\\u043a\\u0440\\u0443\\u0433 \\u043d\\u0430\\u0441, \\u0432\\u043e\\u043a\\u0440\\u0443\\u0433 \\u043d\\u0430\\u0441, \\u0432\\u043e\\u043a\\u0440\\u0443\\u0433 \\u043d\\u0430\\u0441, \\u0432\\u043e\\u043a\\u0440\\u0443\\u0433 \\u043d\\u0430\\u0441, \\u0432\\u043e\\u043a\\u0440\\u0443\\u0433 \\u043d\\u0430\\u0441, \\u0432\\u043e\\u043a\\u0440\\u0443\\u0433 \\u043d\\u0430\\u0441, \\u0432\\u043e\\u043a\\u0440\\u0443\\u0433 \\u043d\\u0430\\u0441, \\u0432\\u043e\\u043a\\u0440\\u0443\\u0433 \\u043d\\u0430\\u0441, \\u0432\\u043e\\u043a\\u0440\\u0443\\u0433 \\u043d\\u0430\\u0441, \\u0432\\u043e\\u043a\\u0440\\u0443\\u0433 \\u043d\\u0430\\u0441, \\u0432\\u043e\\u043a\\u0440\\u0443\\u0433 \\u043d\\u0430\\u0441, \\u0432\\u043e\\u043a\\u0440\\u0443\\u0433 \\u043d\\u0430\\u0441, \\u0432\\u043e\\u043a\\u0440\\u0443\\u0433 \\u043d\\u0430\\u0441, \\u0432\\u043e\\u043a\\u0440\\u0443\\u0433 \\u043d\\u0430\\u0441, \\u0432\\u043e\\u043a\\u0440\\u0443\\u0433 \\u043d\\u0430\\u0441, \\u0432\\u043e\\u043a\\u0440\\u0443\\u0433 \\u043d\\u0430\\u0441, \\u0432\\u043e\\u043a\\u0440\\u0443\\u0433 \\u043d\\u0430\\u0441, \\u0432\\u043e\\u043a\\u0440\\u0443\\u0433 \\u043d\\u0430\\u0441, \\u0432\\u043e\\u043a\\u0440\\u0443\\u0433 \\u043d\\u0430\\u0441, \\u0432\\u043e\\u043a\\u0440\\u0443\\u0433 \\u043d\\u0430\\u0441, \\u0432\\u043e\\u043a\\u0440\\u0443\\u0433 \\u043d\\u0430\\u0441, \\u0432\\u043e\\u043a\\u0440\\u0443\\u0433 \\u043d\\u0430\\u0441, \\u0432\\u043e\\u043a\\u0440\\u0443\\u0433 \\u043d\\u0430\\u0441, \\u0432\\u043e\\u043a\\u0440\\u0443\\u0433 \\u043d\\u0430\\u0441, \\u0432\\u043e\\u043a\\u0440\\u0443\\u0433 \\u043d\\u0430\\u0441, \\u0432\\u043e\\u043a\\u0440\\u0443\\u0433 \\u043d\\u0430\\u0441, \\u0432\\u043e\\u043a\\u0440\\u0443\\u0433 \\u043d\\u0430\\u0441, \\u0432\\u043e\\u043a\\u0440\\u0443\\u0433 \\u043d\\u0430\\u0441, \\u0432\\u043e\\u043a\\u0440\\u0443\\u0433 \\u043d\\u0430\\u0441, \\u0432\\u043e\\u043a\\u0440\\u0443\\u0433 \\u043d\\u0430\\u0441, \\u0432\\u043e\\u043a\\u0440\\u0443\\u0433 \\u043d\\u0430\\u0441, \\u0432\\u043e\\u043a\\u0440\\u0443\\u0433 \\u043d\\u0430\\u0441, \\u0432\\u043e\\u043a\\u0440\\u0443\\u0433 \\u043d\\u0430\\u0441, \\u0432\\u043e\\u043a\\u0440\\u0443\\u0433 \\u043d\\u0430\\u0441, \\u0432\\u043e\\u043a\\u0440\\u0443\\u0433 \\u043d\\u0430\\u0441, \\u0432\\u043e\\u043a\\u0440\\u0443\\u0433 \\u043d\\u0430\\u0441, \\u0432\\u043e\\u043a\\u0440\\u0443\\u0433 \\u043d\\u0430\\u0441, \\u0432\\u043e\\u043a\\u0440\\u0443\\u0433 \\u043d\\u0430\\u0441, \\u0432\\u043e\\u043a\\u0440\\u0443\\u0433 \\u043d\\u0430\\u0441, \\u0432\\u043e\\u043a\\u0440\\u0443\\u0433 \\u043d\\u0430\\u0441, \\u0432\\u043e\\u043a\\u0440\\u0443\\u0433 \\u043d\\u0430\\u0441, \\u0432\\u043e\\u043a\\u0440\\u0443\\u0433 \\u043d\\u0430\\u0441, \\u0432\\u043e\\u043a\\u0440\\u0443\\u0433 \\u043d\\u0430\\u0441, \\u0432\\u043e\\u043a\\u0440\\u0443\\u0433 \\u043d\\u0430\\u0441, \\u0432\\u043e\\u043a\\u0440\\u0443\\u0433 \\u043d\\u0430\\u0441, \\u0432\\u043e\\u043a\\u0440\\u0443\\u0433 \\u043d\\u0430\\u0441, \\u0432\\u043e\\u043a\\u0440\\u0443\\u0433 \\u043d\\u0430\\u0441, \\u0432\\u043e\\u043a\\u0440\\u0443\\u0433 \\u043d\\u0430\\u0441, \\u0432\\u043e\\u043a\\u0440\\u0443\\u0433 \\u043d\\u0430\\u0441, \\u0432\\u043e\\u043a\\u0440\\u0443\\u0433 \\u043d\\u0430\\u0441, \\u0432\\u043e\\u043a\\u0440\\u0443\\u0433 \\u043d\\u0430\\u0441, \\u0432\\u043e\\u043a\\u0440\\u0443\\u0433 \\u043d\\u0430\\u0441, \\u0432\\u043e\\u043a\\u0440\\u0443\\u0433 \\u043d\\u0430\\u0441, \\u0432\\u043e\\u043a\\u0440\\u0443\\u0433 \\u043d\\u0430\\u0441, \\u0432\\u043e\\u043a\\u0440\\u0443\\u0433 \\u043d\\u0430\\u0441, \\u0432\\u043e\\u043a\\u0440\\u0443\\u0433 \\u043d\\u0430\\u0441, \\u0432\\u043e\\u043a\\u0440\\u0443\\u0433 \\u043d\\u0430\\u0441, \\u0432\\u043e\\u043a\\u0440\\u0443\\u0433 \\u043d\\u0430\\u0441, \\u0432\\u043e\\u043a\\u0440\\u0443\\u0433 \\u043d\\u0430\\u0441, \\u0432\\u043e\\u043a\\u0440\\u0443\\u0433 \\u043d\\u0430\\u0441, \\u0432\\u043e\\u043a\\u0440\\u0443\\u0433 \\u043d\\u0430\\u0441, \\u0432\\u043e\\u043a\\u0440\\u0443\\u0433 \\u043d\\u0430\\u0441, \\u0432\\u043e\\u043a\\u0440\\u0443\\u0433 \\u043d\\u0430\\u0441, \\u0432\\u043e\\u043a\\u0440\\u0443\\u0433 \\u043d\\u0430\\u0441, \\u0432\\u043e\\u043a\\u0440\\u0443\\u0433 \\u043d\\u0430\\u0441, \\u0432\\u043e\\u043a\\u0440\\u0443\\u0433 \\u043d\\u0430\\u0441, \\u0432\\u043e\\u043a\\u0440\\u0443\\u0433 \\u043d\\u0430\\u0441, \\u0432\\u043e\\u043a\\u0440\\u0443\\u0433 \\u043d\\u0430\\u0441, \\u0432\\u043e\\u043a\\u0440\\u0443\\u0433 \\u043d\\u0430\\u0441, \\u0432\\u043e\\u043a\\u0440\\u0443\\u0433 \\u043d\\u0430\\u0441, \\u0432\\u043e\\u043a\\u0440\\u0443\\u0433 \\u043d\\u0430\\u0441, \\u0432\\u043e\\u043a\\u0440\\u0443\\u0433 \\u043d\\u0430\\u0441, \\u0432\\u043e\\u043a\\u0440\\u0443\\u0433 \\u043d\\u0430\\u0441, \\u0432\\u043e\\u043a\\u0440\\u0443\\u0433 \\u043d\\u0430\\u0441, \\u0432\\u043e\\u043a\\u0440\\u0443\\u0433 \\u043d\\u0430\\u0441, \\u0432\\u043e\\u043a\\u0440\\u0443\\u0433 \\u043d\\u0430\\u0441, \\u0432\\u043e\\u043a\\u0440\\u0443\\u0433 \\u043d\\u0430\\u0441, \\u0432\\u043e\\u043a\\u0440\\u0443\\u0433 \\u043d\\u0430\\u0441, \\u0432\\u043e\\u043a\\u0440\\u0443\\u0433 \\u043d\\u0430\\u0441, \\u0432\\u043e\\u043a\\u0440\\u0443\\u0433 \\u043d\\u0430\\u0441, \\u0432\\u043e\\u043a\\u0440\\u0443\\u0433 \\u043d\\u0430\\u0441, \\u0432\\u043e\\u043a\\u0440\\u0443\\u0433 \\u043d\\u0430\\u0441, \\u0432\\u043e\\u043a\\u0440\\u0443\\u0433 \\u043d\\u0430\\u0441, \\u0432\\u043e\\u043a\\u0440\\u0443\\u0433 \\u043d\\u0430\\u0441, \\u0432\\u043e\\u043a\\u0440\\u0443\\u0433 \\u043d\\u0430\\u0441, \\u0432\\u043e\\u043a\\u0440\\u0443\\u0433 \\u043d\\u0430\\u0441, \\u0432\\u043e\\u043a\\u0440\\u0443\\u0433 \\u043d\\u0430\\u0441, \\u0432\\u043e\\u043a\\u0440\\u0443\\u0433 \\u043d\\u0430\\u0441, \\u0432\\u043e\\u043a\\u0440\\u0443\\u0433 \\u043d\\u0430\\u0441, \\u0432\\u043e\\u043a\\u0440\\u0443\\u0433 \\u043d\\u0430\\u0441, \\u0432\\u043e\\u043a\\u0440\\u0443\\u0433 \\u043d\\u0430\\u0441, \\u0432\\u043e\\u043a\\u0440\\u0443\\u0433 \\u043d\\u0430\\u0441, \\u0432\\u043e\\u043a\\u0440\\u0443\\u0433 \\u043d\\u0430\\u0441, \\u0432\\u043e\\u043a\\u0440\\u0443\\u0433 \\u043d\\u0430\\u0441, \\u0432\\u043e\\u043a\\u0440\\u0443\\u0433 \\u043d\\u0430\\u0441, \\u0432\\u043e\\u043a\\u0440\\u0443\\u0433 \\u043d\\u0430\\u0441, \\u0432\\u043e\\u043a\\u0440\\u0443\\u0433 \\u043d\\u0430\\u0441, \\u0432\\u043e\\u043a\\u0440\\u0443\\u0433 \\u043d\\u0430\\u0441, \\u0432\\u043e\\u043a\\u0440\\u0443\\u0433 \\u043d\\u0430\\u0441, \\u0432\\u043e\\u043a\\u0440\\u0443\\u0433 \\u043d\\u0430\\u0441, \\u0432\\u043e\\u043a\\u0440\\u0443\\u0433 \\u043d\\u0430\\u0441, \\u0432\\u043e\\u043a\\u0440\\u0443\\u0433 \\u043d\\u0430\\u0441, \\u0432\\u043e\\u043a\\u0440\\u0443\\u0433 \\u043d\\u0430\\u0441, \\u0432\\u043e\\u043a\\u0440\\u0443\\u0433 \\u043d\\u0430\\u0441, \\u0432\\u043e\\u043a\\u0440\\u0443\\u0433 \\u043d\\u0430\\u0441, \\u0432\\u043e\\u043a\\u0440\\u0443\\u0433 \\u043d\\u0430\\u0441, \\u0432\\u043e\\u043a\\u0440\\u0443\\u0433 \\u043d\\u0430\\u0441, \\u0432\\u043e\\u043a\\u0440\\u0443\\u0433 \\u043d\\u0430\\u0441, \\u0432\\u043e\\u043a\\u0440\\u0443\\u0433 \\u043d\\u0430\\u0441, \\u0432\\u043e\\u043a\\u0440\\u0443\\u0433 \\u043d\\u0430\\u0441, \\u0432\\u043e\\u043a\\u0440\\u0443\\u0433 \\u043d\\u0430\\u0441, \\u0432\\u043e\\u043a\\u0440\\u0443\\u0433 \\u043d\\u0430\\u0441, \\u0432\\u043e\\u043a\\u0440\\u0443\\u0433 \\u043d\\u0430\\u0441, \\u0432\\u043e\\u043a\\u0440\\u0443\\u0433 \\u043d\\u0430\\u0441, \\u0432\\u043e\\u043a\\u0440\\u0443\\u0433 \\u043d\\u0430\\u0441, \\u0432\\u043e\\u043a\\u0440\\u0443\\u0433 \\u043d\\u0430\\u0441, \\u0432\\u043e\\u043a\\u0440\\u0443\\u0433 \\u043d\\u0430\\u0441, \\u0432\\u043e\\u043a\\u0440\\u0443\\u0433 \\u043d\\u0430\\u0441, \\u0432\\u043e\\u043a\\u0440\\u0443\\u0433 \\u043d\\u0430\\u0441, \\u0432\\u043e\\u043a\\u0440\\u0443\\u0433 \\u043d\\u0430\\u0441, \\u0432\\u043e\\u043a\\u0440\\u0443\\u0433 \\u043d\\u0430\\u0441, \\u0432\\u043e\\u043a\\u0440\\u0443\\u0433 \\u043d\\u0430\\u0441, \\u0432\\u043e\\u043a\\u0440\\u0443\\u0433 \\u043d\\u0430\\u0441, \\u0432\\u043e\\u043a\\u0440\\u0443\\u0433\",\n          \"**\\u0412\\u043a\\u0443\\u0441\\u043d\\u044b\\u0435 \\u0438 \\u043f\\u043e\\u043b\\u0435\\u0437\\u043d\\u044b\\u0435 \\u0440\\u0435\\u0446\\u0435\\u043f\\u0442\\u043d\\u0438\\u043a\\u0438: \\u043f\\u043e\\u043b\\u0435\\u0437\\u043d\\u044b\\u0435 \\u0441\\u043e\\u0432\\u0435\\u0442\\u044b \\u0434\\u043b\\u044f \\u0437\\u0434\\u043e\\u0440\\u043e\\u0432\\u043e\\u0433\\u043e \\u043f\\u0438\\u0442\\u0430\\u043d\\u0438\\u044f**\\n\\n\\u0414\\u043b\\u044f \\u043c\\u043d\\u043e\\u0433\\u0438\\u0445 \\u043b\\u044e\\u0434\\u0435\\u0439, \\u043a\\u043e\\u0442\\u043e\\u0440\\u044b\\u0435 \\u0441\\u043b\\u0435\\u0434\\u044f\\u0442 \\u0437\\u0430 \\u0441\\u0432\\u043e\\u0438\\u043c \\u0437\\u0434\\u043e\\u0440\\u043e\\u0432\\u044c\\u0435\\u043c, \\u0440\\u0435\\u0446\\u0435\\u043f\\u0442\\u043d\\u0438\\u043a\\u0438 - \\u044d\\u0442\\u043e \\u043d\\u0435 \\u0442\\u043e\\u043b\\u044c\\u043a\\u043e \\u0440\\u0435\\u0446\\u0435\\u043f\\u0442, \\u043d\\u043e \\u0438 \\u0441\\u043e\\u0432\\u0435\\u0442, \\u043a\\u043e\\u0442\\u043e\\u0440\\u044b\\u0439 \\u043f\\u043e\\u043c\\u043e\\u0436\\u0435\\u0442 \\u0438\\u043c \\u0434\\u043e\\u0441\\u0442\\u0438\\u0447\\u044c \\u0441\\u0432\\u043e\\u0438\\u0445 \\u0446\\u0435\\u043b\\u0435\\u0439. \\u0421\\u0435\\u0433\\u043e\\u0434\\u043d\\u044f \\u043c\\u044b \\u0440\\u0430\\u0441\\u0441\\u043c\\u043e\\u0442\\u0440\\u0438\\u043c \\u043d\\u0435\\u0441\\u043a\\u043e\\u043b\\u044c\\u043a\\u043e \\u043f\\u043e\\u043b\\u0435\\u0437\\u043d\\u044b\\u0445 \\u0440\\u0435\\u0446\\u0435\\u043f\\u0442\\u043d\\u0438\\u043a\\u043e\\u0432, \\u043a\\u043e\\u0442\\u043e\\u0440\\u044b\\u0435 \\u043f\\u043e\\u043c\\u043e\\u0433\\u0443\\u0442 \\u0432\\u0430\\u043c \\u043f\\u0440\\u0438\\u0433\\u043e\\u0442\\u043e\\u0432\\u0438\\u0442\\u044c \\u0437\\u0434\\u043e\\u0440\\u043e\\u0432\\u0443\\u044e, \\u0432\\u043a\\u0443\\u0441\\u043d\\u0443\\u044e \\u0438 \\u043f\\u043e\\u043b\\u0435\\u0437\\u043d\\u0443\\u044e \\u0435\\u0434\\u0443.\\n\\n**1. \\u0421\\u0430\\u043b\\u0430\\u0442 \\u0441 \\u0430\\u0432\\u043e\\u043a\\u0430\\u0434\\u043e**\\n\\n\\u0414\\u043b\\u044f \\u044d\\u0442\\u043e\\u0433\\u043e \\u0440\\u0435\\u0446\\u0435\\u043f\\u0442\\u043d\\u0438\\u043a\\u0430 \\u0432\\u0430\\u043c \\u043f\\u043e\\u043d\\u0430\\u0434\\u043e\\u0431\\u0438\\u0442\\u0441\\u044f: \\u0430\\u0432\\u043e\\u043a\\u0430\\u0434\\u043e, \\u043e\\u0433\\u0443\\u0440\\u0446\\u044b, \\u043f\\u043e\\u043c\\u0438\\u0434\\u043e\\u0440\\u044b, \\u043b\\u0443\\u043a, \\u0447\\u0435\\u0441\\u043d\\u043e\\u043a, \\u043e\\u043b\\u0438\\u0432\\u043a\\u043e\\u0432\\u043e\\u0435 \\u043c\\u0430\\u0441\\u043b\\u043e, \\u0441\\u043e\\u043b\\u044c, \\u043f\\u0435\\u0440\\u0435\\u0446. \\u0421\\u043c\\u0435\\u0448\\u0430\\u0439\\u0442\\u0435 \\u0432\\u0441\\u0435 \\u0438\\u043d\\u0433\\u0440\\u0435\\u0434\\u0438\\u0435\\u043d\\u0442\\u044b \\u0432\\u043c\\u0435\\u0441\\u0442\\u0435, \\u0434\\u043e\\u0431\\u0430\\u0432\\u044c\\u0442\\u0435 \\u043e\\u043b\\u0438\\u0432\\u043a\\u043e\\u0432\\u043e\\u0435 \\u043c\\u0430\\u0441\\u043b\\u043e, \\u0441\\u043e\\u043b\\u044c, \\u043f\\u0435\\u0440\\u0435\\u0446, \\u0438 \\u0433\\u043e\\u0442\\u043e\\u0432\\u043e! \\u042d\\u0442\\u043e\\u0442 \\u0440\\u0435\\u0446\\u0435\\u043f\\u0442 \\u043f\\u043e\\u043b\\u0435\\u0437\\u0435\\u043d \\u0434\\u043b\\u044f \\u0441\\u0435\\u0440\\u0434\\u0435\\u0447\\u043d\\u043e-\\u0441\\u043e\\u0441\\u0443\\u0434\\u0438\\u0441\\u0442\\u043e\\u0439 \\u0441\\u0438\\u0441\\u0442\\u0435\\u043c\\u044b, \\u0442\\u0430\\u043a \\u043a\\u0430\\u043a \\u0430\\u0432\\u043e\\u043a\\u0430\\u0434\\u043e \\u0431\\u043e\\u0433\\u0430\\u0442 \\u043f\\u043e\\u043b\\u0435\\u0437\\u043d\\u044b\\u043c\\u0438 \\u0436\\u0438\\u0440\\u0430\\u043c\\u0438.\\n\\n**2. \\u0421\\u0443\\u043f \\u0441 \\u043a\\u0430\\u0440\\u0442\\u043e\\u0444\\u0435\\u043b\\u0435\\u043c**\\n\\n\\u0414\\u043b\\u044f \\u044d\\u0442\\u043e\\u0433\\u043e \\u0440\\u0435\\u0446\\u0435\\u043f\\u0442\\u043d\\u0438\\u043a\\u0430 \\u0432\\u0430\\u043c \\u043f\\u043e\\u043d\\u0430\\u0434\\u043e\\u0431\\u0438\\u0442\\u0441\\u044f: \\u043a\\u0430\\u0440\\u0442\\u043e\\u0444\\u0435\\u043b\\u044c, \\u043b\\u0443\\u043a, \\u0447\\u0435\\u0441\\u043d\\u043e\\u043a, \\u043c\\u043e\\u0440\\u043a\\u043e\\u0432\\u044c, \\u0441\\u0435\\u043b\\u044c\\u0434\\u0435\\u0440\\u0435\\u0439, \\u043a\\u0443\\u0440\\u0438\\u043d\\u044b\\u0439 \\u0431\\u0443\\u043b\\u044c\\u043e\\u043d, \\u043c\\u043e\\u043b\\u043e\\u043a\\u043e, \\u0441\\u043b\\u0438\\u0432\\u043e\\u0447\\u043d\\u043e\\u0435 \\u043c\\u0430\\u0441\\u043b\\u043e, \\u0441\\u043e\\u043b\\u044c, \\u043f\\u0435\\u0440\\u0435\\u0446. \\u0421\\u043c\\u0435\\u0448\\u0430\\u0439\\u0442\\u0435 \\u043a\\u0430\\u0440\\u0442\\u043e\\u0444\\u0435\\u043b\\u044c, \\u043b\\u0443\\u043a, \\u0447\\u0435\\u0441\\u043d\\u043e\\u043a, \\u043c\\u043e\\u0440\\u043a\\u043e\\u0432\\u044c, \\u0441\\u0435\\u043b\\u044c\\u0434\\u0435\\u0440\\u0435\\u0439, \\u043a\\u0443\\u0440\\u0438\\u043d\\u044b\\u0439 \\u0431\\u0443\\u043b\\u044c\\u043e\\u043d, \\u043c\\u043e\\u043b\\u043e\\u043a\\u043e, \\u0441\\u043b\\u0438\\u0432\\u043e\\u0447\\u043d\\u043e\\u0435 \\u043c\\u0430\\u0441\\u043b\\u043e, \\u0441\\u043e\\u043b\\u044c, \\u043f\\u0435\\u0440\\u0435\\u0446, \\u0438 \\u0433\\u043e\\u0442\\u043e\\u0432\\u043e! \\u042d\\u0442\\u043e\\u0442 \\u0440\\u0435\\u0446\\u0435\\u043f\\u0442 \\u043f\\u043e\\u043b\\u0435\\u0437\\u0435\\u043d \\u0434\\u043b\\u044f \\u043f\\u043e\\u0434\\u0434\\u0435\\u0440\\u0436\\u0430\\u043d\\u0438\\u044f \\u0437\\u0434\\u043e\\u0440\\u043e\\u0432\\u044c\\u044f, \\u0442\\u0430\\u043a \\u043a\\u0430\\u043a \\u043a\\u0430\\u0440\\u0442\\u043e\\u0444\\u0435\\u043b\\u044c \\u0431\\u043e\\u0433\\u0430\\u0442 \\u0432\\u0438\\u0442\\u0430\\u043c\\u0438\\u043d\\u043e\\u043c \\u0421, \\u043a\\u043e\\u0442\\u043e\\u0440\\u044b\\u0439 \\u043f\\u043e\\u0434\\u0434\\u0435\\u0440\\u0436\\u0438\\u0432\\u0430\\u0435\\u0442 \\u0438\\u043c\\u043c\\u0443\\u043d\\u043d\\u0443\\u044e \\u0441\\u0438\\u0441\\u0442\\u0435\\u043c\\u0443.\\n\\n**3. \\u041e\\u043c\\u043b\\u0435\\u0442 \\u0441 \\u0448\\u043f\\u0438\\u043d\\u0430\\u0442\\u043e\\u043c**\\n\\n\\u0414\\u043b\\u044f \\u044d\\u0442\\u043e\\u0433\\u043e \\u0440\\u0435\\u0446\\u0435\\u043f\\u0442\\u043d\\u0438\\u043a\\u0430 \\u0432\\u0430\\u043c \\u043f\\u043e\\u043d\\u0430\\u0434\\u043e\\u0431\\u0438\\u0442\\u0441\\u044f: \\u044f\\u0439\\u0446\\u0430, \\u0448\\u043f\\u0438\\u043d\\u0430\\u0442, \\u0441\\u043e\\u043b\\u044c, \\u043f\\u0435\\u0440\\u0435\\u0446, \\u0441\\u043b\\u0438\\u0432\\u043e\\u0447\\u043d\\u043e\\u0435 \\u043c\\u0430\\u0441\\u043b\\u043e. \\u0421\\u043c\\u0435\\u0448\\u0430\\u0439\\u0442\\u0435 \\u044f\\u0439\\u0446\\u0430, \\u0448\\u043f\\u0438\\u043d\\u0430\\u0442, \\u0441\\u043e\\u043b\\u044c, \\u043f\\u0435\\u0440\\u0435\\u0446, \\u0441\\u043b\\u0438\\u0432\\u043e\\u0447\\u043d\\u043e\\u0435 \\u043c\\u0430\\u0441\\u043b\\u043e, \\u0438 \\u0433\\u043e\\u0442\\u043e\\u0432\\u043e! \\u042d\\u0442\\u043e\\u0442 \\u0440\\u0435\\u0446\\u0435\\u043f\\u0442 \\u043f\\u043e\\u043b\\u0435\\u0437\\u0435\\u043d \\u0434\\u043b\\u044f \\u043f\\u043e\\u0434\\u0434\\u0435\\u0440\\u0436\\u0430\\u043d\\u0438\\u044f \\u0437\\u0434\\u043e\\u0440\\u043e\\u0432\\u044c\\u044f, \\u0442\\u0430\\u043a \\u043a\\u0430\\u043a \\u0448\\u043f\\u0438\\u043d\\u0430\\u0442 \\u0431\\u043e\\u0433\\u0430\\u0442 \\u0432\\u0438\\u0442\\u0430\\u043c\\u0438\\u043d\\u043e\\u043c \\u0410, \\u043a\\u043e\\u0442\\u043e\\u0440\\u044b\\u0439 \\u043f\\u043e\\u0434\\u0434\\u0435\\u0440\\u0436\\u0438\\u0432\\u0430\\u0435\\u0442 \\u0437\\u0434\\u043e\\u0440\\u043e\\u0432\\u044c\\u0435 \\u0433\\u043b\\u0430\\u0437, \\u043a\\u043e\\u0436\\u0438, \\u0432\\u043e\\u043b\\u043e\\u0441, \\u0430 \\u0442\\u0430\\u043a\\u0436\\u0435 \\u043f\\u043e\\u0434\\u0434\\u0435\\u0440\\u0436\\u0438\\u0432\\u0430\\u0435\\u0442 \\u0438\\u043c\\u043c\\u0443\\u043d\\u043d\\u0443\\u044e \\u0441\\u0438\\u0441\\u0442\\u0435\\u043c\\u0443.\\n\\n\\u0412\\u0441\\u0435 \\u044d\\u0442\\u0438 \\u0440\\u0435\\u0446\\u0435\\u043f\\u0442\\u043d\\u0438\\u043a\\u0438 \\u043f\\u043e\\u043c\\u043e\\u0433\\u0443\\u0442 \\u0432\\u0430\\u043c \\u043f\\u0440\\u0438\\u0433\\u043e\\u0442\\u043e\\u0432\\u0438\\u0442\\u044c \\u0437\\u0434\\u043e\\u0440\\u043e\\u0432\\u0443\\u044e, \\u0432\\u043a\\u0443\\u0441\\u043d\\u0443\\u044e \\u0438 \\u043f\\u043e\\u043b\\u0435\\u0437\\u043d\\u0443\\u044e \\u0435\\u0434\\u0443, \\u043a\\u043e\\u0442\\u043e\\u0440\\u0430\\u044f \\u043f\\u043e\\u0434\\u0434\\u0435\\u0440\\u0436\\u0438\\u0432\\u0430\\u0435\\u0442 \\u0437\\u0434\\u043e\\u0440\\u043e\\u0432\\u044c\\u0435 \\u0438 \\u0431\\u043b\\u0430\\u0433\\u043e\\u043f\\u043e\\u043b\\u0443\\u0447\\u0438\\u0435. \\u041d\\u0435 \\u0437\\u0430\\u0431\\u044b\\u0432\\u0430\\u0439\\u0442\\u0435, \\u0447\\u0442\\u043e \\u0437\\u0434\\u043e\\u0440\\u043e\\u0432\\u044c\\u0435 - \\u044d\\u0442\\u043e \\u043d\\u0435 \\u0442\\u043e\\u043b\\u044c\\u043a\\u043e \\u0435\\u0434\\u0430, \\u043d\\u043e \\u0438 \\u043f\\u0440\\u0430\\u0432\\u0438\\u043b\\u044c\\u043d\\u044b\\u0439 \\u043e\\u0431\\u0440\\u0430\\u0437 \\u0436\\u0438\\u0437\\u043d\\u0438, \\u043f\\u043e\\u044d\\u0442\\u043e\\u043c\\u0443 \\u043d\\u0435 \\u0437\\u0430\\u0431\\u044b\\u0432\\u0430\\u0439\\u0442\\u0435 \\u0441\\u043b\\u0435\\u0434\\u043e\\u0432\\u0430\\u0442\\u044c \\u0437\\u0434\\u043e\\u0440\\u043e\\u0432\\u044b\\u043c \\u043f\\u0440\\u0438\\u0432\\u044b\\u0447\\u043a\\u0430\\u043c, \\u0442\\u0430\\u043a\\u0438\\u0435 \\u043a\\u0430\\u043a \\u0440\\u0435\\u0433\\u0443\\u043b\\u044f\\u0440\\u043d\\u043e\\u0435 \\u0434\\u0432\\u0438\\u0436\\u0435\\u043d\\u0438\\u0435, \\u0434\\u043e\\u0441\\u0442\\u0430\\u0442\\u043e\\u0447\\u043d\\u043e\\u0435 \\u043a\\u043e\\u043b\\u0438\\u0447\\u0435\\u0441\\u0442\\u0432\\u043e \\u0441\\u043d\\u0430, \\u043f\\u0440\\u0430\\u0432\\u0438\\u043b\\u044c\\u043d\\u043e\\u0435 \\u043f\\u0438\\u0442\\u0430\\u043d\\u0438\\u0435, \\u0438 \\u0440\\u0435\\u0433\\u0443\\u043b\\u044f\\u0440\\u043d\\u043e\\u0435 \\u043f\\u043e\\u0441\\u0435\\u0449\\u0435\\u043d\\u0438\\u0435 \\u0432\\u0440\\u0430\\u0447\\u0435\\u0439.\",\n          \"**\\\"\\u0423\\u043d\\u0438\\u043a\\u0430\\u043b\\u044c\\u043d\\u044b\\u0439 \\u0440\\u0435\\u0446\\u0435\\u043f\\u0442 \\u043e\\u0442\\u0446\\u043e\\u0432\\u0441\\u043a\\u043e\\u0433\\u043e \\u0431\\u043b\\u044e\\u0434\\u0430: \\u0441\\u0435\\u043a\\u0440\\u0435\\u0442\\u043d\\u044b\\u0435 \\u0438\\u043d\\u0433\\u0440\\u0435\\u0434\\u0438\\u0435\\u043d\\u0442\\u044b \\u0434\\u043b\\u044f \\u043f\\u0440\\u0438\\u0433\\u043e\\u0442\\u043e\\u0432\\u043b\\u0435\\u043d\\u0438\\u044f \\u043d\\u0435\\u0436\\u043d\\u0435\\u0439\\u0448\\u0438\\u0445 \\u043a\\u043e\\u0442\\u043b\\u0435\\u0442\\\"**\\n\\n\\u0421\\u0435\\u0433\\u043e\\u0434\\u043d\\u044f \\u043c\\u044b \\u0431\\u0443\\u0434\\u0435\\u043c \\u0433\\u043e\\u0432\\u043e\\u0440\\u0438\\u0442\\u044c \\u043e \\u0442\\u043e\\u043c, \\u043a\\u0430\\u043a \\u043c\\u043e\\u0436\\u043d\\u043e \\u043f\\u0440\\u0435\\u0432\\u0440\\u0430\\u0442\\u0438\\u0442\\u044c \\u043e\\u0431\\u044b\\u0434\\u0435\\u043d\\u043d\\u043e\\u0435 \\u0431\\u043b\\u044e\\u0434\\u043e \\u0432 \\u0448\\u0435\\u0434\\u0435\\u0432\\u0440 \\u043d\\u0430 \\u0441\\u0442\\u043e\\u043b\\u0435. \\u0411\\u043b\\u0430\\u0433\\u043e\\u0434\\u0430\\u0440\\u044f \\u043d\\u0435\\u043e\\u0431\\u044b\\u0447\\u043d\\u044b\\u043c \\u0438\\u043d\\u0433\\u0440\\u0435\\u0434\\u0438\\u0435\\u043d\\u0442\\u0430\\u043c \\u0438 \\u043f\\u0440\\u043e\\u0441\\u0442\\u044b\\u043c \\u0440\\u0435\\u0446\\u0435\\u043f\\u0442\\u0430\\u043c, \\u0432\\u044b \\u0441\\u043c\\u043e\\u0436\\u0435\\u0442\\u0435 \\u0443\\u0434\\u0438\\u0432\\u0438\\u0442\\u044c \\u0441\\u0432\\u043e\\u0438\\u0445 \\u0431\\u043b\\u0438\\u0437\\u043a\\u0438\\u0445 \\u0438 \\u0434\\u0440\\u0443\\u0437\\u0435\\u0439 \\u043d\\u0430 \\u043f\\u0440\\u0430\\u0437\\u0434\\u043d\\u0438\\u043a\\u0435. \\n\\n\\u041e\\u0434\\u0438\\u043d \\u0438\\u0437 \\u0442\\u0430\\u043a\\u0438\\u0445 \\u0440\\u0435\\u0446\\u0435\\u043f\\u0442\\u043e\\u0432 - \\u043d\\u0435\\u0436\\u043d\\u0435\\u0439\\u0448\\u0438\\u0435 \\u043a\\u043e\\u0442\\u043b\\u0435\\u0442\\u044b. \\u0414\\u043b\\u044f \\u043f\\u0440\\u0438\\u0433\\u043e\\u0442\\u043e\\u0432\\u043b\\u0435\\u043d\\u0438\\u044f \\u044d\\u0442\\u0438\\u0445 \\u043a\\u043e\\u0442\\u043b\\u0435\\u0442 \\u0432\\u0430\\u043c \\u043f\\u043e\\u043d\\u0430\\u0434\\u043e\\u0431\\u044f\\u0442\\u0441\\u044f \\u043d\\u0435\\u0441\\u043a\\u043e\\u043b\\u044c\\u043a\\u043e \\u0438\\u043d\\u0433\\u0440\\u0435\\u0434\\u0438\\u0435\\u043d\\u0442\\u043e\\u0432: \\u043d\\u0435\\u0436\\u043d\\u044b\\u0435 \\u043a\\u043e\\u0442\\u043b\\u0435\\u0442\\u044b (1 \\u043a\\u0433), \\u0441\\u043c\\u0435\\u0442\\u0430\\u043d\\u0430 (1 \\u0441\\u0442.\\u043b.), \\u0437\\u0435\\u043b\\u0435\\u043d\\u044b\\u0439 \\u043b\\u0443\\u043a (1 \\u043f\\u0443\\u0447\\u043e\\u043a), \\u0443\\u043a\\u0440\\u043e\\u043f (1 \\u043f\\u0443\\u0447\\u043e\\u043a), \\u0441\\u043e\\u043b\\u044c (1 \\u0449\\u0435\\u043f\\u043e\\u0442\\u043a\\u0430), \\u043f\\u0435\\u0440\\u0435\\u0446 (1 \\u0449\\u0435\\u043f\\u043e\\u0442\\u043a\\u0430), \\u044f\\u0439\\u0446\\u0430 (2 \\u0448\\u0442.), \\u043c\\u0443\\u043a\\u0430 (1 \\u0441\\u0442.\\u043b.), \\u043c\\u043e\\u043b\\u043e\\u043a\\u043e (1 \\u0441\\u0442.\\u043b.), \\u0441\\u043b\\u0438\\u0432\\u043e\\u0447\\u043d\\u043e\\u0435 \\u043c\\u0430\\u0441\\u043b\\u043e (1 \\u0441\\u0442.\\u043b.), \\u0441\\u043c\\u0435\\u0442\\u0430\\u043d\\u0430 (1 \\u0441\\u0442.\\u043b.), \\u0441\\u043c\\u0435\\u0442\\u0430\\u043d\\u0430 (1 \\u0441\\u0442.\\u043b.), \\u0441\\u043c\\u0435\\u0442\\u0430\\u043d\\u0430 (1 \\u0441\\u0442.\\u043b.), \\u0441\\u043c\\u0435\\u0442\\u0430\\u043d\\u0430 (1 \\u0441\\u0442.\\u043b.), \\u0441\\u043c\\u0435\\u0442\\u0430\\u043d\\u0430 (1 \\u0441\\u0442.\\u043b.), \\u0441\\u043c\\u0435\\u0442\\u0430\\u043d\\u0430 (1 \\u0441\\u0442.\\u043b.), \\u0441\\u043c\\u0435\\u0442\\u0430\\u043d\\u0430 (1 \\u0441\\u0442.\\u043b.), \\u0441\\u043c\\u0435\\u0442\\u0430\\u043d\\u0430 (1 \\u0441\\u0442.\\u043b.), \\u0441\\u043c\\u0435\\u0442\\u0430\\u043d\\u0430 (1 \\u0441\\u0442.\\u043b.), \\u0441\\u043c\\u0435\\u0442\\u0430\\u043d\\u0430 (1 \\u0441\\u0442.\\u043b.), \\u0441\\u043c\\u0435\\u0442\\u0430\\u043d\\u0430 (1 \\u0441\\u0442.\\u043b.), \\u0441\\u043c\\u0435\\u0442\\u0430\\u043d\\u0430 (1 \\u0441\\u0442.\\u043b.), \\u0441\\u043c\\u0435\\u0442\\u0430\\u043d\\u0430 (1 \\u0441\\u0442.\\u043b.), \\u0441\\u043c\\u0435\\u0442\\u0430\\u043d\\u0430 (1 \\u0441\\u0442.\\u043b.), \\u0441\\u043c\\u0435\\u0442\\u0430\\u043d\\u0430 (1 \\u0441\\u0442.\\u043b.), \\u0441\\u043c\\u0435\\u0442\\u0430\\u043d\\u0430 (1 \\u0441\\u0442.\\u043b.), \\u0441\\u043c\\u0435\\u0442\\u0430\\u043d\\u0430 (1 \\u0441\\u0442.\\u043b.), \\u0441\\u043c\\u0435\\u0442\\u0430\\u043d\\u0430 (1 \\u0441\\u0442.\\u043b.), \\u0441\\u043c\\u0435\\u0442\\u0430\\u043d\\u0430 (1 \\u0441\\u0442.\\u043b.), \\u0441\\u043c\\u0435\\u0442\\u0430\\u043d\\u0430 (1 \\u0441\\u0442.\\u043b.), \\u0441\\u043c\\u0435\\u0442\\u0430\\u043d\\u0430 (1 \\u0441\\u0442.\\u043b.), \\u0441\\u043c\\u0435\\u0442\\u0430\\u043d\\u0430 (1 \\u0441\\u0442.\\u043b.), \\u0441\\u043c\\u0435\\u0442\\u0430\\u043d\\u0430 (1 \\u0441\\u0442.\\u043b.), \\u0441\\u043c\\u0435\\u0442\\u0430\\u043d\\u0430 (1 \\u0441\\u0442.\\u043b.), \\u0441\\u043c\\u0435\\u0442\\u0430\\u043d\\u0430 (1 \\u0441\\u0442.\\u043b.), \\u0441\\u043c\\u0435\\u0442\\u0430\\u043d\\u0430 (1 \\u0441\\u0442.\\u043b.), \\u0441\\u043c\\u0435\\u0442\\u0430\\u043d\\u0430 (1 \\u0441\\u0442.\\u043b.), \\u0441\\u043c\\u0435\\u0442\\u0430\\u043d\\u0430 (1 \\u0441\\u0442.\\u043b.), \\u0441\\u043c\\u0435\\u0442\\u0430\\u043d\\u0430 (1 \\u0441\\u0442.\\u043b.), \\u0441\\u043c\\u0435\\u0442\\u0430\\u043d\\u0430 (1 \\u0441\\u0442.\\u043b.), \\u0441\\u043c\\u0435\\u0442\\u0430\\u043d\\u0430 (1 \\u0441\\u0442.\\u043b.), \\u0441\\u043c\\u0435\\u0442\\u0430\\u043d\\u0430 (1 \\u0441\\u0442.\\u043b.), \\u0441\\u043c\\u0435\\u0442\\u0430\\u043d\\u0430 (1 \\u0441\\u0442.\\u043b.), \\u0441\\u043c\\u0435\\u0442\\u0430\\u043d\\u0430 (1 \\u0441\\u0442.\\u043b.), \\u0441\\u043c\\u0435\\u0442\\u0430\\u043d\\u0430 (1 \\u0441\\u0442.\\u043b.), \\u0441\\u043c\\u0435\\u0442\\u0430\\u043d\\u0430 (1 \\u0441\\u0442.\\u043b.), \\u0441\\u043c\\u0435\\u0442\\u0430\\u043d\\u0430 (1 \\u0441\\u0442.\\u043b.), \\u0441\\u043c\\u0435\\u0442\\u0430\\u043d\\u0430 (1 \\u0441\\u0442.\\u043b.), \\u0441\\u043c\\u0435\\u0442\\u0430\\u043d\\u0430 (1 \\u0441\\u0442.\\u043b.), \\u0441\\u043c\\u0435\\u0442\\u0430\\u043d\\u0430 (1 \\u0441\\u0442.\\u043b.), \\u0441\\u043c\\u0435\\u0442\\u0430\\u043d\\u0430 (1 \\u0441\\u0442.\\u043b.), \\u0441\\u043c\\u0435\\u0442\\u0430\\u043d\\u0430 (1 \\u0441\\u0442.\\u043b.), \\u0441\\u043c\\u0435\\u0442\\u0430\\u043d\\u0430 (1 \\u0441\\u0442.\\u043b.), \\u0441\\u043c\\u0435\\u0442\\u0430\\u043d\\u0430 (1 \\u0441\\u0442.\\u043b.), \\u0441\\u043c\\u0435\\u0442\\u0430\\u043d\\u0430 (1 \\u0441\\u0442.\\u043b.), \\u0441\\u043c\\u0435\\u0442\\u0430\\u043d\\u0430 (1 \\u0441\\u0442.\\u043b.), \\u0441\\u043c\\u0435\\u0442\\u0430\\u043d\\u0430 (1 \\u0441\\u0442.\\u043b.), \\u0441\\u043c\\u0435\\u0442\\u0430\\u043d\\u0430 (1 \\u0441\\u0442.\\u043b.), \\u0441\\u043c\\u0435\\u0442\\u0430\\u043d\\u0430 (1 \\u0441\\u0442.\\u043b.), \\u0441\\u043c\\u0435\\u0442\\u0430\\u043d\\u0430 (1 \\u0441\\u0442.\\u043b.), \\u0441\\u043c\\u0435\\u0442\\u0430\\u043d\\u0430 (1 \\u0441\\u0442.\\u043b.), \\u0441\\u043c\\u0435\\u0442\\u0430\\u043d\\u0430 (1 \\u0441\\u0442.\\u043b.), \\u0441\\u043c\\u0435\\u0442\\u0430\\u043d\\u0430 (1 \\u0441\\u0442.\\u043b.), \\u0441\\u043c\\u0435\\u0442\\u0430\\u043d\\u0430 (1 \\u0441\\u0442.\\u043b.), \\u0441\\u043c\\u0435\\u0442\\u0430\\u043d\\u0430 (1 \\u0441\\u0442.\\u043b.),\"\n        ],\n        \"semantic_type\": \"\",\n        \"description\": \"\"\n      }\n    },\n    {\n      \"column\": \"\\u041e\\u043f\\u0440\\u043e\\u0441\\u044b\",\n      \"properties\": {\n        \"dtype\": \"string\",\n        \"num_unique_values\": 10,\n        \"samples\": [\n          \"\\u0417\\u0430\\u0433\\u043e\\u043b\\u043e\\u0432\\u043e\\u043a: \\u0412 \\u0420\\u043e\\u0441\\u0441\\u0438\\u0438 \\u043f\\u0440\\u043e\\u0432\\u0435\\u0434\\u0435\\u043d \\u043a\\u0440\\u0443\\u043f\\u043d\\u0435\\u0439\\u0448\\u0438\\u0439 \\u043e\\u043f\\u0440\\u043e\\u0441 \\u043e \\u043d\\u0430\\u0441\\u0442\\u0440\\u043e\\u0435\\u043d\\u0438\\u0438 \\u0433\\u0440\\u0430\\u0436\\u0434\\u0430\\u043d\\n\\n\\u0412 \\u0420\\u043e\\u0441\\u0441\\u0438\\u0438 \\u0437\\u0430\\u0432\\u0435\\u0440\\u0448\\u0435\\u043d \\u043c\\u0430\\u0441\\u0448\\u0442\\u0430\\u0431\\u043d\\u044b\\u0439 \\u043e\\u043f\\u0440\\u043e\\u0441, \\u043f\\u0440\\u043e\\u0432\\u0435\\u0434\\u0435\\u043d\\u043d\\u044b\\u0439 \\u043d\\u0430 \\u043f\\u043b\\u043e\\u0449\\u0430\\u0434\\u0438 \\u0431\\u043e\\u043b\\u0435\\u0435 3 \\u043c\\u0438\\u043b\\u043b\\u0438\\u043e\\u043d\\u043e\\u0432 \\u0447\\u0435\\u043b\\u043e\\u0432\\u0435\\u043a. \\u0412 \\u0445\\u043e\\u0434\\u0435 \\u043e\\u043f\\u0440\\u043e\\u0441\\u0430 \\u0433\\u0440\\u0430\\u0436\\u0434\\u0430\\u043d\\u0430\\u043c \\u0437\\u0430\\u0434\\u0430\\u0432\\u0430\\u043b\\u0438\\u0441\\u044c \\u0432\\u043e\\u043f\\u0440\\u043e\\u0441\\u044b \\u043e \\u0438\\u0445 \\u043d\\u0430\\u0441\\u0442\\u0440\\u043e\\u0435\\u043d\\u0438\\u0438, \\u043e\\u0442\\u043d\\u043e\\u0448\\u0435\\u043d\\u0438\\u0438 \\u043a \\u0432\\u043b\\u0430\\u0441\\u0442\\u0438 \\u0438 \\u0436\\u0438\\u0437\\u043d\\u0438 \\u0432 \\u0441\\u0442\\u0440\\u0430\\u043d\\u0435. \\u0411\\u043e\\u043b\\u044c\\u0448\\u0435 \\u0432\\u0441\\u0435\\u0433\\u043e \\u043b\\u044e\\u0434\\u0435\\u0439 \\u0432\\u043e\\u043b\\u043d\\u0443\\u0435\\u0442 \\u044d\\u043a\\u043e\\u043d\\u043e\\u043c\\u0438\\u0447\\u0435\\u0441\\u043a\\u043e\\u0435 \\u043f\\u043e\\u043b\\u043e\\u0436\\u0435\\u043d\\u0438\\u0435 \\u0420\\u043e\\u0441\\u0441\\u0438\\u0438 \\u0438 \\u0443\\u0440\\u043e\\u0432\\u0435\\u043d\\u044c \\u0437\\u0430\\u0440\\u043f\\u043b\\u0430\\u0442, \\u0430 \\u0442\\u0430\\u043a\\u0436\\u0435 \\u043f\\u0440\\u043e\\u0431\\u043b\\u0435\\u043c\\u044b \\u0432 \\u0441\\u0444\\u0435\\u0440\\u0435 \\u0437\\u0434\\u0440\\u0430\\u0432\\u043e\\u043e\\u0445\\u0440\\u0430\\u043d\\u0435\\u043d\\u0438\\u044f \\u0438 \\u043e\\u0431\\u0440\\u0430\\u0437\\u043e\\u0432\\u0430\\u043d\\u0438\\u044f.\\n\\n\\u0421\\u043e\\u0433\\u043b\\u0430\\u0441\\u043d\\u043e \\u0440\\u0435\\u0437\\u0443\\u043b\\u044c\\u0442\\u0430\\u0442\\u0430\\u043c \\u043e\\u043f\\u0440\\u043e\\u0441\\u0430, \\u0431\\u043e\\u043b\\u0435\\u0435 60% \\u043e\\u043f\\u0440\\u043e\\u0448\\u0435\\u043d\\u043d\\u044b\\u0445 \\u0433\\u0440\\u0430\\u0436\\u0434\\u0430\\u043d \\u0441\\u0447\\u0438\\u0442\\u0430\\u044e\\u0442, \\u0447\\u0442\\u043e \\u044d\\u043a\\u043e\\u043d\\u043e\\u043c\\u0438\\u0447\\u0435\\u0441\\u043a\\u043e\\u0435 \\u043f\\u043e\\u043b\\u043e\\u0436\\u0435\\u043d\\u0438\\u0435 \\u0432 \\u0441\\u0442\\u0440\\u0430\\u043d\\u0435 \\u0443\\u0445\\u0443\\u0434\\u0448\\u0430\\u0435\\u0442\\u0441\\u044f, \\u0430 40% - \\u0447\\u0442\\u043e \\u043e\\u043d\\u043e \\u0441\\u0442\\u0430\\u0431\\u0438\\u043b\\u0438\\u0437\\u0438\\u0440\\u0443\\u0435\\u0442\\u0441\\u044f. \\u041f\\u0440\\u0438 \\u044d\\u0442\\u043e\\u043c 20% \\u0433\\u0440\\u0430\\u0436\\u0434\\u0430\\u043d \\u0443\\u0432\\u0435\\u0440\\u0435\\u043d\\u044b, \\u0447\\u0442\\u043e \\u044d\\u043a\\u043e\\u043d\\u043e\\u043c\\u0438\\u043a\\u0430 \\u0420\\u043e\\u0441\\u0441\\u0438\\u0438 \\u0431\\u0443\\u0434\\u0435\\u0442 \\u0440\\u0430\\u0441\\u0442\\u0438 \\u0432 \\u0431\\u043b\\u0438\\u0436\\u0430\\u0439\\u0448\\u0435\\u043c \\u0431\\u0443\\u0434\\u0443\\u0449\\u0435\\u043c.\\n\\n\\u041a\\u0440\\u043e\\u043c\\u0435 \\u0442\\u043e\\u0433\\u043e, \\u043e\\u043f\\u0440\\u043e\\u0441 \\u043f\\u043e\\u043a\\u0430\\u0437\\u0430\\u043b, \\u0447\\u0442\\u043e \\u0431\\u043e\\u043b\\u0435\\u0435 50% \\u043e\\u043f\\u0440\\u043e\\u0448\\u0435\\u043d\\u043d\\u044b\\u0445 \\u0433\\u0440\\u0430\\u0436\\u0434\\u0430\\u043d \\u043a\\u0440\\u0438\\u0442\\u0438\\u0447\\u0435\\u0441\\u043a\\u0438 \\u043d\\u0430\\u0441\\u0442\\u0440\\u043e\\u0435\\u043d\\u044b \\u043a \\u0440\\u0430\\u0431\\u043e\\u0442\\u0435 \\u0432\\u043b\\u0430\\u0441\\u0442\\u0438 \\u0438 \\u0441\\u0447\\u0438\\u0442\\u0430\\u044e\\u0442, \\u0447\\u0442\\u043e \\u043e\\u043d\\u0430 \\u043d\\u0435 \\u0441\\u043f\\u0440\\u0430\\u0432\\u043b\\u044f\\u0435\\u0442\\u0441\\u044f \\u0441\\u043e \\u0441\\u0432\\u043e\\u0438\\u043c\\u0438 \\u043e\\u0431\\u044f\\u0437\\u0430\\u043d\\u043d\\u043e\\u0441\\u0442\\u044f\\u043c\\u0438. \\u0412 \\u0442\\u043e \\u0436\\u0435 \\u0432\\u0440\\u0435\\u043c\\u044f 30% \\u0433\\u0440\\u0430\\u0436\\u0434\\u0430\\u043d \\u0441\\u0447\\u0438\\u0442\\u0430\\u044e\\u0442, \\u0447\\u0442\\u043e \\u0432\\u043b\\u0430\\u0441\\u0442\\u0438 \\u0432\\u044b\\u043f\\u043e\\u043b\\u043d\\u044f\\u044e\\u0442 \\u0441\\u0432\\u043e\\u0438 \\u043e\\u0431\\u044f\\u0437\\u0430\\u043d\\u043d\\u043e\\u0441\\u0442\\u0438 \\u043d\\u0430 \\u0445\\u043e\\u0440\\u043e\\u0448\\u0435\\u043c \\u0443\\u0440\\u043e\\u0432\\u043d\\u0435.\\n\\n\\u0422\\u0430\\u043a\\u0436\\u0435 \\u0431\\u044b\\u043b\\u043e \\u043f\\u0440\\u043e\\u0432\\u0435\\u0434\\u0435\\u043d\\u043e \\u043c\\u043d\\u043e\\u0436\\u0435\\u0441\\u0442\\u0432\\u043e \\u0434\\u0440\\u0443\\u0433\\u0438\\u0445 \\u043e\\u043f\\u0440\\u043e\\u0441\\u043e\\u0432, \\u0432 \\u0442\\u043e\\u043c \\u0447\\u0438\\u0441\\u043b\\u0435 \\u0438 \\u043f\\u043e \\u0432\\u043e\\u043f\\u0440\\u043e\\u0441\\u0430\\u043c \\u043e \\u043f\\u0440\\u0435\\u0434\\u043f\\u043e\\u0447\\u0442\\u0435\\u043d\\u0438\\u044f\\u0445 \\u0433\\u0440\\u0430\\u0436\\u0434\\u0430\\u043d \\u0432 \\u043e\\u0431\\u043b\\u0430\\u0441\\u0442\\u0438 \\u043f\\u043e\\u043b\\u0438\\u0442\\u0438\\u043a\\u0438 \\u0438 \\u044d\\u043a\\u043e\\u043d\\u043e\\u043c\\u0438\\u043a\\u0438. \\u0420\\u0435\\u0437\\u0443\\u043b\\u044c\\u0442\\u0430\\u0442\\u044b \\u044d\\u0442\\u0438\\u0445 \\u043e\\u043f\\u0440\\u043e\\u0441\\u043e\\u0432 \\u043f\\u043e\\u0437\\u0432\\u043e\\u043b\\u044f\\u0442 \\u043f\\u043e\\u043b\\u0438\\u0442\\u0438\\u043a\\u0430\\u043c \\u0438 \\u044d\\u043a\\u043e\\u043d\\u043e\\u043c\\u0438\\u0441\\u0442\\u0430\\u043c \\u043b\\u0443\\u0447\\u0448\\u0435 \\u043f\\u043e\\u043d\\u0438\\u043c\\u0430\\u0442\\u044c \\u043d\\u0430\\u0441\\u0442\\u0440\\u043e\\u0435\\u043d\\u0438\\u044f \\u0433\\u0440\\u0430\\u0436\\u0434\\u0430\\u043d \\u0438 \\u043f\\u0440\\u0438\\u043d\\u0438\\u043c\\u0430\\u0442\\u044c \\u0431\\u043e\\u043b\\u0435\\u0435 \\u044d\\u0444\\u0444\\u0435\\u043a\\u0442\\u0438\\u0432\\u043d\\u044b\\u0435 \\u0440\\u0435\\u0448\\u0435\\u043d\\u0438\\u044f \\u0434\\u043b\\u044f \\u0443\\u043b\\u0443\\u0447\\u0448\\u0435\\u043d\\u0438\\u044f \\u0436\\u0438\\u0437\\u043d\\u0438 \\u0432 \\u0441\\u0442\\u0440\\u0430\\u043d\\u0435.\",\n          \"\\u041d\\u043e\\u0432\\u043e\\u0441\\u0442\\u043d\\u043e\\u0435 \\u0438\\u0437\\u0434\\u0430\\u043d\\u0438\\u0435: \\\"\\u041e\\u043f\\u0440\\u043e\\u0441: \\u0431\\u043e\\u043b\\u044c\\u0448\\u0438\\u043d\\u0441\\u0442\\u0432\\u043e \\u0440\\u043e\\u0441\\u0441\\u0438\\u044f\\u043d \\u0441\\u0447\\u0438\\u0442\\u0430\\u044e\\u0442, \\u0447\\u0442\\u043e \\u043e\\u0431\\u0449\\u0435\\u0441\\u0442\\u0432\\u043e \\u0434\\u0432\\u0438\\u0436\\u0435\\u0442\\u0441\\u044f \\u0432 \\u043f\\u0440\\u0430\\u0432\\u0438\\u043b\\u044c\\u043d\\u043e\\u043c \\u043d\\u0430\\u043f\\u0440\\u0430\\u0432\\u043b\\u0435\\u043d\\u0438\\u0438\\\"\\n\\n\\u041c\\u043e\\u0441\\u043a\\u0432\\u0430, 10 \\u0438\\u044e\\u043d\\u044f 2023 \\u0433\\u043e\\u0434\\u0430. \\u0412 \\u043f\\u043e\\u043d\\u0435\\u0434\\u0435\\u043b\\u044c\\u043d\\u0438\\u043a \\u0432\\u044b\\u0448\\u0435\\u043b \\u043d\\u043e\\u0432\\u044b\\u0439 \\u043e\\u043f\\u0440\\u043e\\u0441, \\u043f\\u0440\\u043e\\u0432\\u0435\\u0434\\u0435\\u043d\\u043d\\u044b\\u0439 \\u0441\\u0438\\u0441\\u0442\\u0435\\u043c\\u043e\\u0439 \\u0441\\u043e\\u0446\\u0438\\u043e\\u043b\\u043e\\u0433\\u0438\\u0447\\u0435\\u0441\\u043a\\u0438\\u0445 \\u0438\\u0441\\u0441\\u043b\\u0435\\u0434\\u043e\\u0432\\u0430\\u043d\\u0438\\u0439, \\u043a\\u043e\\u0442\\u043e\\u0440\\u044b\\u0439 \\u043f\\u043e\\u043a\\u0430\\u0437\\u044b\\u0432\\u0430\\u0435\\u0442, \\u0447\\u0442\\u043e \\u0431\\u043e\\u043b\\u044c\\u0448\\u0438\\u043d\\u0441\\u0442\\u0432\\u043e \\u0440\\u043e\\u0441\\u0441\\u0438\\u044f\\u043d \\u0443\\u0432\\u0435\\u0440\\u0435\\u043d\\u044b, \\u0447\\u0442\\u043e \\u043e\\u0431\\u0449\\u0435\\u0441\\u0442\\u0432\\u043e \\u0434\\u0432\\u0438\\u0436\\u0435\\u0442\\u0441\\u044f \\u0432 \\u043f\\u0440\\u0430\\u0432\\u0438\\u043b\\u044c\\u043d\\u043e\\u043c \\u043d\\u0430\\u043f\\u0440\\u0430\\u0432\\u043b\\u0435\\u043d\\u0438\\u0438. \\u041e\\u043f\\u0440\\u043e\\u0441 \\u043f\\u043e\\u043a\\u0430\\u0437\\u044b\\u0432\\u0430\\u0435\\u0442, \\u0447\\u0442\\u043e 57% \\u0440\\u0435\\u0441\\u043f\\u043e\\u043d\\u0434\\u0435\\u043d\\u0442\\u043e\\u0432 \\u0441\\u0447\\u0438\\u0442\\u0430\\u044e\\u0442, \\u0447\\u0442\\u043e \\u0441\\u0442\\u0440\\u0430\\u043d\\u0430 \\u0434\\u0432\\u0438\\u0436\\u0435\\u0442\\u0441\\u044f \\u0432\\u043f\\u0435\\u0440\\u0451\\u0434, \\u0432 \\u0442\\u043e \\u0432\\u0440\\u0435\\u043c\\u044f \\u043a\\u0430\\u043a 23% \\u0443\\u0432\\u0435\\u0440\\u0435\\u043d\\u044b, \\u0447\\u0442\\u043e \\u0441\\u0442\\u0440\\u0430\\u043d\\u0430 \\u043d\\u0430\\u0445\\u043e\\u0434\\u0438\\u0442\\u0441\\u044f \\u0432 \\u0441\\u043e\\u0441\\u0442\\u043e\\u044f\\u043d\\u0438\\u0438 \\u0441\\u0442\\u0430\\u0433\\u043d\\u0430\\u0446\\u0438\\u0438 \\u0438\\u043b\\u0438 \\u0440\\u0435\\u0433\\u0440\\u0435\\u0441\\u0441\\u0430.\\n\\n\\u0421\\u043e\\u0433\\u043b\\u0430\\u0441\\u043d\\u043e \\u0440\\u0435\\u0437\\u0443\\u043b\\u044c\\u0442\\u0430\\u0442\\u0430\\u043c \\u0438\\u0441\\u0441\\u043b\\u0435\\u0434\\u043e\\u0432\\u0430\\u043d\\u0438\\u044f, \\u0431\\u043e\\u043b\\u044c\\u0448\\u0438\\u043d\\u0441\\u0442\\u0432\\u043e \\u0440\\u043e\\u0441\\u0441\\u0438\\u044f\\u043d \\u0442\\u0430\\u043a\\u0436\\u0435 \\u0441\\u0447\\u0438\\u0442\\u0430\\u044e\\u0442, \\u0447\\u0442\\u043e \\u0441\\u0438\\u0441\\u0442\\u0435\\u043c\\u043d\\u044b\\u0435 \\u0438\\u0437\\u043c\\u0435\\u043d\\u0435\\u043d\\u0438\\u044f, \\u043f\\u0440\\u043e\\u0438\\u0437\\u043e\\u0448\\u0435\\u0434\\u0448\\u0438\\u0435 \\u0432 \\u0441\\u0442\\u0440\\u0430\\u043d\\u0435 \\u0432 \\u043f\\u043e\\u0441\\u043b\\u0435\\u0434\\u043d\\u0438\\u0435 \\u0433\\u043e\\u0434\\u044b, \\u043f\\u043e\\u043b\\u043e\\u0436\\u0438\\u0442\\u0435\\u043b\\u044c\\u043d\\u044b\\u0435. \\u0422\\u043e\\u043b\\u044c\\u043a\\u043e 14% \\u0440\\u0435\\u0441\\u043f\\u043e\\u043d\\u0434\\u0435\\u043d\\u0442\\u043e\\u0432 \\u0432\\u044b\\u0440\\u0430\\u0437\\u0438\\u043b\\u0438 \\u043e\\u043f\\u0430\\u0441\\u0435\\u043d\\u0438\\u044f \\u043f\\u043e \\u043f\\u043e\\u0432\\u043e\\u0434\\u0443 \\u0441\\u0438\\u0441\\u0442\\u0435\\u043c\\u043d\\u044b\\u0445 \\u043f\\u0435\\u0440\\u0435\\u043c\\u0435\\u043d, \\u043f\\u0440\\u043e\\u0438\\u0437\\u043e\\u0448\\u0435\\u0434\\u0448\\u0438\\u0445 \\u0432 \\u0441\\u0442\\u0440\\u0430\\u043d\\u0435. \\u0411\\u043e\\u043b\\u0435\\u0435 \\u0442\\u043e\\u0433\\u043e, \\u0431\\u043e\\u043b\\u044c\\u0448\\u0438\\u043d\\u0441\\u0442\\u0432\\u043e \\u0440\\u043e\\u0441\\u0441\\u0438\\u044f\\u043d (63%) \\u0441\\u0447\\u0438\\u0442\\u0430\\u044e\\u0442, \\u0447\\u0442\\u043e \\u0441\\u0438\\u0441\\u0442\\u0435\\u043c\\u043d\\u044b\\u0435 \\u0438\\u0437\\u043c\\u0435\\u043d\\u0435\\u043d\\u0438\\u044f \\u043f\\u043e\\u043c\\u043e\\u0433\\u0430\\u044e\\u0442 \\u0443\\u043b\\u0443\\u0447\\u0448\\u0438\\u0442\\u044c \\u0436\\u0438\\u0437\\u043d\\u044c \\u0432 \\u0441\\u0442\\u0440\\u0430\\u043d\\u0435.\\n\\n\\u041e\\u0434\\u043d\\u0430\\u043a\\u043e, \\u043d\\u0435 \\u0432\\u0441\\u0435 \\u0440\\u0435\\u0441\\u043f\\u043e\\u043d\\u0434\\u0435\\u043d\\u0442\\u044b \\u0441\\u043e\\u0433\\u043b\\u0430\\u0441\\u043d\\u044b \\u0441 \\u044d\\u0442\\u043e\\u0439 \\u0442\\u043e\\u0447\\u043a\\u043e\\u0439 \\u0437\\u0440\\u0435\\u043d\\u0438\\u044f. 21% \\u0440\\u043e\\u0441\\u0441\\u0438\\u044f\\u043d \\u0432\\u044b\\u0440\\u0430\\u0437\\u0438\\u043b\\u0438 \\u043e\\u0431\\u0435\\u0441\\u043f\\u043e\\u043a\\u043e\\u0435\\u043d\\u043d\\u043e\\u0441\\u0442\\u044c \\u0441\\u0438\\u0441\\u0442\\u0435\\u043c\\u043d\\u044b\\u043c\\u0438 \\u0438\\u0437\\u043c\\u0435\\u043d\\u0435\\u043d\\u0438\\u044f\\u043c\\u0438, \\u0430 16% \\u0441\\u0447\\u0438\\u0442\\u0430\\u044e\\u0442, \\u0447\\u0442\\u043e \\u0438\\u0437\\u043c\\u0435\\u043d\\u0435\\u043d\\u0438\\u044f \\u043d\\u0435\\u0433\\u0430\\u0442\\u0438\\u0432\\u043d\\u043e \\u043f\\u043e\\u0432\\u043b\\u0438\\u044f\\u043b\\u0438 \\u043d\\u0430 \\u0436\\u0438\\u0437\\u043d\\u044c \\u0432 \\u0441\\u0442\\u0440\\u0430\\u043d\\u0435.\",\n          \"\\u041d\\u043e\\u0432\\u044b\\u0439 \\u043e\\u043f\\u0440\\u043e\\u0441: \\u0431\\u043e\\u043b\\u044c\\u0448\\u0438\\u043d\\u0441\\u0442\\u0432\\u043e \\u0440\\u043e\\u0441\\u0441\\u0438\\u044f\\u043d \\u0441\\u0447\\u0438\\u0442\\u0430\\u044e\\u0442, \\u0447\\u0442\\u043e \\u0432 \\u0420\\u043e\\u0441\\u0441\\u0438\\u0438 \\u043d\\u0443\\u0436\\u043d\\u043e \\u0440\\u0430\\u0437\\u0432\\u0438\\u0432\\u0430\\u0442\\u044c \\u0438\\u043d\\u043d\\u043e\\u0432\\u0430\\u0446\\u0438\\u0438 \\u0438 \\u043f\\u043e\\u0434\\u0434\\u0435\\u0440\\u0436\\u0438\\u0432\\u0430\\u0442\\u044c \\u043c\\u0430\\u043b\\u044b\\u0439 \\u0431\\u0438\\u0437\\u043d\\u0435\\u0441\\n\\n\\u0412 \\u0440\\u0430\\u043c\\u043a\\u0430\\u0445 \\u0412\\u0441\\u0435\\u0440\\u043e\\u0441\\u0441\\u0438\\u0439\\u0441\\u043a\\u043e\\u0433\\u043e \\u0441\\u043e\\u044e\\u0437\\u0430 \\u043f\\u0440\\u043e\\u043c\\u044b\\u0448\\u043b\\u0435\\u043d\\u043d\\u0438\\u043a\\u043e\\u0432 \\u0438 \\u043f\\u0440\\u0435\\u0434\\u043f\\u0440\\u0438\\u043d\\u0438\\u043c\\u0430\\u0442\\u0435\\u043b\\u0435\\u0439 (\\u0412\\u0441\\u0435\\u0440\\u043e\\u0441\\u0441\\u0438\\u0439\\u0441\\u043a\\u0438\\u0439 \\u0441\\u043e\\u044e\\u0437 \\u043f\\u0440\\u043e\\u043c\\u044b\\u0448\\u043b\\u0435\\u043d\\u043d\\u0438\\u043a\\u043e\\u0432 \\u0438 \\u043f\\u0440\\u0435\\u0434\\u043f\\u0440\\u0438\\u043d\\u0438\\u043c\\u0430\\u0442\\u0435\\u043b\\u0435\\u0439) \\u0431\\u044b\\u043b \\u043f\\u0440\\u043e\\u0432\\u0435\\u0434\\u0435\\u043d \\u043d\\u043e\\u0432\\u044b\\u0439 \\u043e\\u043f\\u0440\\u043e\\u0441 \\u0441\\u0440\\u0435\\u0434\\u0438 \\u0440\\u043e\\u0441\\u0441\\u0438\\u044f\\u043d. \\u041e\\u043f\\u0440\\u043e\\u0441 \\u043f\\u043e\\u043a\\u0430\\u0437\\u0430\\u043b, \\u0447\\u0442\\u043e \\u0431\\u043e\\u043b\\u044c\\u0448\\u0438\\u043d\\u0441\\u0442\\u0432\\u043e \\u0440\\u043e\\u0441\\u0441\\u0438\\u044f\\u043d \\u0441\\u0447\\u0438\\u0442\\u0430\\u044e\\u0442, \\u0447\\u0442\\u043e \\u0432 \\u0420\\u043e\\u0441\\u0441\\u0438\\u0438 \\u043d\\u0443\\u0436\\u043d\\u043e \\u0440\\u0430\\u0437\\u0432\\u0438\\u0432\\u0430\\u0442\\u044c \\u0438\\u043d\\u043d\\u043e\\u0432\\u0430\\u0446\\u0438\\u0438 \\u0438 \\u043f\\u043e\\u0434\\u0434\\u0435\\u0440\\u0436\\u0438\\u0432\\u0430\\u0442\\u044c \\u043c\\u0430\\u043b\\u044b\\u0439 \\u0431\\u0438\\u0437\\u043d\\u0435\\u0441. \\n\\n\\u0411\\u043e\\u043b\\u0435\\u0435 60% \\u043e\\u043f\\u0440\\u043e\\u0448\\u0435\\u043d\\u043d\\u044b\\u0445 \\u0437\\u0430\\u044f\\u0432\\u0438\\u043b\\u0438, \\u0447\\u0442\\u043e \\u043c\\u0430\\u043b\\u044b\\u0439 \\u0431\\u0438\\u0437\\u043d\\u0435\\u0441 \\u0438\\u0433\\u0440\\u0430\\u0435\\u0442 \\u0432\\u0430\\u0436\\u043d\\u0443\\u044e \\u0440\\u043e\\u043b\\u044c \\u0432 \\u0440\\u0430\\u0437\\u0432\\u0438\\u0442\\u0438\\u0438 \\u044d\\u043a\\u043e\\u043d\\u043e\\u043c\\u0438\\u043a\\u0438 \\u0420\\u043e\\u0441\\u0441\\u0438\\u0438, \\u0438 \\u0447\\u0442\\u043e \\u043f\\u043e\\u0434\\u0434\\u0435\\u0440\\u0436\\u043a\\u0430 \\u043c\\u0430\\u043b\\u043e\\u0433\\u043e \\u0431\\u0438\\u0437\\u043d\\u0435\\u0441\\u0430 \\u0434\\u043e\\u043b\\u0436\\u043d\\u0430 \\u0431\\u044b\\u0442\\u044c \\u043f\\u0440\\u0438\\u043e\\u0440\\u0438\\u0442\\u0435\\u0442\\u043d\\u043e\\u0439 \\u0437\\u0430\\u0434\\u0430\\u0447\\u0435\\u0439 \\u0434\\u043b\\u044f \\u043f\\u0440\\u0430\\u0432\\u0438\\u0442\\u0435\\u043b\\u044c\\u0441\\u0442\\u0432\\u0430. \\u041f\\u0440\\u0438 \\u044d\\u0442\\u043e\\u043c, \\u0431\\u043e\\u043b\\u0435\\u0435 40% \\u043e\\u043f\\u0440\\u043e\\u0448\\u0435\\u043d\\u043d\\u044b\\u0445 \\u0441\\u0447\\u0438\\u0442\\u0430\\u044e\\u0442, \\u0447\\u0442\\u043e \\u043c\\u0430\\u043b\\u044b\\u0439 \\u0431\\u0438\\u0437\\u043d\\u0435\\u0441 \\u0434\\u043e\\u043b\\u0436\\u0435\\u043d \\u0440\\u0430\\u0437\\u0432\\u0438\\u0432\\u0430\\u0442\\u044c\\u0441\\u044f \\u0432 \\u0441\\u043e\\u0442\\u0440\\u0443\\u0434\\u043d\\u0438\\u0447\\u0435\\u0441\\u0442\\u0432\\u0435 \\u0441\\u043e \\u0441\\u0440\\u0435\\u0434\\u043d\\u0438\\u043c\\u0438 \\u0438 \\u0431\\u043e\\u043b\\u044c\\u0448\\u0438\\u043c\\u0438 \\u043f\\u0440\\u0435\\u0434\\u043f\\u0440\\u0438\\u044f\\u0442\\u0438\\u044f\\u043c\\u0438. \\n\\n\\u041a\\u0440\\u043e\\u043c\\u0435 \\u0442\\u043e\\u0433\\u043e, \\u0431\\u043e\\u043b\\u0435\\u0435 50% \\u043e\\u043f\\u0440\\u043e\\u0448\\u0435\\u043d\\u043d\\u044b\\u0445 \\u043f\\u043e\\u0434\\u0434\\u0435\\u0440\\u0436\\u0438\\u0432\\u0430\\u044e\\u0442 \\u0438\\u0434\\u0435\\u044e \\u043e \\u0442\\u043e\\u043c, \\u0447\\u0442\\u043e \\u0432 \\u0420\\u043e\\u0441\\u0441\\u0438\\u0438 \\u0434\\u043e\\u043b\\u0436\\u043d\\u0430 \\u0440\\u0430\\u0437\\u0432\\u0438\\u0432\\u0430\\u0442\\u044c\\u0441\\u044f \\u0438\\u043d\\u043d\\u043e\\u0432\\u0430\\u0446\\u0438\\u043e\\u043d\\u043d\\u0430\\u044f \\u044d\\u043a\\u043e\\u043d\\u043e\\u043c\\u0438\\u043a\\u0430. \\u041f\\u0440\\u0438 \\u044d\\u0442\\u043e\\u043c, \\u0431\\u043e\\u043b\\u0435\\u0435 30% \\u043e\\u043f\\u0440\\u043e\\u0448\\u0435\\u043d\\u043d\\u044b\\u0445 \\u0441\\u0447\\u0438\\u0442\\u0430\\u044e\\u0442, \\u0447\\u0442\\u043e \\u0438\\u043d\\u043d\\u043e\\u0432\\u0430\\u0446\\u0438\\u0438 \\u0434\\u043e\\u043b\\u0436\\u043d\\u044b \\u0440\\u0430\\u0437\\u0432\\u0438\\u0432\\u0430\\u0442\\u044c\\u0441\\u044f \\u0432 \\u0441\\u043e\\u0442\\u0440\\u0443\\u0434\\u043d\\u0438\\u0447\\u0435\\u0441\\u0442\\u0432\\u0435 \\u0441 \\u043c\\u0435\\u0436\\u0434\\u0443\\u043d\\u0430\\u0440\\u043e\\u0434\\u043d\\u044b\\u043c\\u0438 \\u043f\\u0430\\u0440\\u0442\\u043d\\u0435\\u0440\\u0430\\u043c\\u0438. \\n\\n\\u0422\\u0430\\u043a\\u0438\\u043c \\u043e\\u0431\\u0440\\u0430\\u0437\\u043e\\u043c, \\u0434\\u0430\\u043d\\u043d\\u044b\\u0435 \\u043e\\u043f\\u0440\\u043e\\u0441\\u0430 \\u043f\\u043e\\u043a\\u0430\\u0437\\u044b\\u0432\\u0430\\u044e\\u0442, \\u0447\\u0442\\u043e \\u0431\\u043e\\u043b\\u044c\\u0448\\u0438\\u043d\\u0441\\u0442\\u0432\\u043e \\u0440\\u043e\\u0441\\u0441\\u0438\\u044f\\u043d \\u043f\\u043e\\u0434\\u0434\\u0435\\u0440\\u0436\\u0438\\u0432\\u0430\\u044e\\u0442 \\u0440\\u0430\\u0437\\u0432\\u0438\\u0432\\u0430\\u043d\\u0438\\u0435 \\u043c\\u0430\\u043b\\u043e\\u0433\\u043e \\u0431\\u0438\\u0437\\u043d\\u0435\\u0441\\u0430 \\u0438 \\u0438\\u043d\\u043d\\u043e\\u0432\\u0430\\u0446\\u0438\\u0439 \\u0432 \\u0420\\u043e\\u0441\\u0441\\u0438\\u0438. \\u042d\\u0442\\u043e \\u043c\\u043e\\u0436\\u0435\\u0442 \\u0431\\u044b\\u0442\\u044c \\u0432\\u0430\\u0436\\u043d\\u044b\\u043c \\u0444\\u0430\\u043a\\u0442\\u043e\\u0440\\u043e\\u043c \\u0434\\u043b\\u044f \\u044d\\u043a\\u043e\\u043d\\u043e\\u043c\\u0438\\u0447\\u0435\\u0441\\u043a\\u043e\\u0433\\u043e \\u0440\\u043e\\u0441\\u0442\\u0430 \\u0438 \\u0443\\u0441\\u0442\\u043e\\u0439\\u0447\\u0438\\u0432\\u043e\\u0433\\u043e \\u0440\\u0430\\u0437\\u0432\\u0438\\u0442\\u0438\\u044f \\u0441\\u0442\\u0440\\u0430\\u043d\\u044b.\"\n        ],\n        \"semantic_type\": \"\",\n        \"description\": \"\"\n      }\n    },\n    {\n      \"column\": \"\\u0413\\u043e\\u043b\\u043e\\u0432\\u043e\\u043b\\u043e\\u043c\\u043a\\u0438\",\n      \"properties\": {\n        \"dtype\": \"string\",\n        \"num_unique_values\": 10,\n        \"samples\": [\n          \"**\\u0423\\u043d\\u0438\\u043a\\u0430\\u043b\\u044c\\u043d\\u043e\\u0435 \\u0440\\u0435\\u0448\\u0435\\u043d\\u0438\\u0435 \\u0433\\u043e\\u043b\\u043e\\u0432\\u043e\\u043b\\u043e\\u043c\\u043a\\u0438 \\\"\\u0421\\u043a\\u043b\\u044f\\u043d\\u043d\\u044b\\u0435 \\u0431\\u0443\\u0442\\u044b\\u043b\\u043a\\u0438\\\" \\u0440\\u0430\\u0441\\u043a\\u0440\\u044b\\u043b\\u043e \\u0433\\u0435\\u043d\\u0438\\u0430\\u043b\\u044c\\u043d\\u044b\\u0445 \\u0440\\u0435\\u0431\\u044f\\u0442 \\u0432 \\u041c\\u043e\\u0441\\u043a\\u0432\\u0435**\\n\\n\\u0412 \\u041c\\u043e\\u0441\\u043a\\u0432\\u0435 \\u0441\\u043e\\u0441\\u0442\\u043e\\u044f\\u043b\\u0441\\u044f \\u0444\\u0438\\u043d\\u0430\\u043b \\u0432\\u0441\\u0435\\u0440\\u043e\\u0441\\u0441\\u0438\\u0439\\u0441\\u043a\\u043e\\u0433\\u043e \\u043a\\u043e\\u043d\\u043a\\u0443\\u0440\\u0441\\u0430 \\u043f\\u043e \\u0440\\u0435\\u0448\\u0435\\u043d\\u0438\\u044e \\u0433\\u043e\\u043b\\u043e\\u0432\\u043e\\u043b\\u043e\\u043c\\u043a\\u0438 \\\"\\u0421\\u043a\\u043b\\u044f\\u043d\\u043d\\u044b\\u0435 \\u0431\\u0443\\u0442\\u044b\\u043b\\u043a\\u0438\\\", \\u043a\\u043e\\u0442\\u043e\\u0440\\u0430\\u044f \\u0431\\u044b\\u043b\\u0430 \\u0441\\u043e\\u0437\\u0434\\u0430\\u043d\\u0430 \\u043a\\u043e\\u043c\\u043f\\u0430\\u043d\\u0438\\u0435\\u0439 \\\"\\u041c\\u0438\\u0440 \\u0438\\u0433\\u0440\\\". \\u0421\\u043e\\u0441\\u0442\\u044f\\u0437\\u0430\\u043b\\u0438\\u0441\\u044c \\u043b\\u0443\\u0447\\u0448\\u0438\\u0435 \\u043c\\u043e\\u043b\\u043e\\u0434\\u044b\\u0435 \\u0443\\u043c\\u043d\\u0438\\u043a\\u0438 \\u0441\\u0442\\u0440\\u0430\\u043d\\u044b, \\u043a\\u043e\\u0442\\u043e\\u0440\\u044b\\u0435 \\u0434\\u043e\\u043b\\u0436\\u043d\\u044b \\u0431\\u044b\\u043b\\u0438 \\u0440\\u0430\\u0441\\u043a\\u0440\\u044b\\u0442\\u044c \\u0441\\u0435\\u043a\\u0440\\u0435\\u0442 \\u0440\\u0430\\u0441\\u043f\\u043e\\u043b\\u043e\\u0436\\u0435\\u043d\\u0438\\u044f \\u043f\\u0440\\u0435\\u0434\\u043c\\u0435\\u0442\\u043e\\u0432 \\u0432\\u043d\\u0443\\u0442\\u0440\\u0438 \\u043f\\u0440\\u043e\\u0437\\u0440\\u0430\\u0447\\u043d\\u044b\\u0445 \\u0431\\u0443\\u0442\\u044b\\u043b\\u043e\\u043a.\\n\\n\\u0412 \\u0440\\u0435\\u0437\\u0443\\u043b\\u044c\\u0442\\u0430\\u0442\\u0435, \\u0435\\u0434\\u0438\\u043d\\u0441\\u0442\\u0432\\u0435\\u043d\\u043d\\u044b\\u043c\\u0438 \\u043f\\u043e\\u0431\\u0435\\u0434\\u0438\\u0442\\u0435\\u043b\\u044f\\u043c\\u0438 \\u0441\\u0442\\u0430\\u043b\\u0438 \\u0442\\u0440\\u043e\\u0435 \\u0440\\u0435\\u0431\\u044f\\u0442 \\u0438\\u0437 \\u041c\\u043e\\u0441\\u043a\\u0432\\u044b, \\u043a\\u043e\\u0442\\u043e\\u0440\\u044b\\u0435 \\u0441\\u043c\\u043e\\u0433\\u043b\\u0438 \\u0440\\u0430\\u0441\\u043a\\u0440\\u044b\\u0442\\u044c \\u0432\\u0441\\u0435 5 \\u0431\\u0443\\u0442\\u044b\\u043b\\u043e\\u043a \\u0437\\u0430 \\u0440\\u0435\\u043a\\u043e\\u0440\\u0434\\u043d\\u044b\\u0435 4 \\u0447\\u0430\\u0441\\u0430 15 \\u043c\\u0438\\u043d\\u0443\\u0442. \\u041f\\u0440\\u0438\\u0437 \\u0434\\u043b\\u044f \\u043d\\u0438\\u0445 \\u0441\\u043e\\u0441\\u0442\\u0430\\u0432\\u0438\\u043b 100 \\u0442\\u044b\\u0441\\u044f\\u0447 \\u0440\\u0443\\u0431\\u043b\\u0435\\u0439, \\u0430 \\u0442\\u0430\\u043a\\u0436\\u0435 \\u0432\\u043e\\u0437\\u043c\\u043e\\u0436\\u043d\\u043e\\u0441\\u0442\\u044c \\u0441\\u0442\\u0430\\u0442\\u044c \\u043e\\u0441\\u043d\\u043e\\u0432\\u0430\\u0442\\u0435\\u043b\\u0435\\u043c \\u0438\\u0433\\u0440\\u043e\\u0432\\u043e\\u0439 \\u0441\\u0442\\u0443\\u0434\\u0438\\u0438 \\u0438 \\u0441\\u043e\\u0437\\u0434\\u0430\\u0432\\u0430\\u0442\\u044c \\u043d\\u043e\\u0432\\u044b\\u0435 \\u0438\\u0433\\u0440\\u044b \\u0434\\u043b\\u044f \\u0434\\u0435\\u0442\\u0435\\u0439.\\n\\n\\u041e\\u0440\\u0433\\u0430\\u043d\\u0438\\u0437\\u0430\\u0442\\u043e\\u0440\\u044b \\u043a\\u043e\\u043d\\u043a\\u0443\\u0440\\u0441\\u0430 \\u0437\\u0430\\u044f\\u0432\\u0438\\u043b\\u0438, \\u0447\\u0442\\u043e \\u0440\\u0435\\u0448\\u0435\\u043d\\u0438\\u0435 \\u0433\\u043e\\u043b\\u043e\\u0432\\u043e\\u043b\\u043e\\u043c\\u043a\\u0438 \\\"\\u0421\\u043a\\u043b\\u044f\\u043d\\u043d\\u044b\\u0435 \\u0431\\u0443\\u0442\\u044b\\u043b\\u043a\\u0438\\\" \\u0442\\u0440\\u0435\\u0431\\u0443\\u0435\\u0442 \\u043d\\u0435 \\u0442\\u043e\\u043b\\u044c\\u043a\\u043e \\u0443\\u043c\\u0435\\u043d\\u0438\\u044f, \\u043d\\u043e \\u0438 \\u043a\\u0440\\u0435\\u0430\\u0442\\u0438\\u0432\\u043d\\u043e\\u0441\\u0442\\u0438, \\u0442\\u0430\\u043a \\u043a\\u0430\\u043a \\u0438\\u0433\\u0440\\u043e\\u043a\\u0438 \\u0434\\u043e\\u043b\\u0436\\u043d\\u044b \\u0431\\u044b\\u043b\\u0438 \\u0438\\u0441\\u043f\\u043e\\u043b\\u044c\\u0437\\u043e\\u0432\\u0430\\u0442\\u044c \\u0440\\u0430\\u0437\\u043d\\u044b\\u0435 \\u043f\\u0440\\u0435\\u0434\\u043c\\u0435\\u0442\\u044b \\u0434\\u043b\\u044f \\u0440\\u0430\\u0441\\u043a\\u0440\\u044b\\u0442\\u0438\\u044f \\u0441\\u0435\\u043a\\u0440\\u0435\\u0442\\u043e\\u0432 \\u0432\\u043d\\u0443\\u0442\\u0440\\u0438 \\u0431\\u0443\\u0442\\u044b\\u043b\\u043e\\u043a. \\u041f\\u0440\\u0438 \\u044d\\u0442\\u043e\\u043c, \\u0440\\u0435\\u0448\\u0435\\u043d\\u0438\\u0435 \\u043a\\u0430\\u0436\\u0434\\u043e\\u0439 \\u0431\\u0443\\u0442\\u044b\\u043b\\u043a\\u0438 \\u0442\\u0440\\u0435\\u0431\\u043e\\u0432\\u0430\\u043b\\u043e \\u0438\\u043d\\u0434\\u0438\\u0432\\u0438\\u0434\\u0443\\u0430\\u043b\\u044c\\u043d\\u043e\\u0433\\u043e \\u043f\\u043e\\u0434\\u0445\\u043e\\u0434\\u0430, \\u0447\\u0442\\u043e \\u0434\\u0435\\u043b\\u0430\\u043b\\u043e \\u0438\\u0433\\u0440\\u0443 \\u043e\\u0441\\u043e\\u0431\\u0435\\u043d\\u043d\\u043e\\u0439 \\u0438 \\u0437\\u0430\\u0445\\u0432\\u0430\\u0442\\u044b\\u0432\\u0430\\u044e\\u0449\\u0435\\u0439 \\u0434\\u043b\\u044f \\u0438\\u0433\\u0440\\u043e\\u043a\\u043e\\u0432.\",\n          \"\\u041d\\u043e\\u0432\\u043e\\u0441\\u0442\\u044c: \\u0423\\u0433\\u0430\\u0434\\u0430\\u0439\\u0442\\u0435, \\u0433\\u0434\\u0435 \\u043d\\u0430\\u0445\\u043e\\u0434\\u0438\\u0442\\u0441\\u044f \\u0441\\u0430\\u043c\\u044b\\u0439 \\u043a\\u0440\\u0443\\u043f\\u043d\\u044b\\u0439 \\u0432 \\u043c\\u0438\\u0440\\u0435 \\u0438\\u0441\\u043a\\u0443\\u0441\\u0441\\u0442\\u0432\\u0435\\u043d\\u043d\\u044b\\u0439 \\u043e\\u0441\\u0442\\u0440\\u043e\\u0432?\\n\\n\\u041e\\u0434\\u043d\\u0430 \\u0438\\u0437 \\u0437\\u0430\\u0433\\u0430\\u0434\\u043e\\u043a, \\u0441\\u0432\\u044f\\u0437\\u0430\\u043d\\u043d\\u044b\\u0445 \\u0441 \\u0438\\u0441\\u043a\\u0443\\u0441\\u0441\\u0442\\u0432\\u0435\\u043d\\u043d\\u044b\\u043c \\u043e\\u0441\\u0442\\u0440\\u043e\\u0432\\u043e\\u043c, \\u043c\\u043e\\u0436\\u0435\\u0442 \\u0431\\u044b\\u0442\\u044c \\u0440\\u0430\\u0437\\u0440\\u0435\\u0448\\u0435\\u043d\\u0430 \\u0431\\u043b\\u0430\\u0433\\u043e\\u0434\\u0430\\u0440\\u044f \\u0430\\u043d\\u0430\\u043b\\u0438\\u0437\\u0443 \\u0441\\u043f\\u0443\\u0442\\u043d\\u0438\\u043a\\u043e\\u0432\\u044b\\u0445 \\u0441\\u043d\\u0438\\u043c\\u043a\\u043e\\u0432 \\u0438 \\u0438\\u0437\\u0443\\u0447\\u0435\\u043d\\u0438\\u044e \\u0440\\u0430\\u0437\\u043b\\u0438\\u0447\\u043d\\u044b\\u0445 \\u0438\\u0441\\u0442\\u043e\\u0447\\u043d\\u0438\\u043a\\u043e\\u0432 \\u0438\\u043d\\u0444\\u043e\\u0440\\u043c\\u0430\\u0446\\u0438\\u0438. \\u0411\\u043b\\u0430\\u0433\\u043e\\u0434\\u0430\\u0440\\u044f \\u044d\\u0442\\u0438\\u043c \\u043c\\u0435\\u0442\\u043e\\u0434\\u0430\\u043c \\u0443\\u0434\\u0430\\u043b\\u043e\\u0441\\u044c \\u043e\\u0431\\u043d\\u0430\\u0440\\u0443\\u0436\\u0438\\u0442\\u044c \\u0438\\u0441\\u043a\\u0443\\u0441\\u0441\\u0442\\u0432\\u0435\\u043d\\u043d\\u044b\\u0439 \\u043e\\u0441\\u0442\\u0440\\u043e\\u0432, \\u043a\\u043e\\u0442\\u043e\\u0440\\u044b\\u0439 \\u043c\\u043e\\u0436\\u0435\\u0442 \\u0441\\u0442\\u0430\\u0442\\u044c \\u043e\\u0442\\u0432\\u0435\\u0442\\u043e\\u043c \\u043d\\u0430 \\u0432\\u043e\\u043f\\u0440\\u043e\\u0441 \\u043e \\u043a\\u0440\\u0443\\u043f\\u043d\\u0435\\u0439\\u0448\\u0435\\u043c \\u0432 \\u043c\\u0438\\u0440\\u0435 \\u0438\\u0441\\u043a\\u0443\\u0441\\u0441\\u0442\\u0432\\u0435\\u043d\\u043d\\u043e\\u043c \\u043e\\u0441\\u0442\\u0440\\u043e\\u0432\\u0435.\\n\\n\\u041d\\u0430 \\u0438\\u0441\\u043a\\u0443\\u0441\\u0441\\u0442\\u0432\\u0435\\u043d\\u043d\\u043e\\u043c \\u043e\\u0441\\u0442\\u0440\\u043e\\u0432\\u0435, \\u043a\\u043e\\u0442\\u043e\\u0440\\u044b\\u0439 \\u0431\\u044b\\u043b \\u043e\\u0431\\u043d\\u0430\\u0440\\u0443\\u0436\\u0435\\u043d, \\u043c\\u043e\\u0436\\u043d\\u043e \\u0437\\u0430\\u043c\\u0435\\u0442\\u0438\\u0442\\u044c \\u0438\\u0441\\u043a\\u0443\\u0441\\u0441\\u0442\\u0432\\u0435\\u043d\\u043d\\u044b\\u0435 \\u0438\\u0441\\u043a\\u0443\\u0441\\u0441\\u0442\\u0432\\u0435\\u043d\\u043d\\u044b\\u0435 \\u0438\\u0441\\u043a\\u0443\\u0441\\u0441\\u0442\\u0432\\u0435\\u043d\\u043d\\u044b\\u0435 \\u0438\\u0441\\u043a\\u0443\\u0441\\u0441\\u0442\\u0432\\u0435\\u043d\\u043d\\u044b\\u0435 \\u0438\\u0441\\u043a\\u0443\\u0441\\u0441\\u0442\\u0432\\u0435\\u043d\\u043d\\u044b\\u0435 \\u0438\\u0441\\u043a\\u0443\\u0441\\u0441\\u0442\\u0432\\u0435\\u043d\\u043d\\u044b\\u0435 \\u0438\\u0441\\u043a\\u0443\\u0441\\u0441\\u0442\\u0432\\u0435\\u043d\\u043d\\u044b\\u0435 \\u0438\\u0441\\u043a\\u0443\\u0441\\u0441\\u0442\\u0432\\u0435\\u043d\\u043d\\u044b\\u0435 \\u0438\\u0441\\u043a\\u0443\\u0441\\u0441\\u0442\\u0432\\u0435\\u043d\\u043d\\u044b\\u0435 \\u0438\\u0441\\u043a\\u0443\\u0441\\u0441\\u0442\\u0432\\u0435\\u043d\\u043d\\u044b\\u0435 \\u0438\\u0441\\u043a\\u0443\\u0441\\u0441\\u0442\\u0432\\u0435\\u043d\\u043d\\u044b\\u0435 \\u0438\\u0441\\u043a\\u0443\\u0441\\u0441\\u0442\\u0432\\u0435\\u043d\\u043d\\u044b\\u0435 \\u0438\\u0441\\u043a\\u0443\\u0441\\u0441\\u0442\\u0432\\u0435\\u043d\\u043d\\u044b\\u0435 \\u0438\\u0441\\u043a\\u0443\\u0441\\u0441\\u0442\\u0432\\u0435\\u043d\\u043d\\u044b\\u0435 \\u0438\\u0441\\u043a\\u0443\\u0441\\u0441\\u0442\\u0432\\u0435\\u043d\\u043d\\u044b\\u0435 \\u0438\\u0441\\u043a\\u0443\\u0441\\u0441\\u0442\\u0432\\u0435\\u043d\\u043d\\u044b\\u0435 \\u0438\\u0441\\u043a\\u0443\\u0441\\u0441\\u0442\\u0432\\u0435\\u043d\\u043d\\u044b\\u0435 \\u0438\\u0441\\u043a\\u0443\\u0441\\u0441\\u0442\\u0432\\u0435\\u043d\\u043d\\u044b\\u0435 \\u0438\\u0441\\u043a\\u0443\\u0441\\u0441\\u0442\\u0432\\u0435\\u043d\\u043d\\u044b\\u0435 \\u0438\\u0441\\u043a\\u0443\\u0441\\u0441\\u0442\\u0432\\u0435\\u043d\\u043d\\u044b\\u0435 \\u0438\\u0441\\u043a\\u0443\\u0441\\u0441\\u0442\\u0432\\u0435\\u043d\\u043d\\u044b\\u0435 \\u0438\\u0441\\u043a\\u0443\\u0441\\u0441\\u0442\\u0432\\u0435\\u043d\\u043d\\u044b\\u0435 \\u0438\\u0441\\u043a\\u0443\\u0441\\u0441\\u0442\\u0432\\u0435\\u043d\\u043d\\u044b\\u0435 \\u0438\\u0441\\u043a\\u0443\\u0441\\u0441\\u0442\\u0432\\u0435\\u043d\\u043d\\u044b\\u0435 \\u0438\\u0441\\u043a\\u0443\\u0441\\u0441\\u0442\\u0432\\u0435\\u043d\\u043d\\u044b\\u0435 \\u0438\\u0441\\u043a\\u0443\\u0441\\u0441\\u0442\\u0432\\u0435\\u043d\\u043d\\u044b\\u0435 \\u0438\\u0441\\u043a\\u0443\\u0441\\u0441\\u0442\\u0432\\u0435\\u043d\\u043d\\u044b\\u0435 \\u0438\\u0441\\u043a\\u0443\\u0441\\u0441\\u0442\\u0432\\u0435\\u043d\\u043d\\u044b\\u0435 \\u0438\\u0441\\u043a\\u0443\\u0441\\u0441\\u0442\\u0432\\u0435\\u043d\\u043d\\u044b\\u0435 \\u0438\\u0441\\u043a\\u0443\\u0441\\u0441\\u0442\\u0432\\u0435\\u043d\\u043d\\u044b\\u0435 \\u0438\\u0441\\u043a\\u0443\\u0441\\u0441\\u0442\\u0432\\u0435\\u043d\\u043d\\u044b\\u0435 \\u0438\\u0441\\u043a\\u0443\\u0441\\u0441\\u0442\\u0432\\u0435\\u043d\\u043d\\u044b\\u0435 \\u0438\\u0441\\u043a\\u0443\\u0441\\u0441\\u0442\\u0432\\u0435\\u043d\\u043d\\u044b\\u0435 \\u0438\\u0441\\u043a\\u0443\\u0441\\u0441\\u0442\\u0432\\u0435\\u043d\\u043d\\u044b\\u0435 \\u0438\\u0441\\u043a\\u0443\\u0441\\u0441\\u0442\\u0432\\u0435\\u043d\\u043d\\u044b\\u0435 \\u0438\\u0441\\u043a\\u0443\\u0441\\u0441\\u0442\\u0432\\u0435\\u043d\\u043d\\u044b\\u0435 \\u0438\\u0441\\u043a\\u0443\\u0441\\u0441\\u0442\\u0432\\u0435\\u043d\\u043d\\u044b\\u0435 \\u0438\\u0441\\u043a\\u0443\\u0441\\u0441\\u0442\\u0432\\u0435\\u043d\\u043d\\u044b\\u0435 \\u0438\\u0441\\u043a\\u0443\\u0441\\u0441\\u0442\\u0432\\u0435\\u043d\\u043d\\u044b\\u0435 \\u0438\\u0441\\u043a\\u0443\\u0441\\u0441\\u0442\\u0432\\u0435\\u043d\\u043d\\u044b\\u0435 \\u0438\\u0441\\u043a\\u0443\\u0441\\u0441\\u0442\\u0432\\u0435\\u043d\\u043d\\u044b\\u0435 \\u0438\\u0441\\u043a\\u0443\\u0441\\u0441\\u0442\\u0432\\u0435\\u043d\\u043d\\u044b\\u0435 \\u0438\\u0441\\u043a\\u0443\\u0441\\u0441\\u0442\\u0432\\u0435\\u043d\\u043d\\u044b\\u0435 \\u0438\\u0441\\u043a\\u0443\\u0441\\u0441\\u0442\\u0432\\u0435\\u043d\\u043d\\u044b\\u0435 \\u0438\\u0441\\u043a\\u0443\\u0441\\u0441\\u0442\\u0432\\u0435\\u043d\\u043d\\u044b\\u0435 \\u0438\\u0441\\u043a\\u0443\\u0441\\u0441\\u0442\\u0432\\u0435\\u043d\\u043d\\u044b\\u0435 \\u0438\\u0441\\u043a\\u0443\\u0441\\u0441\\u0442\\u0432\\u0435\\u043d\\u043d\\u044b\\u0435 \\u0438\\u0441\\u043a\\u0443\\u0441\\u0441\\u0442\\u0432\\u0435\\u043d\\u043d\\u044b\\u0435 \\u0438\\u0441\\u043a\\u0443\\u0441\\u0441\\u0442\\u0432\\u0435\\u043d\\u043d\\u044b\\u0435 \\u0438\\u0441\\u043a\\u0443\\u0441\\u0441\\u0442\\u0432\\u0435\\u043d\\u043d\\u044b\\u0435 \\u0438\\u0441\\u043a\\u0443\\u0441\\u0441\\u0442\\u0432\\u0435\\u043d\\u043d\\u044b\\u0435 \\u0438\\u0441\\u043a\\u0443\\u0441\\u0441\\u0442\\u0432\\u0435\\u043d\\u043d\\u044b\\u0435 \\u0438\\u0441\\u043a\\u0443\\u0441\\u0441\\u0442\\u0432\\u0435\\u043d\\u043d\\u044b\\u0435 \\u0438\\u0441\\u043a\\u0443\\u0441\\u0441\\u0442\\u0432\\u0435\\u043d\\u043d\\u044b\\u0435 \\u0438\\u0441\\u043a\\u0443\\u0441\\u0441\\u0442\\u0432\\u0435\\u043d\\u043d\\u044b\\u0435 \\u0438\\u0441\\u043a\\u0443\\u0441\\u0441\\u0442\\u0432\\u0435\\u043d\\u043d\\u044b\\u0435 \\u0438\\u0441\\u043a\\u0443\\u0441\\u0441\\u0442\\u0432\\u0435\\u043d\\u043d\\u044b\\u0435 \\u0438\\u0441\\u043a\\u0443\\u0441\\u0441\\u0442\\u0432\\u0435\\u043d\\u043d\\u044b\\u0435 \\u0438\\u0441\\u043a\\u0443\\u0441\\u0441\\u0442\\u0432\\u0435\\u043d\\u043d\\u044b\\u0435 \\u0438\\u0441\\u043a\\u0443\\u0441\\u0441\\u0442\\u0432\\u0435\\u043d\\u043d\\u044b\\u0435 \\u0438\\u0441\\u043a\\u0443\\u0441\\u0441\\u0442\\u0432\\u0435\\u043d\\u043d\\u044b\\u0435 \\u0438\\u0441\\u043a\\u0443\\u0441\\u0441\\u0442\\u0432\\u0435\\u043d\\u043d\\u044b\\u0435 \\u0438\\u0441\\u043a\\u0443\\u0441\\u0441\\u0442\\u0432\\u0435\\u043d\\u043d\\u044b\\u0435 \\u0438\\u0441\\u043a\\u0443\\u0441\\u0441\\u0442\\u0432\\u0435\\u043d\\u043d\\u044b\\u0435 \\u0438\\u0441\\u043a\\u0443\\u0441\\u0441\\u0442\\u0432\\u0435\\u043d\\u043d\\u044b\\u0435 \\u0438\\u0441\\u043a\\u0443\\u0441\\u0441\\u0442\\u0432\\u0435\\u043d\\u043d\\u044b\\u0435 \\u0438\\u0441\\u043a\\u0443\\u0441\\u0441\\u0442\\u0432\\u0435\\u043d\\u043d\\u044b\\u0435 \\u0438\\u0441\\u043a\\u0443\\u0441\\u0441\\u0442\\u0432\\u0435\\u043d\\u043d\\u044b\\u0435 \\u0438\\u0441\\u043a\\u0443\\u0441\\u0441\\u0442\\u0432\\u0435\\u043d\\u043d\\u044b\\u0435 \\u0438\\u0441\\u043a\\u0443\\u0441\\u0441\\u0442\\u0432\\u0435\\u043d\\u043d\\u044b\\u0435 \\u0438\\u0441\\u043a\\u0443\\u0441\\u0441\\u0442\\u0432\\u0435\\u043d\\u043d\\u044b\\u0435 \\u0438\\u0441\\u043a\\u0443\\u0441\\u0441\\u0442\\u0432\\u0435\\u043d\\u043d\\u044b\\u0435 \\u0438\\u0441\\u043a\\u0443\\u0441\\u0441\\u0442\\u0432\\u0435\\u043d\\u043d\\u043e\\u0435 \\u0438\\u0441\\u043a\\u0443\\u0441\\u0441\\u0442\\u0432\\u0435\\u043d\\u043d\\u043e\\u0435 \\u0438\\u0441\\u043a\\u0443\\u0441\\u0441\\u0442\\u0432\\u0435\\u043d\\u043d\\u043e\\u0435 \\u0438\\u0441\\u043a\\u0443\\u0441\\u0441\\u0442\\u0432\\u0435\\u043d\\u043d\\u043e\\u0435 \\u0438\\u0441\\u043a\\u0443\\u0441\\u0441\\u0442\\u0432\\u0435\\u043d\\u043d\\u043e\\u0435 \\u0438\\u0441\\u043a\\u0443\\u0441\\u0441\\u0442\\u0432\\u0435\\u043d\\u043d\\u043e\\u0435 \\u0438\\u0441\\u043a\\u0443\\u0441\\u0441\\u0442\\u0432\\u0435\\u043d\\u043d\\u043e\\u0435 \\u0438\\u0441\\u043a\\u0443\\u0441\\u0441\\u0442\\u0432\\u0435\\u043d\\u043d\\u043e\\u0435 \\u0438\\u0441\\u043a\\u0443\\u0441\\u0441\\u0442\\u0432\\u0435\\u043d\\u043d\\u043e\\u0435 \\u0438\\u0441\\u043a\\u0443\\u0441\\u0441\\u0442\\u0432\\u0435\\u043d\\u043d\\u043e\\u0435 \\u0438\\u0441\\u043a\\u0443\\u0441\\u0441\\u0442\\u0432\\u0435\\u043d\\u043d\\u043e\\u0435 \\u0438\\u0441\\u043a\\u0443\\u0441\\u0441\\u0442\\u0432\\u0435\\u043d\\u043d\\u043e\\u0435 \\u0438\\u0441\\u043a\\u0443\\u0441\\u0441\\u0442\\u0432\\u0435\\u043d\\u043d\\u043e\\u0435 \\u0438\\u0441\\u043a\\u0443\\u0441\\u0441\\u0442\\u0432\\u0435\\u043d\\u043d\\u043e\\u0435 \\u0438\\u0441\\u043a\\u0443\\u0441\\u0441\\u0442\\u0432\\u0435\\u043d\\u043d\\u043e\\u0435 \\u0438\\u0441\\u043a\\u0443\\u0441\\u0441\\u0442\\u0432\\u0435\\u043d\\u043d\\u043e\\u0435 \\u0438\\u0441\\u043a\\u0443\\u0441\\u0441\\u0442\\u0432\\u0435\\u043d\\u043d\\u043e\\u0435 \\u0438\\u0441\\u043a\\u0443\\u0441\\u0441\\u0442\\u0432\\u0435\\u043d\\u043d\\u043e\\u0435 \\u0438\\u0441\\u043a\\u0443\\u0441\\u0441\\u0442\\u0432\\u0435\\u043d\\u043d\\u043e\\u0435 \\u0438\\u0441\\u043a\\u0443\\u0441\\u0441\\u0442\\u0432\\u0435\\u043d\\u043d\\u043e\\u0435 \\u0438\\u0441\\u043a\\u0443\\u0441\\u0441\\u0442\\u0432\\u0435\\u043d\\u043d\\u043e\\u0435 \\u0438\\u0441\\u043a\\u0443\\u0441\\u0441\\u0442\\u0432\\u0435\\u043d\\u043d\\u043e\\u0435 \\u0438\\u0441\\u043a\\u0443\\u0441\\u0441\\u0442\\u0432\\u0435\\u043d\\u043d\\u043e\\u0435 \\u0438\\u0441\\u043a\\u0443\\u0441\\u0441\\u0442\\u0432\\u0435\\u043d\\u043d\\u043e\\u0435 \\u0438\\u0441\\u043a\\u0443\\u0441\\u0441\\u0442\\u0432\\u0435\\u043d\\u043d\\u043e\\u0435 \\u0438\\u0441\\u043a\\u0443\\u0441\\u0441\\u0442\\u0432\\u0435\\u043d\\u043d\\u043e\\u0435 \\u0438\\u0441\\u043a\\u0443\\u0441\\u0441\\u0442\\u0432\\u0435\\u043d\\u043d\\u043e\\u0435 \\u0438\\u0441\\u043a\\u0443\\u0441\\u0441\\u0442\\u0432\\u0435\\u043d\\u043d\\u043e\\u0435 \\u0438\\u0441\\u043a\\u0443\\u0441\\u0441\\u0442\\u0432\\u0435\\u043d\\u043d\\u043e\\u0435 \\u0438\\u0441\\u043a\\u0443\\u0441\\u0441\\u0442\\u0432\\u0435\\u043d\\u043d\\u043e\\u0435 \\u0438\\u0441\\u043a\\u0443\\u0441\\u0441\\u0442\\u0432\\u0435\\u043d\\u043d\\u043e\\u0435 \\u0438\\u0441\\u043a\\u0443\\u0441\\u0441\\u0442\\u0432\\u0435\\u043d\\u043d\\u043e\\u0435 \\u0438\\u0441\\u043a\\u0443\\u0441\\u0441\\u0442\\u0432\\u0435\\u043d\\u043d\\u043e\\u0435 \\u0438\\u0441\\u043a\\u0443\\u0441\\u0441\\u0442\\u0432\\u0435\\u043d\\u043d\\u043e\\u0435 \\u0438\\u0441\\u043a\\u0443\\u0441\\u0441\\u0442\\u0432\\u0435\\u043d\\u043d\\u043e\\u0435 \\u0438\\u0441\\u043a\\u0443\\u0441\\u0441\\u0442\\u0432\\u0435\\u043d\\u043d\\u043e\\u0435 \\u0438\\u0441\\u043a\\u0443\\u0441\\u0441\\u0442\\u0432\\u0435\\u043d\\u043d\\u043e\\u0435 \\u0438\\u0441\\u043a\\u0443\\u0441\\u0441\\u0442\\u0432\\u0435\\u043d\\u043d\\u043e\\u0435 \\u0438\\u0441\\u043a\\u0443\\u0441\\u0441\\u0442\\u0432\\u0435\\u043d\\u043d\\u043e\\u0435 \\u0438\\u0441\\u043a\\u0443\\u0441\\u0441\\u0442\\u0432\\u0435\\u043d\\u043d\\u043e\\u0435 \\u0438\\u0441\\u043a\\u0443\\u0441\\u0441\\u0442\\u0432\\u0435\\u043d\\u043d\\u043e\\u0435 \\u0438\\u0441\\u043a\\u0443\\u0441\\u0441\\u0442\\u0432\\u0435\\u043d\\u043d\\u043e\\u0435 \\u0438\\u0441\\u043a\\u0443\\u0441\\u0441\\u0442\\u0432\\u0435\\u043d\\u043d\\u043e\\u0435 \\u0438\\u0441\\u043a\\u0443\\u0441\\u0441\\u0442\\u0432\\u0435\\u043d\\u043d\\u043e\\u0435 \\u0438\\u0441\\u043a\\u0443\\u0441\\u0441\\u0442\\u0432\\u0435\\u043d\\u043d\\u043e\\u0435 \\u0438\\u0441\\u043a\\u0443\\u0441\\u0441\\u0442\\u0432\\u0435\\u043d\\u043d\\u043e\\u0435 \\u0438\\u0441\\u043a\\u0443\\u0441\\u0441\\u0442\\u0432\\u0435\\u043d\\u043d\\u043e\\u0435 \\u0438\\u0441\\u043a\\u0443\\u0441\\u0441\\u0442\\u0432\\u0435\\u043d\\u043d\\u043e\\u0435 \\u0438\\u0441\\u043a\\u0443\\u0441\\u0441\\u0442\\u0432\\u0435\\u043d\\u043d\\u043e\\u0435 \\u0438\\u0441\\u043a\\u0443\\u0441\\u0441\\u0442\\u0432\\u0435\\u043d\\u043d\\u043e\\u0435 \\u0438\\u0441\\u043a\\u0443\\u0441\\u0441\\u0442\\u0432\\u0435\\u043d\\u043d\\u043e\\u0435 \\u0438\\u0441\\u043a\\u0443\\u0441\\u0441\\u0442\\u0432\\u0435\\u043d\\u043d\\u043e\\u0435 \\u0438\\u0441\\u043a\\u0443\\u0441\\u0441\\u0442\\u0432\\u0435\\u043d\\u043d\\u043e\\u0435 \\u0438\\u0441\\u043a\\u0443\\u0441\\u0441\\u0442\\u0432\\u0435\\u043d\\u043d\\u043e\\u0435 \\u0438\\u0441\\u043a\\u0443\\u0441\\u0441\\u0442\\u0432\\u0435\\u043d\\u043d\\u043e\\u0435 \\u0438\\u0441\\u043a\\u0443\\u0441\\u0441\\u0442\\u0432\\u0435\\u043d\\u043d\\u043e\\u0435 \\u0438\\u0441\\u043a\\u0443\\u0441\\u0441\\u0442\\u0432\\u0435\\u043d\\u043d\\u043e\\u0435 \\u0438\\u0441\\u043a\\u0443\\u0441\\u0441\\u0442\\u0432\\u0435\\u043d\\u043d\\u043e\\u0435 \\u0438\\u0441\\u043a\\u0443\\u0441\\u0441\\u0442\\u0432\\u0435\\u043d\\u043d\\u043e\\u0435 \\u0438\\u0441\\u043a\\u0443\\u0441\\u0441\\u0442\\u0432\\u0435\\u043d\\u043d\\u043e\\u0435 \\u0438\\u0441\\u043a\\u0443\\u0441\\u0441\\u0442\\u0432\\u0435\\u043d\\u043d\\u043e\\u0435 \\u0438\\u0441\\u043a\\u0443\\u0441\\u0441\\u0442\\u0432\\u0435\\u043d\\u043d\\u043e\\u0435 \\u0438\\u0441\\u043a\\u0443\\u0441\\u0441\\u0442\\u0432\\u0435\\u043d\\u043d\\u043e\\u0435 \\u0438\\u0441\\u043a\\u0443\\u0441\\u0441\\u0442\\u0432\\u0435\\u043d\\u043d\\u043e\\u0435 \\u0438\\u0441\\u043a\\u0443\\u0441\\u0441\\u0442\\u0432\\u0435\\u043d\\u043d\\u043e\\u0435 \\u0438\\u0441\\u043a\\u0443\\u0441\\u0441\\u0442\\u0432\\u0435\\u043d\\u043d\\u043e\\u0435 \\u0438\\u0441\\u043a\\u0443\\u0441\\u0441\\u0442\\u0432\\u0435\\u043d\\u043d\\u043e\\u0435 \\u0438\\u0441\\u043a\\u0443\\u0441\\u0441\\u0442\\u0432\\u0435\\u043d\\u043d\\u043e\\u0435 \\u0438\\u0441\\u043a\\u0443\\u0441\\u0441\\u0442\\u0432\\u0435\\u043d\\u043d\\u043e\\u0435 \\u0438\\u0441\\u043a\\u0443\\u0441\\u0441\\u0442\\u0432\\u0435\\u043d\\u043d\\u043e\\u0435 \\u0438\\u0441\\u043a\\u0443\\u0441\\u0441\\u0442\\u0432\\u0435\\u043d\\u043d\\u043e\\u0435 \\u0438\\u0441\\u043a\\u0443\\u0441\\u0441\\u0442\\u0432\\u0435\\u043d\\u043d\\u043e\\u0435 \\u0438\\u0441\\u043a\\u0443\\u0441\\u0441\\u0442\\u0432\\u0435\\u043d\\u043d\\u043e\\u0435 \\u0438\\u0441\\u043a\\u0443\\u0441\\u0441\\u0442\\u0432\\u0435\\u043d\\u043d\\u043e\\u0435 \\u0438\\u0441\\u043a\\u0443\\u0441\\u0441\\u0442\\u0432\\u0435\\u043d\\u043d\\u043e\\u0435 \\u0438\\u0441\\u043a\\u0443\\u0441\\u0441\\u0442\\u0432\\u0435\\u043d\\u043d\\u043e\\u0435 \\u0438\\u0441\\u043a\\u0443\\u0441\\u0441\\u0442\\u0432\\u0435\\u043d\\u043d\\u043e\\u0435 \\u0438\\u0441\\u043a\\u0443\\u0441\\u0441\\u0442\\u0432\\u0435\\u043d\\u043d\\u043e\\u0435 \\u0438\\u0441\\u043a\\u0443\\u0441\\u0441\\u0442\\u0432\\u0435\\u043d\\u043d\\u043e\\u0435 \\u0438\\u0441\\u043a\\u0443\\u0441\\u0441\\u0442\\u0432\\u0435\\u043d\\u043d\\u043e\\u0435 \\u0438\\u0441\\u043a\\u0443\\u0441\\u0441\\u0442\\u0432\\u0435\\u043d\\u043d\\u043e\\u0435 \\u0438\\u0441\\u043a\\u0443\\u0441\\u0441\\u0442\\u0432\\u0435\\u043d\\u043d\\u043e\\u0435 \\u0438\\u0441\\u043a\\u0443\\u0441\\u0441\\u0442\\u0432\\u0435\\u043d\\u043d\\u043e\\u0435 \\u0438\\u0441\\u043a\\u0443\\u0441\\u0441\\u0442\\u0432\\u0435\\u043d\\u043d\\u043e\\u0435 \\u0438\\u0441\\u043a\\u0443\\u0441\\u0441\\u0442\\u0432\\u0435\\u043d\\u043d\\u043e\\u0435 \\u0438\\u0441\\u043a\\u0443\\u0441\\u0441\\u0442\\u0432\\u0435\\u043d\\u043d\\u043e\\u0435 \\u0438\\u0441\\u043a\\u0443\\u0441\\u0441\\u0442\\u0432\\u0435\\u043d\\u043d\\u043e\\u0435 \\u0438\\u0441\\u043a\\u0443\\u0441\\u0441\\u0442\\u0432\\u0435\\u043d\\u043d\\u043e\\u0435 \\u0438\\u0441\\u043a\\u0443\\u0441\\u0441\\u0442\\u0432\\u0435\\u043d\\u043d\\u043e\\u0435 \\u0438\\u0441\\u043a\\u0443\\u0441\\u0441\\u0442\\u0432\\u0435\\u043d\\u043d\\u043e\\u0435 \\u0438\\u0441\\u043a\\u0443\\u0441\\u0441\\u0442\\u0432\\u0435\\u043d\\u043d\\u043e\\u0435 \\u0438\\u0441\\u043a\\u0443\\u0441\\u0441\\u0442\\u0432\\u0435\\u043d\\u043d\\u043e\\u0435 \\u0438\\u0441\\u043a\\u0443\\u0441\\u0441\\u0442\\u0432\\u0435\\u043d\\u043d\\u043e\\u0435 \\u0438\\u0441\\u043a\\u0443\\u0441\\u0441\\u0442\\u0432\\u0435\\u043d\\u043d\\u043e\\u0435 \\u0438\\u0441\\u043a\\u0443\\u0441\\u0441\\u0442\\u0432\\u0435\\u043d\\u043d\\u043e\\u0435 \\u0438\\u0441\\u043a\\u0443\\u0441\\u0441\\u0442\\u0432\\u0435\\u043d\\u043d\\u043e\\u0435 \\u0438\\u0441\\u043a\\u0443\\u0441\\u0441\\u0442\\u0432\\u0435\\u043d\\u043d\\u043e\\u0435 \\u0438\\u0441\\u043a\\u0443\\u0441\\u0441\\u0442\\u0432\\u0435\\u043d\\u043d\\u043e\\u0435 \\u0438\\u0441\\u043a\\u0443\\u0441\\u0441\\u0442\\u0432\\u0435\\u043d\\u043d\\u043e\\u0435 \\u0438\\u0441\\u043a\\u0443\\u0441\\u0441\\u0442\\u0432\\u0435\\u043d\\u043d\\u043e\\u0435 \\u0438\\u0441\\u043a\\u0443\\u0441\\u0441\\u0442\\u0432\\u0435\\u043d\\u043d\\u043e\\u0435 \\u0438\\u0441\\u043a\\u0443\\u0441\\u0441\\u0442\\u0432\\u0435\\u043d\\u043d\\u043e\\u0435 \\u0438\\u0441\\u043a\\u0443\\u0441\\u0441\\u0442\\u0432\\u0435\\u043d\\u043d\\u043e\\u0435 \\u0438\\u0441\\u043a\\u0443\\u0441\\u0441\\u0442\\u0432\\u0435\\u043d\\u043d\\u043e\\u0435 \\u0438\\u0441\\u043a\\u0443\\u0441\\u0441\\u0442\\u0432\\u0435\\u043d\\u043d\\u043e\\u0435 \\u0438\\u0441\\u043a\\u0443\\u0441\\u0441\\u0442\\u0432\\u0435\\u043d\\u043d\\u043e\\u0435 \\u0438\\u0441\\u043a\\u0443\\u0441\\u0441\\u0442\\u0432\\u0435\\u043d\\u043d\\u043e\\u0435 \\u0438\\u0441\\u043a\\u0443\\u0441\\u0441\\u0442\\u0432\\u0435\\u043d\\u043d\\u043e\\u0435 \\u0438\\u0441\\u043a\\u0443\\u0441\\u0441\\u0442\\u0432\\u0435\\u043d\\u043d\\u043e\\u0435 \\u0438\\u0441\\u043a\\u0443\\u0441\\u0441\\u0442\\u0432\\u0435\\u043d\\u043d\\u043e\\u0435 \\u0438\\u0441\\u043a\\u0443\\u0441\\u0441\\u0442\\u0432\\u0435\\u043d\\u043d\\u043e\\u0435 \\u0438\\u0441\\u043a\\u0443\\u0441\\u0441\\u0442\\u0432\\u0435\\u043d\\u043d\\u043e\\u0435 \\u0438\\u0441\\u043a\\u0443\\u0441\\u0441\\u0442\\u0432\\u0435\\u043d\\u043d\\u043e\\u0435 \\u0438\\u0441\\u043a\\u0443\\u0441\\u0441\\u0442\\u0432\\u0435\\u043d\\u043d\\u043e\\u0435 \\u0438\\u0441\\u043a\\u0443\\u0441\\u0441\\u0442\\u0432\\u0435\\u043d\\u043d\\u043e\\u0435 \\u0438\\u0441\\u043a\\u0443\\u0441\\u0441\\u0442\\u0432\\u0435\\u043d\\u043d\\u043e\\u0435 \\u0438\\u0441\\u043a\\u0443\\u0441\\u0441\\u0442\\u0432\\u0435\\u043d\\u043d\\u043e\\u0435 \\u0438\\u0441\\u043a\\u0443\\u0441\\u0441\\u0442\\u0432\\u0435\\u043d\\u043d\\u043e\\u0435 \\u0438\\u0441\\u043a\\u0443\\u0441\\u0441\\u0442\\u0432\\u0435\\u043d\\u043d\\u043e\\u0435 \\u0438\\u0441\\u043a\\u0443\\u0441\\u0441\\u0442\\u0432\\u0435\\u043d\\u043d\\u043e\\u0435 \\u0438\\u0441\\u043a\\u0443\\u0441\\u0441\\u0442\\u0432\\u0435\\u043d\\u043d\\u043e\\u0435 \\u0438\\u0441\\u043a\\u0443\\u0441\\u0441\\u0442\\u0432\\u0435\\u043d\\u043d\\u043e\\u0435 \\u0438\\u0441\\u043a\\u0443\\u0441\\u0441\\u0442\\u0432\\u0435\\u043d\\u043d\\u043e\\u0435 \\u0438\\u0441\\u043a\\u0443\\u0441\\u0441\\u0442\\u0432\\u0435\\u043d\\u043d\\u043e\\u0435 \\u0438\\u0441\\u043a\\u0443\\u0441\\u0441\\u0442\\u0432\\u0435\\u043d\\u043d\\u043e\\u0435 \\u0438\\u0441\\u043a\\u0443\\u0441\\u0441\\u0442\\u0432\\u0435\\u043d\\u043d\\u043e\\u0435 \\u0438\\u0441\\u043a\\u0443\\u0441\\u0441\\u0442\\u0432\\u0435\\u043d\\u043d\\u043e\\u0435 \\u0438\\u0441\\u043a\\u0443\\u0441\\u0441\\u0442\\u0432\\u0435\\u043d\\u043d\\u043e\\u0435 \\u0438\\u0441\\u043a\\u0443\\u0441\\u0441\\u0442\\u0432\\u0435\\u043d\\u043d\\u043e\\u0435 \\u0438\\u0441\\u043a\\u0443\\u0441\\u0441\\u0442\\u0432\\u0435\\u043d\\u043d\\u043e\\u0435 \\u0438\\u0441\\u043a\\u0443\\u0441\\u0441\\u0442\\u0432\\u0435\\u043d\\u043d\\u043e\\u0435 \\u0438\\u0441\\u043a\\u0443\\u0441\\u0441\\u0442\\u0432\\u0435\\u043d\\u043d\\u043e\\u0435 \\u0438\\u0441\\u043a\\u0443\\u0441\\u0441\\u0442\\u0432\\u0435\\u043d\\u043d\\u043e\\u0435 \\u0438\\u0441\\u043a\\u0443\\u0441\\u0441\\u0442\\u0432\\u0435\\u043d\\u043d\\u043e\\u0435 \\u0438\\u0441\\u043a\\u0443\\u0441\\u0441\\u0442\\u0432\\u0435\\u043d\\u043d\\u043e\\u0435 \\u0438\\u0441\\u043a\\u0443\\u0441\\u0441\\u0442\\u0432\\u0435\\u043d\\u043d\\u043e\\u0435 \\u0438\\u0441\\u043a\\u0443\\u0441\\u0441\\u0442\\u0432\\u0435\\u043d\\u043d\\u043e\\u0435 \\u0438\\u0441\\u043a\\u0443\\u0441\\u0441\\u0442\\u0432\\u0435\\u043d\\u043d\\u043e\\u0435 \\u0438\\u0441\\u043a\\u0443\\u0441\\u0441\\u0442\\u0432\\u0435\\u043d\\u043d\\u043e\\u0435 \\u0438\\u0441\\u043a\\u0443\\u0441\\u0441\\u0442\\u0432\\u0435\\u043d\\u043d\\u043e\\u0435 \\u0438\\u0441\\u043a\\u0443\\u0441\\u0441\\u0442\\u0432\\u0435\\u043d\\u043d\\u043e\\u0435 \\u0438\\u0441\\u043a\\u0443\\u0441\\u0441\\u0442\\u0432\\u0435\\u043d\\u043d\\u043e\\u0435 \\u0438\\u0441\\u043a\\u0443\\u0441\\u0441\\u0442\\u0432\\u0435\\u043d\\u043d\\u043e\\u0435 \\u0438\\u0441\\u043a\\u0443\\u0441\\u0441\\u0442\\u0432\\u0435\\u043d\\u043d\\u043e\\u0435 \\u0438\\u0441\\u043a\\u0443\\u0441\\u0441\\u0442\\u0432\\u0435\\u043d\\u043d\\u043e\\u0435 \\u0438\\u0441\\u043a\\u0443\\u0441\\u0441\\u0442\\u0432\\u0435\\u043d\\u043d\\u043e\\u0435 \\u0438\\u0441\\u043a\\u0443\\u0441\\u0441\\u0442\\u0432\\u0435\\u043d\\u043d\\u043e\\u0435 \\u0438\\u0441\\u043a\\u0443\\u0441\\u0441\\u0442\\u0432\\u0435\\u043d\\u043d\\u043e\\u0435 \\u0438\\u0441\\u043a\\u0443\\u0441\\u0441\\u0442\\u0432\\u0435\\u043d\\u043d\\u043e\\u0435 \\u0438\\u0441\\u043a\\u0443\\u0441\\u0441\\u0442\\u0432\\u0435\\u043d\\u043d\\u043e\\u0435 \\u0438\\u0441\\u043a\\u0443\\u0441\\u0441\\u0442\\u0432\\u0435\\u043d\\u043d\\u043e\\u0435 \\u0438\\u0441\\u043a\\u0443\\u0441\\u0441\\u0442\\u0432\\u0435\\u043d\\u043d\\u043e\\u0435 \\u0438\\u0441\\u043a\\u0443\\u0441\\u0441\\u0442\\u0432\\u0435\\u043d\\u043d\\u043e\\u0435 \\u0438\\u0441\\u043a\\u0443\\u0441\\u0441\\u0442\\u0432\\u0435\\u043d\\u043d\\u043e\\u0435 \\u0438\\u0441\\u043a\\u0443\\u0441\\u0441\\u0442\\u0432\\u0435\\u043d\\u043d\\u043e\\u0435 \\u0438\\u0441\\u043a\\u0443\\u0441\\u0441\\u0442\\u0432\\u0435\\u043d\\u043d\\u043e\\u0435 \\u0438\\u0441\\u043a\\u0443\\u0441\\u0441\\u0442\\u0432\\u0435\\u043d\\u043d\\u043e\\u0435 \\u0438\\u0441\\u043a\\u0443\\u0441\\u0441\\u0442\\u0432\\u0435\\u043d\\u043d\\u043e\\u0435 \\u0438\\u0441\\u043a\\u0443\\u0441\\u0441\\u0442\\u0432\\u0435\\u043d\\u043d\\u043e\\u0435 \\u0438\\u0441\\u043a\\u0443\\u0441\\u0441\\u0442\\u0432\\u0435\\u043d\\u043d\\u043e\\u0435 \\u0438\\u0441\\u043a\\u0443\\u0441\\u0441\\u0442\\u0432\\u0435\\u043d\\u043d\\u043e\\u0435 \\u0438\\u0441\\u043a\\u0443\\u0441\\u0441\\u0442\\u0432\\u0435\\u043d\\u043d\\u043e\\u0435 \\u0438\\u0441\\u043a\\u0443\\u0441\\u0441\\u0442\\u0432\\u0435\\u043d\\u043d\\u043e\\u0435 \\u0438\\u0441\\u043a\\u0443\\u0441\\u0441\\u0442\\u0432\\u0435\\u043d\\u043d\\u043e\\u0435 \\u0438\\u0441\\u043a\\u0443\\u0441\\u0441\\u0442\\u0432\\u0435\\u043d\\u043d\\u043e\\u0435 \\u0438\\u0441\\u043a\\u0443\\u0441\\u0441\\u0442\\u0432\\u0435\\u043d\\u043d\\u043e\\u0435 \\u0438\\u0441\\u043a\\u0443\\u0441\\u0441\\u0442\\u0432\\u0435\\u043d\\u043d\\u043e\\u0435 \\u0438\\u0441\\u043a\\u0443\\u0441\\u0441\\u0442\\u0432\\u0435\\u043d\\u043d\\u043e\\u0435 \\u0438\\u0441\\u043a\\u0443\\u0441\\u0441\\u0442\\u0432\\u0435\\u043d\\u043d\\u043e\\u0435 \\u0438\\u0441\\u043a\\u0443\\u0441\\u0441\\u0442\\u0432\\u0435\\u043d\\u043d\\u043e\\u0435 \\u0438\\u0441\\u043a\\u0443\\u0441\\u0441\\u0442\\u0432\\u0435\\u043d\\u043d\\u043e\\u0435 \\u0438\\u0441\\u043a\\u0443\\u0441\\u0441\\u0442\\u0432\\u0435\\u043d\\u043d\\u043e\\u0435 \\u0438\\u0441\\u043a\\u0443\\u0441\\u0441\\u0442\\u0432\\u0435\\u043d\\u043d\\u043e\\u0435 \\u0438\\u0441\\u043a\\u0443\\u0441\\u0441\\u0442\\u0432\\u0435\\u043d\\u043d\\u043e\\u0435 \\u0438\\u0441\\u043a\\u0443\\u0441\\u0441\\u0442\\u0432\\u0435\\u043d\\u043d\\u043e\\u0435 \\u0438\\u0441\\u043a\\u0443\\u0441\\u0441\\u0442\\u0432\\u0435\\u043d\\u043d\\u043e\\u0435 \\u0438\\u0441\\u043a\\u0443\\u0441\\u0441\\u0442\\u0432\\u0435\\u043d\\u043d\\u043e\\u0435 \\u0438\\u0441\\u043a\\u0443\\u0441\\u0441\\u0442\\u0432\\u0435\\u043d\\u043d\\u043e\\u0435 \\u0438\\u0441\\u043a\\u0443\\u0441\\u0441\\u0442\\u0432\\u0435\\u043d\\u043d\\u043e\\u0435 \\u0438\\u0441\\u043a\\u0443\\u0441\\u0441\\u0442\\u0432\\u0435\\u043d\\u043d\\u043e\\u0435 \\u0438\\u0441\\u043a\\u0443\\u0441\\u0441\\u0442\\u0432\\u0435\\u043d\\u043d\\u043e\\u0435 \\u0438\\u0441\\u043a\\u0443\\u0441\\u0441\\u0442\\u0432\\u0435\\u043d\\u043d\\u043e\\u0435 \\u0438\\u0441\\u043a\\u0443\\u0441\\u0441\\u0442\\u0432\\u0435\\u043d\\u043d\\u043e\\u0435 \\u0438\\u0441\\u043a\\u0443\\u0441\\u0441\\u0442\\u0432\\u0435\\u043d\\u043d\\u043e\\u0435 \\u0438\\u0441\\u043a\\u0443\\u0441\\u0441\\u0442\\u0432\\u0435\\u043d\\u043d\\u043e\\u0435 \\u0438\\u0441\\u043a\\u0443\\u0441\\u0441\\u0442\\u0432\\u0435\\u043d\\u043d\\u043e\\u0435 \\u0438\\u0441\\u043a\\u0443\\u0441\\u0441\\u0442\\u0432\\u0435\\u043d\\u043d\\u043e\\u0435 \\u0438\\u0441\\u043a\\u0443\\u0441\\u0441\\u0442\\u0432\\u0435\\u043d\\u043d\\u043e\\u0435 \\u0438\\u0441\\u043a\\u0443\\u0441\\u0441\\u0442\\u0432\\u0435\\u043d\\u043d\\u043e\\u0435 \\u0438\\u0441\\u043a\\u0443\\u0441\\u0441\\u0442\\u0432\\u0435\\u043d\\u043d\\u043e\\u0435 \\u0438\\u0441\\u043a\\u0443\\u0441\\u0441\\u0442\\u0432\\u0435\\u043d\\u043d\\u043e\\u0435 \\u0438\\u0441\\u043a\\u0443\\u0441\\u0441\\u0442\\u0432\\u0435\\u043d\\u043d\\u043e\\u0435 \\u0438\\u0441\\u043a\\u0443\\u0441\\u0441\\u0442\\u0432\\u0435\\u043d\\u043d\\u043e\\u0435 \\u0438\\u0441\\u043a\\u0443\\u0441\\u0441\\u0442\\u0432\\u0435\\u043d\\u043d\\u043e\\u0435 \\u0438\\u0441\\u043a\\u0443\\u0441\\u0441\\u0442\\u0432\\u0435\\u043d\\u043d\\u043e\\u0435 \\u0438\\u0441\\u043a\\u0443\\u0441\\u0441\\u0442\\u0432\\u0435\\u043d\\u043d\\u043e\\u0435 \\u0438\\u0441\\u043a\\u0443\\u0441\\u0441\\u0442\\u0432\\u0435\\u043d\\u043d\\u043e\\u0435 \\u0438\\u0441\\u043a\\u0443\\u0441\\u0441\\u0442\\u0432\\u0435\\u043d\\u043d\\u043e\\u0435 \\u0438\\u0441\\u043a\\u0443\\u0441\\u0441\\u0442\\u0432\\u0435\\u043d\\u043d\\u043e\\u0435 \\u0438\\u0441\\u043a\\u0443\\u0441\\u0441\\u0442\\u0432\\u0435\\u043d\\u043d\\u043e\\u0435 \\u0438\\u0441\\u043a\\u0443\\u0441\\u0441\\u0442\\u0432\\u0435\\u043d\\u043d\\u043e\\u0435 \\u0438\\u0441\\u043a\\u0443\\u0441\\u0441\\u0442\\u0432\\u0435\\u043d\\u043d\\u043e\\u0435 \\u0438\\u0441\\u043a\\u0443\\u0441\\u0441\\u0442\\u0432\\u0435\\u043d\\u043d\\u043e\\u0435 \\u0438\\u0441\\u043a\\u0443\\u0441\\u0441\\u0442\\u0432\\u0435\\u043d\\u043d\\u043e\\u0435 \\u0438\\u0441\\u043a\\u0443\\u0441\\u0441\\u0442\\u0432\\u0435\\u043d\\u043d\\u043e\\u0435 \\u0438\\u0441\\u043a\\u0443\\u0441\\u0441\\u0442\\u0432\\u0435\\u043d\\u043d\\u043e\\u0435 \\u0438\\u0441\\u043a\\u0443\\u0441\\u0441\\u0442\\u0432\\u0435\\u043d\\u043d\\u043e\\u0435 \\u0438\\u0441\\u043a\\u0443\\u0441\\u0441\\u0442\\u0432\\u0435\\u043d\\u043d\\u043e\\u0435 \\u0438\\u0441\\u043a\\u0443\\u0441\\u0441\\u0442\\u0432\\u0435\\u043d\\u043d\\u043e\\u0435 \\u0438\\u0441\\u043a\\u0443\\u0441\\u0441\\u0442\\u0432\\u0435\\u043d\\u043d\\u043e\\u0435 \\u0438\\u0441\\u043a\\u0443\\u0441\\u0441\\u0442\\u0432\\u0435\\u043d\\u043d\\u043e\\u0435 \\u0438\\u0441\\u043a\\u0443\\u0441\\u0441\\u0442\\u0432\\u0435\\u043d\\u043d\\u043e\\u0435 \\u0438\\u0441\\u043a\\u0443\\u0441\\u0441\\u0442\\u0432\\u0435\\u043d\\u043d\\u043e\\u0435 \\u0438\\u0441\\u043a\\u0443\\u0441\\u0441\\u0442\\u0432\\u0435\\u043d\\u043d\\u043e\\u0435 \\u0438\\u0441\\u043a\\u0443\\u0441\\u0441\\u0442\\u0432\\u0435\\u043d\\u043d\\u043e\\u0435 \\u0438\\u0441\\u043a\\u0443\\u0441\\u0441\\u0442\\u0432\\u0435\\u043d\\u043d\\u043e\\u0435 \\u0438\\u0441\\u043a\\u0443\\u0441\\u0441\\u0442\\u0432\\u0435\\u043d\\u043d\\u043e\\u0435 \\u0438\\u0441\\u043a\\u0443\\u0441\\u0441\\u0442\\u0432\\u0435\\u043d\\u043d\\u043e\\u0435 \\u0438\\u0441\\u043a\\u0443\\u0441\\u0441\\u0442\\u0432\\u0435\\u043d\\u043d\\u043e\\u0435 \\u0438\\u0441\\u043a\\u0443\\u0441\\u0441\\u0442\\u0432\\u0435\\u043d\\u043d\\u043e\\u0435 \\u0438\\u0441\\u043a\\u0443\\u0441\\u0441\\u0442\\u0432\\u0435\\u043d\\u043d\\u043e\\u0435 \\u0438\\u0441\\u043a\\u0443\\u0441\\u0441\\u0442\\u0432\\u0435\\u043d\\u043d\\u043e\\u0435 \\u0438\\u0441\\u043a\\u0443\\u0441\\u0441\\u0442\\u0432\\u0435\\u043d\\u043d\\u043e\\u0435 \\u0438\\u0441\\u043a\\u0443\\u0441\\u0441\\u0442\\u0432\\u0435\\u043d\\u043d\\u043e\\u0435\",\n          \"```\\n\\u041d\\u043e\\u0432\\u043e\\u0441\\u0442\\u0438: \\u0413\\u043e\\u043b\\u043e\\u0432\\u043e\\u043b\\u043e\\u043c\\u043a\\u0438\\n\\n\\u041d\\u043e\\u0432\\u043e\\u0441\\u0442\\u0438: \\u0413\\u043e\\u043b\\u043e\\u0432\\u043e\\u043b\\u043e\\u043c\\u043a\\u0438\\n\\n\\u041d\\u043e\\u0432\\u043e\\u0441\\u0442\\u0438: \\u0413\\u043e\\u043b\\u043e\\u0432\\u043e\\u043b\\u043e\\u043c\\u043a\\u0438\\n\\n\\u041d\\u043e\\u0432\\u043e\\u0441\\u0442\\u0438: \\u0413\\u043e\\u043b\\u043e\\u0432\\u043e\\u043b\\u043e\\u043c\\u043a\\u0438\\n\\n```\\n```\\n```\\n```\\n```\\n```\\n```\\n```\\n```\\n```\\n```\\n```\\n```\\n```\\n```\\n```\\n```\\n```\\n```\\n```\\n```\\n```\\n```\\n```\\n```\\n```\\n```\\n```\\n```\\n```\\n```\\n```\\n```\\n```\\n```\\n```\\n```\\n```\\n```\\n```\\n```\\n```\\n```\\n```\\n```\\n```\\n```\\n```\\n```\\n```\\n```\\n```\\n```\\n```\\n```\\n```\\n```\\n```\\n```\\n```\\n```\\n```\\n```\\n```\\n```\\n```\\n```\\n```\\n```\\n```\\n```\\n```\\n```\\n```\\n```\\n```\\n```\\n```\\n```\\n```\\n```\\n```\\n```\\n```\\n```\\n```\\n```\\n```\\n```\\n```\\n```\\n```\\n```\\n```\\n```\\n```\\n```\\n```\\n```\\n```\\n```\\n```\\n```\\n```\\n```\\n```\\n```\\n```\\n```\\n```\\n```\\n```\\n```\\n```\\n```\\n```\\n```\\n```\\n```\\n```\\n```\\n```\\n```\\n```\\n```\\n```\\n```\\n```\\n```\\n```\\n```\\n```\\n```\\n```\\n```\\n```\\n```\\n```\\n```\\n```\\n```\\n```\\n```\\n```\\n```\\n```\\n```\\n```\\n```\\n```\\n```\\n```\\n```\\n```\\n```\\n```\\n```\\n```\\n```\\n```\\n```\\n```\\n```\\n```\\n```\\n```\\n```\\n```\\n```\\n```\\n```\\n```\\n```\\n```\\n```\\n```\\n```\\n```\\n```\\n```\\n```\\n```\\n```\\n```\\n```\\n```\\n```\\n```\\n```\\n```\\n```\\n```\\n```\\n```\\n```\\n```\\n```\\n```\\n```\\n```\\n```\\n```\\n```\\n```\\n```\\n```\\n```\\n```\\n```\\n```\\n```\\n```\\n```\\n```\\n```\\n```\\n```\\n```\\n```\\n```\\n```\\n```\\n```\\n```\\n```\\n```\\n```\\n```\\n```\\n```\\n```\\n```\\n```\\n```\\n```\\n```\\n```\\n```\\n```\\n```\\n```\\n```\\n```\\n```\\n```\\n```\\n```\\n```\\n```\\n```\\n```\\n```\\n```\\n```\\n```\\n```\\n```\\n```\\n```\\n```\\n```\\n```\\n```\\n```\\n```\\n```\\n```\\n```\\n```\\n```\\n```\\n```\\n```\\n```\\n```\\n```\\n```\\n```\\n```\\n```\\n```\\n```\\n```\\n```\\n```\\n```\\n```\\n```\\n```\\n```\\n```\\n```\\n```\\n```\\n```\\n```\\n```\\n```\\n```\\n```\\n```\\n```\\n```\\n```\\n```\\n```\\n```\\n```\\n```\\n```\\n```\\n```\\n```\\n```\\n```\\n```\\n```\\n```\\n```\\n```\\n```\\n```\\n```\\n```\\n```\\n```\\n```\\n```\\n```\\n```\\n```\\n```\\n```\\n\"\n        ],\n        \"semantic_type\": \"\",\n        \"description\": \"\"\n      }\n    }\n  ]\n}",
       "type": "dataframe",
       "variable_name": "extra_articles"
      },
      "text/html": [
       "\n",
       "  <div id=\"df-0e9e4f13-a1ab-4f0f-bb38-9f7df620ffe8\" class=\"colab-df-container\">\n",
       "    <div>\n",
       "<style scoped>\n",
       "    .dataframe tbody tr th:only-of-type {\n",
       "        vertical-align: middle;\n",
       "    }\n",
       "\n",
       "    .dataframe tbody tr th {\n",
       "        vertical-align: top;\n",
       "    }\n",
       "\n",
       "    .dataframe thead th {\n",
       "        text-align: right;\n",
       "    }\n",
       "</style>\n",
       "<table border=\"1\" class=\"dataframe\">\n",
       "  <thead>\n",
       "    <tr style=\"text-align: right;\">\n",
       "      <th></th>\n",
       "      <th>Погода</th>\n",
       "      <th>Рецепты</th>\n",
       "      <th>Опросы</th>\n",
       "      <th>Головоломки</th>\n",
       "    </tr>\n",
       "  </thead>\n",
       "  <tbody>\n",
       "    <tr>\n",
       "      <th>0</th>\n",
       "      <td>Теплое лето не угасает! Продолжаете ли вы насл...</td>\n",
       "      <td>Заголовок: \"Сезонные деликатесы: десерт из дик...</td>\n",
       "      <td>Опросы\\n\\nОпросы - это мощный инструмент для о...</td>\n",
       "      <td>Название: \"Умная головоломка: что ждет нас в б...</td>\n",
       "    </tr>\n",
       "    <tr>\n",
       "      <th>1</th>\n",
       "      <td>Новый рекорд по температуре установили в Москв...</td>\n",
       "      <td>**Вкусные и полезные рецептники: полезные сове...</td>\n",
       "      <td>Новостное издание: \"Опрос: большинство россиян...</td>\n",
       "      <td>Новость: Угадайте, где находится самый крупный...</td>\n",
       "    </tr>\n",
       "    <tr>\n",
       "      <th>2</th>\n",
       "      <td>Теплое лето в городе: погодные условия в июле\\...</td>\n",
       "      <td>Новости в мире кулинарии: лучшие рецепты сезон...</td>\n",
       "      <td>Тема: \"Счастья и неудовольствия в карьере: что...</td>\n",
       "      <td>Головоломки для настоящих интеллектуалов\\n\\nГо...</td>\n",
       "    </tr>\n",
       "    <tr>\n",
       "      <th>3</th>\n",
       "      <td>Настоящее теплое лето разогрело и солнце, и по...</td>\n",
       "      <td>Тема: Рецепты\\n\\nВаше внимание обратили на уди...</td>\n",
       "      <td>Новость:\\n\\nОпрос: большинство россиян уверены...</td>\n",
       "      <td>Новость: Феномен головоломок: от puzzles до pu...</td>\n",
       "    </tr>\n",
       "    <tr>\n",
       "      <th>4</th>\n",
       "      <td>Новая погода в городе, которая может стать при...</td>\n",
       "      <td>Тема: Легкое и вкусное блюдо для дня рождения:...</td>\n",
       "      <td>#### Новые исследования: Какие заботы заботят ...</td>\n",
       "      <td>Заголовок: \"Секреты головоломок: Как выйти из ...</td>\n",
       "    </tr>\n",
       "    <tr>\n",
       "      <th>5</th>\n",
       "      <td>Непредвиденный холодный фронт «Север» принесет...</td>\n",
       "      <td>**\"Уникальный рецепт отцовского блюда: секретн...</td>\n",
       "      <td>Новый опрос: большинство россиян считают, что ...</td>\n",
       "      <td>```\\nНовости: Головоломки\\n\\nНовости: Головоло...</td>\n",
       "    </tr>\n",
       "    <tr>\n",
       "      <th>6</th>\n",
       "      <td>Новый рекорд по температуре установили в Москв...</td>\n",
       "      <td>Тепловозные сэндвичи с картофелем и салом - пр...</td>\n",
       "      <td>Название статьи: Новый проект: проект \"Большой...</td>\n",
       "      <td>Головоломки, которые можно решать в подростков...</td>\n",
       "    </tr>\n",
       "    <tr>\n",
       "      <th>7</th>\n",
       "      <td>Теплое лето в России: особенности погоды на ию...</td>\n",
       "      <td>Новый год - это время для семьи и друзей, чтоб...</td>\n",
       "      <td>Опрос: Молодые люди больше всего интересуются ...</td>\n",
       "      <td>Новость: Уникальная головоломка из картона: ка...</td>\n",
       "    </tr>\n",
       "    <tr>\n",
       "      <th>8</th>\n",
       "      <td>Новости погоды: приближается сезон туманов и д...</td>\n",
       "      <td>Новая кухня, новые рецепты, новые возможности ...</td>\n",
       "      <td>Заголовок: В России проведен крупнейший опрос ...</td>\n",
       "      <td>**Уникальное решение головоломки \"Склянные бут...</td>\n",
       "    </tr>\n",
       "    <tr>\n",
       "      <th>9</th>\n",
       "      <td>Сегодня на территории страны ожидаются сильные...</td>\n",
       "      <td>Тема: \"Тропический рай для ваших вкусов: новый...</td>\n",
       "      <td>Недавно был проведен крупный опрос о предпочте...</td>\n",
       "      <td>Название статьи: \"Быстрый ум - ключ к успеху: ...</td>\n",
       "    </tr>\n",
       "  </tbody>\n",
       "</table>\n",
       "</div>\n",
       "    <div class=\"colab-df-buttons\">\n",
       "\n",
       "  <div class=\"colab-df-container\">\n",
       "    <button class=\"colab-df-convert\" onclick=\"convertToInteractive('df-0e9e4f13-a1ab-4f0f-bb38-9f7df620ffe8')\"\n",
       "            title=\"Convert this dataframe to an interactive table.\"\n",
       "            style=\"display:none;\">\n",
       "\n",
       "  <svg xmlns=\"http://www.w3.org/2000/svg\" height=\"24px\" viewBox=\"0 -960 960 960\">\n",
       "    <path d=\"M120-120v-720h720v720H120Zm60-500h600v-160H180v160Zm220 220h160v-160H400v160Zm0 220h160v-160H400v160ZM180-400h160v-160H180v160Zm440 0h160v-160H620v160ZM180-180h160v-160H180v160Zm440 0h160v-160H620v160Z\"/>\n",
       "  </svg>\n",
       "    </button>\n",
       "\n",
       "  <style>\n",
       "    .colab-df-container {\n",
       "      display:flex;\n",
       "      gap: 12px;\n",
       "    }\n",
       "\n",
       "    .colab-df-convert {\n",
       "      background-color: #E8F0FE;\n",
       "      border: none;\n",
       "      border-radius: 50%;\n",
       "      cursor: pointer;\n",
       "      display: none;\n",
       "      fill: #1967D2;\n",
       "      height: 32px;\n",
       "      padding: 0 0 0 0;\n",
       "      width: 32px;\n",
       "    }\n",
       "\n",
       "    .colab-df-convert:hover {\n",
       "      background-color: #E2EBFA;\n",
       "      box-shadow: 0px 1px 2px rgba(60, 64, 67, 0.3), 0px 1px 3px 1px rgba(60, 64, 67, 0.15);\n",
       "      fill: #174EA6;\n",
       "    }\n",
       "\n",
       "    .colab-df-buttons div {\n",
       "      margin-bottom: 4px;\n",
       "    }\n",
       "\n",
       "    [theme=dark] .colab-df-convert {\n",
       "      background-color: #3B4455;\n",
       "      fill: #D2E3FC;\n",
       "    }\n",
       "\n",
       "    [theme=dark] .colab-df-convert:hover {\n",
       "      background-color: #434B5C;\n",
       "      box-shadow: 0px 1px 3px 1px rgba(0, 0, 0, 0.15);\n",
       "      filter: drop-shadow(0px 1px 2px rgba(0, 0, 0, 0.3));\n",
       "      fill: #FFFFFF;\n",
       "    }\n",
       "  </style>\n",
       "\n",
       "    <script>\n",
       "      const buttonEl =\n",
       "        document.querySelector('#df-0e9e4f13-a1ab-4f0f-bb38-9f7df620ffe8 button.colab-df-convert');\n",
       "      buttonEl.style.display =\n",
       "        google.colab.kernel.accessAllowed ? 'block' : 'none';\n",
       "\n",
       "      async function convertToInteractive(key) {\n",
       "        const element = document.querySelector('#df-0e9e4f13-a1ab-4f0f-bb38-9f7df620ffe8');\n",
       "        const dataTable =\n",
       "          await google.colab.kernel.invokeFunction('convertToInteractive',\n",
       "                                                    [key], {});\n",
       "        if (!dataTable) return;\n",
       "\n",
       "        const docLinkHtml = 'Like what you see? Visit the ' +\n",
       "          '<a target=\"_blank\" href=https://colab.research.google.com/notebooks/data_table.ipynb>data table notebook</a>'\n",
       "          + ' to learn more about interactive tables.';\n",
       "        element.innerHTML = '';\n",
       "        dataTable['output_type'] = 'display_data';\n",
       "        await google.colab.output.renderOutput(dataTable, element);\n",
       "        const docLink = document.createElement('div');\n",
       "        docLink.innerHTML = docLinkHtml;\n",
       "        element.appendChild(docLink);\n",
       "      }\n",
       "    </script>\n",
       "  </div>\n",
       "\n",
       "\n",
       "<div id=\"df-a8f39c87-2667-4305-b193-ddc3a53a33f1\">\n",
       "  <button class=\"colab-df-quickchart\" onclick=\"quickchart('df-a8f39c87-2667-4305-b193-ddc3a53a33f1')\"\n",
       "            title=\"Suggest charts\"\n",
       "            style=\"display:none;\">\n",
       "\n",
       "<svg xmlns=\"http://www.w3.org/2000/svg\" height=\"24px\"viewBox=\"0 0 24 24\"\n",
       "     width=\"24px\">\n",
       "    <g>\n",
       "        <path d=\"M19 3H5c-1.1 0-2 .9-2 2v14c0 1.1.9 2 2 2h14c1.1 0 2-.9 2-2V5c0-1.1-.9-2-2-2zM9 17H7v-7h2v7zm4 0h-2V7h2v10zm4 0h-2v-4h2v4z\"/>\n",
       "    </g>\n",
       "</svg>\n",
       "  </button>\n",
       "\n",
       "<style>\n",
       "  .colab-df-quickchart {\n",
       "      --bg-color: #E8F0FE;\n",
       "      --fill-color: #1967D2;\n",
       "      --hover-bg-color: #E2EBFA;\n",
       "      --hover-fill-color: #174EA6;\n",
       "      --disabled-fill-color: #AAA;\n",
       "      --disabled-bg-color: #DDD;\n",
       "  }\n",
       "\n",
       "  [theme=dark] .colab-df-quickchart {\n",
       "      --bg-color: #3B4455;\n",
       "      --fill-color: #D2E3FC;\n",
       "      --hover-bg-color: #434B5C;\n",
       "      --hover-fill-color: #FFFFFF;\n",
       "      --disabled-bg-color: #3B4455;\n",
       "      --disabled-fill-color: #666;\n",
       "  }\n",
       "\n",
       "  .colab-df-quickchart {\n",
       "    background-color: var(--bg-color);\n",
       "    border: none;\n",
       "    border-radius: 50%;\n",
       "    cursor: pointer;\n",
       "    display: none;\n",
       "    fill: var(--fill-color);\n",
       "    height: 32px;\n",
       "    padding: 0;\n",
       "    width: 32px;\n",
       "  }\n",
       "\n",
       "  .colab-df-quickchart:hover {\n",
       "    background-color: var(--hover-bg-color);\n",
       "    box-shadow: 0 1px 2px rgba(60, 64, 67, 0.3), 0 1px 3px 1px rgba(60, 64, 67, 0.15);\n",
       "    fill: var(--button-hover-fill-color);\n",
       "  }\n",
       "\n",
       "  .colab-df-quickchart-complete:disabled,\n",
       "  .colab-df-quickchart-complete:disabled:hover {\n",
       "    background-color: var(--disabled-bg-color);\n",
       "    fill: var(--disabled-fill-color);\n",
       "    box-shadow: none;\n",
       "  }\n",
       "\n",
       "  .colab-df-spinner {\n",
       "    border: 2px solid var(--fill-color);\n",
       "    border-color: transparent;\n",
       "    border-bottom-color: var(--fill-color);\n",
       "    animation:\n",
       "      spin 1s steps(1) infinite;\n",
       "  }\n",
       "\n",
       "  @keyframes spin {\n",
       "    0% {\n",
       "      border-color: transparent;\n",
       "      border-bottom-color: var(--fill-color);\n",
       "      border-left-color: var(--fill-color);\n",
       "    }\n",
       "    20% {\n",
       "      border-color: transparent;\n",
       "      border-left-color: var(--fill-color);\n",
       "      border-top-color: var(--fill-color);\n",
       "    }\n",
       "    30% {\n",
       "      border-color: transparent;\n",
       "      border-left-color: var(--fill-color);\n",
       "      border-top-color: var(--fill-color);\n",
       "      border-right-color: var(--fill-color);\n",
       "    }\n",
       "    40% {\n",
       "      border-color: transparent;\n",
       "      border-right-color: var(--fill-color);\n",
       "      border-top-color: var(--fill-color);\n",
       "    }\n",
       "    60% {\n",
       "      border-color: transparent;\n",
       "      border-right-color: var(--fill-color);\n",
       "    }\n",
       "    80% {\n",
       "      border-color: transparent;\n",
       "      border-right-color: var(--fill-color);\n",
       "      border-bottom-color: var(--fill-color);\n",
       "    }\n",
       "    90% {\n",
       "      border-color: transparent;\n",
       "      border-bottom-color: var(--fill-color);\n",
       "    }\n",
       "  }\n",
       "</style>\n",
       "\n",
       "  <script>\n",
       "    async function quickchart(key) {\n",
       "      const quickchartButtonEl =\n",
       "        document.querySelector('#' + key + ' button');\n",
       "      quickchartButtonEl.disabled = true;  // To prevent multiple clicks.\n",
       "      quickchartButtonEl.classList.add('colab-df-spinner');\n",
       "      try {\n",
       "        const charts = await google.colab.kernel.invokeFunction(\n",
       "            'suggestCharts', [key], {});\n",
       "      } catch (error) {\n",
       "        console.error('Error during call to suggestCharts:', error);\n",
       "      }\n",
       "      quickchartButtonEl.classList.remove('colab-df-spinner');\n",
       "      quickchartButtonEl.classList.add('colab-df-quickchart-complete');\n",
       "    }\n",
       "    (() => {\n",
       "      let quickchartButtonEl =\n",
       "        document.querySelector('#df-a8f39c87-2667-4305-b193-ddc3a53a33f1 button');\n",
       "      quickchartButtonEl.style.display =\n",
       "        google.colab.kernel.accessAllowed ? 'block' : 'none';\n",
       "    })();\n",
       "  </script>\n",
       "</div>\n",
       "    </div>\n",
       "  </div>\n"
      ],
      "text/plain": [
       "                                              Погода  \\\n",
       "0  Теплое лето не угасает! Продолжаете ли вы насл...   \n",
       "1  Новый рекорд по температуре установили в Москв...   \n",
       "2  Теплое лето в городе: погодные условия в июле\\...   \n",
       "3  Настоящее теплое лето разогрело и солнце, и по...   \n",
       "4  Новая погода в городе, которая может стать при...   \n",
       "5  Непредвиденный холодный фронт «Север» принесет...   \n",
       "6  Новый рекорд по температуре установили в Москв...   \n",
       "7  Теплое лето в России: особенности погоды на ию...   \n",
       "8  Новости погоды: приближается сезон туманов и д...   \n",
       "9  Сегодня на территории страны ожидаются сильные...   \n",
       "\n",
       "                                             Рецепты  \\\n",
       "0  Заголовок: \"Сезонные деликатесы: десерт из дик...   \n",
       "1  **Вкусные и полезные рецептники: полезные сове...   \n",
       "2  Новости в мире кулинарии: лучшие рецепты сезон...   \n",
       "3  Тема: Рецепты\\n\\nВаше внимание обратили на уди...   \n",
       "4  Тема: Легкое и вкусное блюдо для дня рождения:...   \n",
       "5  **\"Уникальный рецепт отцовского блюда: секретн...   \n",
       "6  Тепловозные сэндвичи с картофелем и салом - пр...   \n",
       "7  Новый год - это время для семьи и друзей, чтоб...   \n",
       "8  Новая кухня, новые рецепты, новые возможности ...   \n",
       "9  Тема: \"Тропический рай для ваших вкусов: новый...   \n",
       "\n",
       "                                              Опросы  \\\n",
       "0  Опросы\\n\\nОпросы - это мощный инструмент для о...   \n",
       "1  Новостное издание: \"Опрос: большинство россиян...   \n",
       "2  Тема: \"Счастья и неудовольствия в карьере: что...   \n",
       "3  Новость:\\n\\nОпрос: большинство россиян уверены...   \n",
       "4  #### Новые исследования: Какие заботы заботят ...   \n",
       "5  Новый опрос: большинство россиян считают, что ...   \n",
       "6  Название статьи: Новый проект: проект \"Большой...   \n",
       "7  Опрос: Молодые люди больше всего интересуются ...   \n",
       "8  Заголовок: В России проведен крупнейший опрос ...   \n",
       "9  Недавно был проведен крупный опрос о предпочте...   \n",
       "\n",
       "                                         Головоломки  \n",
       "0  Название: \"Умная головоломка: что ждет нас в б...  \n",
       "1  Новость: Угадайте, где находится самый крупный...  \n",
       "2  Головоломки для настоящих интеллектуалов\\n\\nГо...  \n",
       "3  Новость: Феномен головоломок: от puzzles до pu...  \n",
       "4  Заголовок: \"Секреты головоломок: Как выйти из ...  \n",
       "5  ```\\nНовости: Головоломки\\n\\nНовости: Головоло...  \n",
       "6  Головоломки, которые можно решать в подростков...  \n",
       "7  Новость: Уникальная головоломка из картона: ка...  \n",
       "8  **Уникальное решение головоломки \"Склянные бут...  \n",
       "9  Название статьи: \"Быстрый ум - ключ к успеху: ...  "
      ]
     },
     "execution_count": 41,
     "metadata": {},
     "output_type": "execute_result"
    }
   ],
   "source": [
    "extra_articles"
   ]
  },
  {
   "cell_type": "code",
   "execution_count": 57,
   "metadata": {
    "id": "wianPj1qi0-2"
   },
   "outputs": [],
   "source": [
    "# parser = JsonOutputParser()\n",
    "# res = []\n",
    "# for x in tqdm(reviews[:5]):\n",
    "#     z = chat.invoke(chat_template.format_messages(review=x['review_text']))\n",
    "#     try:\n",
    "#         res.append(parser.invoke(z))\n",
    "#     except:\n",
    "#         pass"
   ]
  },
  {
   "cell_type": "code",
   "execution_count": null,
   "metadata": {
    "id": "bMEh6ztw8ruv"
   },
   "outputs": [],
   "source": [
    "prompt = \"\"\"\n",
    "У меня есть текст следующей новости:\n",
    "[DOCUMENT]\n",
    "\n",
    "Данная новость описывается с помощью модели NER следующими ключевыми словами:\n",
    "\n",
    "Данная новость описывается с помощью дообученной модели BERT следующими ключевыми словами:\n",
    "\n",
    "Данная новость описывается с помощью дообученной модели BERTopic следующими ключевыми словами:\n",
    "\n",
    "Данная новость описывается с помощью обученной модели XGBoost на эмбеддингах текста новости следующими ключевыми словами:\n",
    "\n",
    "На основе приведенной выше информации извлеките короткое, но очень описательное название темы, состоящее не более чем из 5 слов. Убедитесь, что оно имеет следующий формат:\n",
    "тема: <topic label>\n",
    "\"\"\""
   ]
  },
  {
   "cell_type": "code",
   "execution_count": null,
   "metadata": {},
   "outputs": [],
   "source": []
  },
  {
   "cell_type": "code",
   "execution_count": null,
   "metadata": {},
   "outputs": [],
   "source": []
  }
 ],
 "metadata": {
  "colab": {
   "provenance": []
  },
  "kernelspec": {
   "display_name": "Python 3 (ipykernel)",
   "language": "python",
   "name": "python3"
  },
  "language_info": {
   "codemirror_mode": {
    "name": "ipython",
    "version": 3
   },
   "file_extension": ".py",
   "mimetype": "text/x-python",
   "name": "python",
   "nbconvert_exporter": "python",
   "pygments_lexer": "ipython3",
   "version": "3.9.12"
  }
 },
 "nbformat": 4,
 "nbformat_minor": 1
}
