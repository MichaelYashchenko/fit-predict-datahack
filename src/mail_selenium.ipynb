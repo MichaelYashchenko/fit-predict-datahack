{
 "cells": [
  {
   "cell_type": "code",
   "execution_count": 6,
   "metadata": {},
   "outputs": [],
   "source": [
    "import pandas as pd\n",
    "import time\n",
    "from selenium.webdriver.support.ui import WebDriverWait\n",
    "from selenium.webdriver.common.by import By\n",
    "from selenium.webdriver.support.ui import WebDriverWait\n",
    "from selenium.webdriver.support import expected_conditions as EC"
   ]
  },
  {
   "cell_type": "code",
   "execution_count": 7,
   "metadata": {},
   "outputs": [],
   "source": [
    "from selenium import webdriver\n",
    "from chromedriver_py import binary_path # this will get you the path variable\n",
    "from selenium.webdriver.common.keys import Keys\n",
    "\n",
    "# Кликнуть по первой кнопке из списка, открыв ссылку в новой вкладке\n",
    "#svc = webdriver.ChromeService(executable_path=binary_path)"
   ]
  },
  {
   "cell_type": "code",
   "execution_count": 8,
   "metadata": {},
   "outputs": [],
   "source": [
    "base_url = 'https://ria.ru/category_pogoda/'"
   ]
  },
  {
   "cell_type": "code",
   "execution_count": 9,
   "metadata": {},
   "outputs": [],
   "source": [
    "#pip install bs4"
   ]
  },
  {
   "cell_type": "code",
   "execution_count": 10,
   "metadata": {},
   "outputs": [],
   "source": [
    "from selenium import webdriver\n",
    "from selenium.webdriver.common.by import By\n",
    "import time\n",
    "from bs4 import BeautifulSoup"
   ]
  },
  {
   "cell_type": "code",
   "execution_count": 11,
   "metadata": {},
   "outputs": [],
   "source": [
    "df = pd.DataFrame(columns=['text'])"
   ]
  },
  {
   "cell_type": "code",
   "execution_count": 14,
   "metadata": {},
   "outputs": [
    {
     "name": "stdout",
     "output_type": "stream",
     "text": [
      "\n",
      "\n",
      "\n",
      "\n",
      "\n",
      "\n",
      "\n",
      "\n",
      "\n",
      "\n",
      "\n",
      "\n",
      "\n",
      "\n",
      "\n",
      "\n",
      "\n",
      "\n",
      "\n",
      "\n"
     ]
    }
   ],
   "source": [
    "driver = webdriver.Chrome()\n",
    "\n",
    "# Задержка перед открытием страницы\n",
    "time.sleep(15)\n",
    "\n",
    "# Открываем базовый URL\n",
    "base_url = \"https://ria.ru/category_pogoda/\"\n",
    "driver.get(base_url)\n",
    "\n",
    "# Задержка перед поиском элементов\n",
    "time.sleep(5)\n",
    "i = 0\n",
    "cur_iter = 0\n",
    "while i <= 10:\n",
    "\n",
    "    # Находим все ссылки на новости\n",
    "    link_elements = driver.find_elements(By.XPATH, \"//a[@class='list-item__title color-font-hover-only']\")\n",
    "\n",
    "    # Проходимся по всем найденным элементам\n",
    "    for link_element in link_elements[cur_iter:]:\n",
    "        # Получаем ссылку из элемента\n",
    "        link = link_element.get_attribute(\"href\")\n",
    "        # Открываем ссылку\n",
    "        #driver.get(link)\n",
    "        driver.execute_script(\"window.open(arguments[0], '_blank');\", link)\n",
    "        # Задержка перед обработкой страницы\n",
    "        time.sleep(5)\n",
    "        # Получаем HTML-код страницы\n",
    "        html_content = driver.page_source\n",
    "        # Создаем объект BeautifulSoup для парсинга HTML\n",
    "        soup = BeautifulSoup(html_content, 'html.parser')\n",
    "        article_text_elements = soup.find_all('div', class_='article__text')\n",
    "        # Объявляем переменную для хранения полного текста\n",
    "        full_text = \"\"\n",
    "\n",
    "        # Обходим все найденные элементы и собираем текст вместе\n",
    "        for element in article_text_elements:\n",
    "            text = element.get_text(strip=True)\n",
    "            full_text += text + \"\\n\"\n",
    "\n",
    "        # Выводим полный текст\n",
    "        print(full_text)\n",
    "        df.loc[len(df)] = [full_text]\n",
    "        all_handles = driver.window_handles\n",
    "        driver.switch_to.window(all_handles[-1])\n",
    "        time.sleep(3)\n",
    "        driver.close()\n",
    "        time.sleep(3)\n",
    "                # Переключаемся обратно на базовую вкладку\n",
    "        base_window_handle = all_handles[0]\n",
    "        driver.switch_to.window(base_window_handle)\n",
    "\n",
    "    cur_iter = len(df)\n",
    "    df.to_csv('weather_df.csv')\n",
    "    driver.execute_script(\"window.scrollBy(0, 1000);\")\n",
    "    button = driver.find_element(By.CSS_SELECTOR, \"div.list-more.color-btn-second-hover\")\n",
    "    i+=1\n"
   ]
  },
  {
   "cell_type": "code",
   "execution_count": 6,
   "metadata": {},
   "outputs": [],
   "source": [
    "def iterations(driver, link_elements, cur_iter, df):\n",
    "    for link_element in link_elements[cur_iter:]:\n",
    "        # Получаем ссылку из элемента\n",
    "        link = link_element.get_attribute(\"href\")\n",
    "        # Открываем ссылку\n",
    "        #driver.get(link)\n",
    "        driver.execute_script(\"window.open(arguments[0], '_blank');\", link)\n",
    "        # Задержка перед обработкой страницы\n",
    "        time.sleep(5)\n",
    "        # Получаем HTML-код страницы\n",
    "        html_content = driver.page_source\n",
    "        # Создаем объект BeautifulSoup для парсинга HTML\n",
    "        soup = BeautifulSoup(html_content, 'html.parser')\n",
    "        article_text_elements = soup.find_all('div', class_='article__text')\n",
    "        # Объявляем переменную для хранения полного текста\n",
    "        full_text = \"\"\n",
    "\n",
    "        # Обходим все найденные элементы и собираем текст вместе\n",
    "        for element in article_text_elements:\n",
    "            text = element.get_text(strip=True)\n",
    "            full_text += text + \"\\n\"\n",
    "            \n",
    "        if full_text != '':\n",
    "            df.loc[len(df)] = [full_text]\n",
    "    cur_iter += len(link_elements)\n",
    "    button = driver.find_element(By.CSS_SELECTOR, \"div.list-more.color-btn-second-hover\")\n",
    "    iterations(driver, link_elements, cur_iter, df)"
   ]
  }
 ],
 "metadata": {
  "kernelspec": {
   "display_name": "Python 3",
   "language": "python",
   "name": "python3"
  },
  "language_info": {
   "codemirror_mode": {
    "name": "ipython",
    "version": 3
   },
   "file_extension": ".py",
   "mimetype": "text/x-python",
   "name": "python",
   "nbconvert_exporter": "python",
   "pygments_lexer": "ipython3",
   "version": "3.7.9"
  }
 },
 "nbformat": 4,
 "nbformat_minor": 2
}
