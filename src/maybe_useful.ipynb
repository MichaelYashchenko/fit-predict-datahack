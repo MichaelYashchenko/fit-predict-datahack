{
  "nbformat": 4,
  "nbformat_minor": 0,
  "metadata": {
    "colab": {
      "provenance": [],
      "gpuType": "T4"
    },
    "kernelspec": {
      "name": "python3",
      "display_name": "Python 3"
    },
    "language_info": {
      "name": "python"
    },
    "accelerator": "GPU"
  },
  "cells": [
    {
      "cell_type": "code",
      "execution_count": 1,
      "metadata": {
        "colab": {
          "base_uri": "https://localhost:8080/"
        },
        "id": "Emcut_zGJWIn",
        "outputId": "6c30145e-8414-460d-88d2-36892981e355"
      },
      "outputs": [
        {
          "output_type": "stream",
          "name": "stdout",
          "text": [
            "Collecting langchain\n",
            "  Downloading langchain-0.1.16-py3-none-any.whl (817 kB)\n",
            "\u001b[2K     \u001b[90m━━━━━━━━━━━━━━━━━━━━━━━━━━━━━━━━━━━━━━━━\u001b[0m \u001b[32m817.7/817.7 kB\u001b[0m \u001b[31m9.7 MB/s\u001b[0m eta \u001b[36m0:00:00\u001b[0m\n",
            "\u001b[?25hCollecting openai\n",
            "  Downloading openai-1.23.2-py3-none-any.whl (311 kB)\n",
            "\u001b[2K     \u001b[90m━━━━━━━━━━━━━━━━━━━━━━━━━━━━━━━━━━━━━━━━\u001b[0m \u001b[32m311.2/311.2 kB\u001b[0m \u001b[31m27.4 MB/s\u001b[0m eta \u001b[36m0:00:00\u001b[0m\n",
            "\u001b[?25hCollecting langchain_community\n",
            "  Downloading langchain_community-0.0.34-py3-none-any.whl (1.9 MB)\n",
            "\u001b[2K     \u001b[90m━━━━━━━━━━━━━━━━━━━━━━━━━━━━━━━━━━━━━━━━\u001b[0m \u001b[32m1.9/1.9 MB\u001b[0m \u001b[31m58.5 MB/s\u001b[0m eta \u001b[36m0:00:00\u001b[0m\n",
            "\u001b[?25hCollecting langchain_openai\n",
            "  Downloading langchain_openai-0.1.3-py3-none-any.whl (33 kB)\n",
            "Requirement already satisfied: huggingface_hub in /usr/local/lib/python3.10/dist-packages (0.20.3)\n",
            "Requirement already satisfied: PyYAML>=5.3 in /usr/local/lib/python3.10/dist-packages (from langchain) (6.0.1)\n",
            "Requirement already satisfied: SQLAlchemy<3,>=1.4 in /usr/local/lib/python3.10/dist-packages (from langchain) (2.0.29)\n",
            "Requirement already satisfied: aiohttp<4.0.0,>=3.8.3 in /usr/local/lib/python3.10/dist-packages (from langchain) (3.9.5)\n",
            "Requirement already satisfied: async-timeout<5.0.0,>=4.0.0 in /usr/local/lib/python3.10/dist-packages (from langchain) (4.0.3)\n",
            "Collecting dataclasses-json<0.7,>=0.5.7 (from langchain)\n",
            "  Downloading dataclasses_json-0.6.4-py3-none-any.whl (28 kB)\n",
            "Collecting jsonpatch<2.0,>=1.33 (from langchain)\n",
            "  Downloading jsonpatch-1.33-py2.py3-none-any.whl (12 kB)\n",
            "Collecting langchain-core<0.2.0,>=0.1.42 (from langchain)\n",
            "  Downloading langchain_core-0.1.45-py3-none-any.whl (291 kB)\n",
            "\u001b[2K     \u001b[90m━━━━━━━━━━━━━━━━━━━━━━━━━━━━━━━━━━━━━━━━\u001b[0m \u001b[32m291.3/291.3 kB\u001b[0m \u001b[31m28.6 MB/s\u001b[0m eta \u001b[36m0:00:00\u001b[0m\n",
            "\u001b[?25hCollecting langchain-text-splitters<0.1,>=0.0.1 (from langchain)\n",
            "  Downloading langchain_text_splitters-0.0.1-py3-none-any.whl (21 kB)\n",
            "Collecting langsmith<0.2.0,>=0.1.17 (from langchain)\n",
            "  Downloading langsmith-0.1.49-py3-none-any.whl (115 kB)\n",
            "\u001b[2K     \u001b[90m━━━━━━━━━━━━━━━━━━━━━━━━━━━━━━━━━━━━━━━━\u001b[0m \u001b[32m115.2/115.2 kB\u001b[0m \u001b[31m10.0 MB/s\u001b[0m eta \u001b[36m0:00:00\u001b[0m\n",
            "\u001b[?25hRequirement already satisfied: numpy<2,>=1 in /usr/local/lib/python3.10/dist-packages (from langchain) (1.25.2)\n",
            "Requirement already satisfied: pydantic<3,>=1 in /usr/local/lib/python3.10/dist-packages (from langchain) (2.7.0)\n",
            "Requirement already satisfied: requests<3,>=2 in /usr/local/lib/python3.10/dist-packages (from langchain) (2.31.0)\n",
            "Requirement already satisfied: tenacity<9.0.0,>=8.1.0 in /usr/local/lib/python3.10/dist-packages (from langchain) (8.2.3)\n",
            "Requirement already satisfied: anyio<5,>=3.5.0 in /usr/local/lib/python3.10/dist-packages (from openai) (3.7.1)\n",
            "Requirement already satisfied: distro<2,>=1.7.0 in /usr/lib/python3/dist-packages (from openai) (1.7.0)\n",
            "Collecting httpx<1,>=0.23.0 (from openai)\n",
            "  Downloading httpx-0.27.0-py3-none-any.whl (75 kB)\n",
            "\u001b[2K     \u001b[90m━━━━━━━━━━━━━━━━━━━━━━━━━━━━━━━━━━━━━━━━\u001b[0m \u001b[32m75.6/75.6 kB\u001b[0m \u001b[31m7.1 MB/s\u001b[0m eta \u001b[36m0:00:00\u001b[0m\n",
            "\u001b[?25hRequirement already satisfied: sniffio in /usr/local/lib/python3.10/dist-packages (from openai) (1.3.1)\n",
            "Requirement already satisfied: tqdm>4 in /usr/local/lib/python3.10/dist-packages (from openai) (4.66.2)\n",
            "Requirement already satisfied: typing-extensions<5,>=4.7 in /usr/local/lib/python3.10/dist-packages (from openai) (4.11.0)\n",
            "Collecting tiktoken<1,>=0.5.2 (from langchain_openai)\n",
            "  Downloading tiktoken-0.6.0-cp310-cp310-manylinux_2_17_x86_64.manylinux2014_x86_64.whl (1.8 MB)\n",
            "\u001b[2K     \u001b[90m━━━━━━━━━━━━━━━━━━━━━━━━━━━━━━━━━━━━━━━━\u001b[0m \u001b[32m1.8/1.8 MB\u001b[0m \u001b[31m66.2 MB/s\u001b[0m eta \u001b[36m0:00:00\u001b[0m\n",
            "\u001b[?25hRequirement already satisfied: filelock in /usr/local/lib/python3.10/dist-packages (from huggingface_hub) (3.13.4)\n",
            "Requirement already satisfied: fsspec>=2023.5.0 in /usr/local/lib/python3.10/dist-packages (from huggingface_hub) (2023.6.0)\n",
            "Requirement already satisfied: packaging>=20.9 in /usr/local/lib/python3.10/dist-packages (from huggingface_hub) (24.0)\n",
            "Requirement already satisfied: aiosignal>=1.1.2 in /usr/local/lib/python3.10/dist-packages (from aiohttp<4.0.0,>=3.8.3->langchain) (1.3.1)\n",
            "Requirement already satisfied: attrs>=17.3.0 in /usr/local/lib/python3.10/dist-packages (from aiohttp<4.0.0,>=3.8.3->langchain) (23.2.0)\n",
            "Requirement already satisfied: frozenlist>=1.1.1 in /usr/local/lib/python3.10/dist-packages (from aiohttp<4.0.0,>=3.8.3->langchain) (1.4.1)\n",
            "Requirement already satisfied: multidict<7.0,>=4.5 in /usr/local/lib/python3.10/dist-packages (from aiohttp<4.0.0,>=3.8.3->langchain) (6.0.5)\n",
            "Requirement already satisfied: yarl<2.0,>=1.0 in /usr/local/lib/python3.10/dist-packages (from aiohttp<4.0.0,>=3.8.3->langchain) (1.9.4)\n",
            "Requirement already satisfied: idna>=2.8 in /usr/local/lib/python3.10/dist-packages (from anyio<5,>=3.5.0->openai) (3.7)\n",
            "Requirement already satisfied: exceptiongroup in /usr/local/lib/python3.10/dist-packages (from anyio<5,>=3.5.0->openai) (1.2.0)\n",
            "Collecting marshmallow<4.0.0,>=3.18.0 (from dataclasses-json<0.7,>=0.5.7->langchain)\n",
            "  Downloading marshmallow-3.21.1-py3-none-any.whl (49 kB)\n",
            "\u001b[2K     \u001b[90m━━━━━━━━━━━━━━━━━━━━━━━━━━━━━━━━━━━━━━━━\u001b[0m \u001b[32m49.4/49.4 kB\u001b[0m \u001b[31m4.5 MB/s\u001b[0m eta \u001b[36m0:00:00\u001b[0m\n",
            "\u001b[?25hCollecting typing-inspect<1,>=0.4.0 (from dataclasses-json<0.7,>=0.5.7->langchain)\n",
            "  Downloading typing_inspect-0.9.0-py3-none-any.whl (8.8 kB)\n",
            "Requirement already satisfied: certifi in /usr/local/lib/python3.10/dist-packages (from httpx<1,>=0.23.0->openai) (2024.2.2)\n",
            "Collecting httpcore==1.* (from httpx<1,>=0.23.0->openai)\n",
            "  Downloading httpcore-1.0.5-py3-none-any.whl (77 kB)\n",
            "\u001b[2K     \u001b[90m━━━━━━━━━━━━━━━━━━━━━━━━━━━━━━━━━━━━━━━━\u001b[0m \u001b[32m77.9/77.9 kB\u001b[0m \u001b[31m8.8 MB/s\u001b[0m eta \u001b[36m0:00:00\u001b[0m\n",
            "\u001b[?25hCollecting h11<0.15,>=0.13 (from httpcore==1.*->httpx<1,>=0.23.0->openai)\n",
            "  Downloading h11-0.14.0-py3-none-any.whl (58 kB)\n",
            "\u001b[2K     \u001b[90m━━━━━━━━━━━━━━━━━━━━━━━━━━━━━━━━━━━━━━━━\u001b[0m \u001b[32m58.3/58.3 kB\u001b[0m \u001b[31m6.8 MB/s\u001b[0m eta \u001b[36m0:00:00\u001b[0m\n",
            "\u001b[?25hCollecting jsonpointer>=1.9 (from jsonpatch<2.0,>=1.33->langchain)\n",
            "  Downloading jsonpointer-2.4-py2.py3-none-any.whl (7.8 kB)\n",
            "Collecting packaging>=20.9 (from huggingface_hub)\n",
            "  Downloading packaging-23.2-py3-none-any.whl (53 kB)\n",
            "\u001b[2K     \u001b[90m━━━━━━━━━━━━━━━━━━━━━━━━━━━━━━━━━━━━━━━━\u001b[0m \u001b[32m53.0/53.0 kB\u001b[0m \u001b[31m6.0 MB/s\u001b[0m eta \u001b[36m0:00:00\u001b[0m\n",
            "\u001b[?25hCollecting orjson<4.0.0,>=3.9.14 (from langsmith<0.2.0,>=0.1.17->langchain)\n",
            "  Downloading orjson-3.10.1-cp310-cp310-manylinux_2_17_x86_64.manylinux2014_x86_64.whl (141 kB)\n",
            "\u001b[2K     \u001b[90m━━━━━━━━━━━━━━━━━━━━━━━━━━━━━━━━━━━━━━━━\u001b[0m \u001b[32m141.1/141.1 kB\u001b[0m \u001b[31m7.2 MB/s\u001b[0m eta \u001b[36m0:00:00\u001b[0m\n",
            "\u001b[?25hRequirement already satisfied: annotated-types>=0.4.0 in /usr/local/lib/python3.10/dist-packages (from pydantic<3,>=1->langchain) (0.6.0)\n",
            "Requirement already satisfied: pydantic-core==2.18.1 in /usr/local/lib/python3.10/dist-packages (from pydantic<3,>=1->langchain) (2.18.1)\n",
            "Requirement already satisfied: charset-normalizer<4,>=2 in /usr/local/lib/python3.10/dist-packages (from requests<3,>=2->langchain) (3.3.2)\n",
            "Requirement already satisfied: urllib3<3,>=1.21.1 in /usr/local/lib/python3.10/dist-packages (from requests<3,>=2->langchain) (2.0.7)\n",
            "Requirement already satisfied: greenlet!=0.4.17 in /usr/local/lib/python3.10/dist-packages (from SQLAlchemy<3,>=1.4->langchain) (3.0.3)\n",
            "Requirement already satisfied: regex>=2022.1.18 in /usr/local/lib/python3.10/dist-packages (from tiktoken<1,>=0.5.2->langchain_openai) (2023.12.25)\n",
            "Collecting mypy-extensions>=0.3.0 (from typing-inspect<1,>=0.4.0->dataclasses-json<0.7,>=0.5.7->langchain)\n",
            "  Downloading mypy_extensions-1.0.0-py3-none-any.whl (4.7 kB)\n",
            "Installing collected packages: packaging, orjson, mypy-extensions, jsonpointer, h11, typing-inspect, tiktoken, marshmallow, jsonpatch, httpcore, langsmith, httpx, dataclasses-json, openai, langchain-core, langchain-text-splitters, langchain_openai, langchain_community, langchain\n",
            "  Attempting uninstall: packaging\n",
            "    Found existing installation: packaging 24.0\n",
            "    Uninstalling packaging-24.0:\n",
            "      Successfully uninstalled packaging-24.0\n",
            "Successfully installed dataclasses-json-0.6.4 h11-0.14.0 httpcore-1.0.5 httpx-0.27.0 jsonpatch-1.33 jsonpointer-2.4 langchain-0.1.16 langchain-core-0.1.45 langchain-text-splitters-0.0.1 langchain_community-0.0.34 langchain_openai-0.1.3 langsmith-0.1.49 marshmallow-3.21.1 mypy-extensions-1.0.0 openai-1.23.2 orjson-3.10.1 packaging-23.2 tiktoken-0.6.0 typing-inspect-0.9.0\n"
          ]
        }
      ],
      "source": [
        "%pip install langchain openai langchain_community langchain_openai huggingface_hub"
      ]
    },
    {
      "cell_type": "code",
      "source": [
        "import pandas as pd\n",
        "\n",
        "from langchain_core.messages import HumanMessage, SystemMessage\n",
        "from langchain_openai import ChatOpenAI, AzureChatOpenAI\n",
        "from langchain_core.output_parsers import JsonOutputParser\n",
        "from tqdm.auto import tqdm\n",
        "from langchain_core.prompts import ChatPromptTemplate\n",
        "\n",
        "base_url = \"http://saiga.vkcloud.eazify.net:8000/v1\""
      ],
      "metadata": {
        "id": "4LnMU1PLJaVx"
      },
      "execution_count": 2,
      "outputs": []
    },
    {
      "cell_type": "code",
      "source": [
        "chat = ChatOpenAI(api_key=\"<key>\",\n",
        "                  model = \"tgi\",\n",
        "                  openai_api_base = base_url,\n",
        "                  max_tokens=700)"
      ],
      "metadata": {
        "id": "1c5lElOQJg9B"
      },
      "execution_count": 3,
      "outputs": []
    },
    {
      "cell_type": "code",
      "source": [
        "bert_tags = ['Украина', 'политика', 'Верховная рада', 'законы']\n",
        "bert_tags_str = ', '.join(bert_tags)\n",
        "bert_tags_str"
      ],
      "metadata": {
        "colab": {
          "base_uri": "https://localhost:8080/",
          "height": 35
        },
        "id": "NDqsj8hoPhO6",
        "outputId": "d1584a0b-ed8c-4cf9-e16c-3df6ca9ba382"
      },
      "execution_count": 8,
      "outputs": [
        {
          "output_type": "execute_result",
          "data": {
            "text/plain": [
              "'Украина, политика, Верховная рада, законы'"
            ],
            "application/vnd.google.colaboratory.intrinsic+json": {
              "type": "string"
            }
          },
          "metadata": {},
          "execution_count": 8
        }
      ]
    },
    {
      "cell_type": "code",
      "source": [
        "items"
      ],
      "metadata": {
        "colab": {
          "base_uri": "https://localhost:8080/"
        },
        "id": "-mbkdXZYiIGR",
        "outputId": "41428faa-31a2-4bfb-917c-f15d2053d905"
      },
      "execution_count": 86,
      "outputs": [
        {
          "output_type": "execute_result",
          "data": {
            "text/plain": [
              "{'LOC': ['Президент', 'Швейцарииии', 'Швейцарии', 'США'],\n",
              " 'PER': ['Виола Амхерд', 'Владимиру Путину'],\n",
              " 'ORG': ['Blick',\n",
              "  'Минобороны Швейцаром в',\n",
              "  '«Крокус Сити Холле',\n",
              "  'рабочей группе по поиску и конфискации замороженных российских активов']}"
            ]
          },
          "metadata": {},
          "execution_count": 86
        }
      ]
    },
    {
      "cell_type": "code",
      "source": [
        "for i in items:\n",
        "  print(i)"
      ],
      "metadata": {
        "colab": {
          "base_uri": "https://localhost:8080/"
        },
        "id": "6ar_EcMkiPgW",
        "outputId": "615696a2-7473-4345-f908-012558355b03"
      },
      "execution_count": 87,
      "outputs": [
        {
          "output_type": "stream",
          "name": "stdout",
          "text": [
            "LOC\n",
            "PER\n",
            "ORG\n"
          ]
        }
      ]
    },
    {
      "cell_type": "code",
      "source": [
        "ner_data = {\n",
        "    'LOC': ['Президент', 'Швейцарииии', 'Швейцарии', 'США'],\n",
        "    'PER': ['Виола Амхерд', 'Владимиру Путину'],\n",
        "    'ORG': ['Blick', 'Минобороны Швейцаром в', '«Крокус Сити Холле', 'рабочей группе по поиску и конфискации замороженных российских активов']\n",
        "}\n",
        "\n",
        "ner_str = \"\"\n",
        "for key, lst in ner_data:\n",
        "  for elem in lst:\n",
        "    ner_str += f\"{elem} (сущность {key}), \"\n",
        "ner_str = ner_str[:-2]\n",
        "\n",
        "ner_str"
      ],
      "metadata": {
        "colab": {
          "base_uri": "https://localhost:8080/",
          "height": 211
        },
        "id": "l37aJAuGhxX3",
        "outputId": "49ddba93-d685-4ef2-cdc2-b989d358edb4"
      },
      "execution_count": 88,
      "outputs": [
        {
          "output_type": "error",
          "ename": "ValueError",
          "evalue": "too many values to unpack (expected 2)",
          "traceback": [
            "\u001b[0;31m---------------------------------------------------------------------------\u001b[0m",
            "\u001b[0;31mValueError\u001b[0m                                Traceback (most recent call last)",
            "\u001b[0;32m<ipython-input-88-bebb4ce70962>\u001b[0m in \u001b[0;36m<cell line: 8>\u001b[0;34m()\u001b[0m\n\u001b[1;32m      6\u001b[0m \u001b[0;34m\u001b[0m\u001b[0m\n\u001b[1;32m      7\u001b[0m \u001b[0mner_str\u001b[0m \u001b[0;34m=\u001b[0m \u001b[0;34m\"\"\u001b[0m\u001b[0;34m\u001b[0m\u001b[0;34m\u001b[0m\u001b[0m\n\u001b[0;32m----> 8\u001b[0;31m \u001b[0;32mfor\u001b[0m \u001b[0mkey\u001b[0m\u001b[0;34m,\u001b[0m \u001b[0mlst\u001b[0m \u001b[0;32min\u001b[0m \u001b[0mner_data\u001b[0m\u001b[0;34m:\u001b[0m\u001b[0;34m\u001b[0m\u001b[0;34m\u001b[0m\u001b[0m\n\u001b[0m\u001b[1;32m      9\u001b[0m   \u001b[0;32mfor\u001b[0m \u001b[0melem\u001b[0m \u001b[0;32min\u001b[0m \u001b[0mlst\u001b[0m\u001b[0;34m:\u001b[0m\u001b[0;34m\u001b[0m\u001b[0;34m\u001b[0m\u001b[0m\n\u001b[1;32m     10\u001b[0m     \u001b[0mner_str\u001b[0m \u001b[0;34m+=\u001b[0m \u001b[0;34mf\"{elem} (сущность {key}), \"\u001b[0m\u001b[0;34m\u001b[0m\u001b[0;34m\u001b[0m\u001b[0m\n",
            "\u001b[0;31mValueError\u001b[0m: too many values to unpack (expected 2)"
          ]
        }
      ]
    },
    {
      "cell_type": "code",
      "source": [
        "ner_kws = \"\"\n",
        "\n",
        "bert_tags = ['Украина', 'политика', 'Верховная рада', 'законы']\n",
        "bert_tags_str = ', '.join(bert_tags)\n",
        "\n",
        "xgboost_tags = ['политика', 'законы', 'экономика']\n",
        "xgboost_tags_str = ', '.join(xgboost_tags)\n",
        "\n",
        "ner_str = \"\"\n",
        "for key, lst in items:\n",
        "  for elem in lst:\n",
        "    ner_str += f\"{elem} (сущность {key}), \"\n",
        "ner_str = ner_str[:-2]\n",
        "\n",
        "ner_results = [] # dict\n",
        "ner_results_lst = ner_results.items() # -> [(key1, kwor1)]\n",
        "\n",
        "\n",
        "\n",
        "bertopic = ['']\n",
        "#bertopic_str = ', '.join(bertopic)\n",
        "\n",
        "instruct = \"\"\"\n",
        "У меня есть тема, которая содержит следующие документы:\n",
        "{text}\n",
        "Тема описывается следующими ключевыми словами: {keywords}\n",
        "\n",
        "На основе приведенной выше информации извлеките короткое, но очень описательное название темы, состоящее не более чем из 5 слов.\n",
        "Убедитесь, что оно имеет следующий формат:\n",
        "тема: <topic label>\n",
        "\"\"\"\n",
        "\n",
        "chat_template = ChatPromptTemplate.from_messages(\n",
        "    [\n",
        "        (\"system\", \"\"\"Ты редактор новостного агенства, и твоя задача извлекать тэги из новостей.\"\"\"),\n",
        "        (\"human\", instruct),\n",
        "    ]\n",
        ")\n",
        "\n",
        "topic = \"1. Создание преступного сообщества (преступной организации) в целях совершения одного или нескольких тяжких или особо тяжких преступлений либо руководство преступным сообществом (преступной организацией) или входящими в него (нее) структурными подразделениями,  а равно координация действий организованных групп, создание устойчивых связей между ними, разработка планов и создание условий для совершения преступлений  организованными группами, раздел сфер преступного влияния и (или) преступных доходов между такими группами - наказываются лишением свободы на срок от двенадцати до двадцати лет со штрафом в размере до пяти миллионов рублей или в размере заработной платы или иного дохода осужденного за период до пяти лет либо без такового и с ограничением свободы на срок от одного года до двух лет. (часть 1 в ред. Федерального закона от 01.04.2019 N 46-ФЗ) (см. текст в предыдущей редакции)\"\n",
        "\n",
        "news = \"На Украине захотели принять законопроект, который вводит военную подготовку в школах. Об этом пишет ТАСС со ссылкой на украинское издание «Судебно-юридическая газета». Комитет по вопросам молодежи и спорта Верховной рады рекомендовал украинскому парламенту принять за основу соответствующий законопроект.\"\n",
        "kws = \"политика, Россия, Украина\"\n",
        "\n",
        "res = chat.invoke(chat_template.format_messages(text=news, keywords=kws))\n",
        "print(res.content)"
      ],
      "metadata": {
        "colab": {
          "base_uri": "https://localhost:8080/"
        },
        "id": "3eLpAYs9N5DR",
        "outputId": "a16da218-6f4e-4340-f78f-0184c844c28f"
      },
      "execution_count": 6,
      "outputs": [
        {
          "output_type": "stream",
          "name": "stdout",
          "text": [
            "тема: Политика на Украине\n"
          ]
        }
      ]
    },
    {
      "cell_type": "code",
      "source": [],
      "metadata": {
        "id": "fho60CBfUFux"
      },
      "execution_count": null,
      "outputs": []
    },
    {
      "cell_type": "code",
      "source": [
        "d = {\n",
        "    'LOC': ['Президент', 'Швейцарииии', 'Швейцарии', 'США'],\n",
        "    'PER': ['Виола Амхерд', 'Владимиру Путину'],\n",
        "    'ORG': ['Blick', 'Минобороны Швейцаром в', '«Крокус Сити Холле', 'рабочей группе по поиску и конфискации замороженных российских активов']\n",
        "}\n",
        "\n"
      ],
      "metadata": {
        "id": "7uy1aq_xOAcK"
      },
      "execution_count": 35,
      "outputs": []
    },
    {
      "cell_type": "code",
      "source": [
        "\"президент (сущность LOC)\"\n",
        "\n",
        "items = d.items()\n",
        "items"
      ],
      "metadata": {
        "colab": {
          "base_uri": "https://localhost:8080/"
        },
        "id": "4gubI8cMSEyF",
        "outputId": "7971428d-06d8-4a30-9992-79858889dc36"
      },
      "execution_count": 15,
      "outputs": [
        {
          "output_type": "execute_result",
          "data": {
            "text/plain": [
              "dict_items([('LOC', ['Президент', 'Швейцарииии', 'Швейцарии', 'США']), ('PER', ['Виола Амхерд', 'Владимиру Путину']), ('ORG', ['Blick', 'Минобороны Швейцаром в', '«Крокус Сити Холле', 'рабочей группе по поиску и конфискации замороженных российских активов'])])"
            ]
          },
          "metadata": {},
          "execution_count": 15
        }
      ]
    },
    {
      "cell_type": "code",
      "source": [
        "#-------------------------------------------------------------------------\n",
        "\n",
        "ans = \"\"\n",
        "for key, lst in items:\n",
        "  for elem in lst:\n",
        "    ans += f\"{elem} (сущность {key}), \"\n",
        "ans = ans[:-2]\n",
        "ans"
      ],
      "metadata": {
        "colab": {
          "base_uri": "https://localhost:8080/",
          "height": 70
        },
        "id": "65ffMvafSx7c",
        "outputId": "b98ce26a-cc48-444b-cee1-7348544ad900"
      },
      "execution_count": 40,
      "outputs": [
        {
          "output_type": "execute_result",
          "data": {
            "text/plain": [
              "'Президент (сущность LOC), Швейцарииии (сущность LOC), Швейцарии (сущность LOC), США (сущность LOC), Виола Амхерд (сущность PER), Владимиру Путину (сущность PER), Blick (сущность ORG), Минобороны Швейцаром в (сущность ORG), «Крокус Сити Холле (сущность ORG), рабочей группе по поиску и конфискации замороженных российских активов (сущность ORG)'"
            ],
            "application/vnd.google.colaboratory.intrinsic+json": {
              "type": "string"
            }
          },
          "metadata": {},
          "execution_count": 40
        }
      ]
    },
    {
      "cell_type": "code",
      "source": [
        "v_dict, k_dict = d.values(), d.keys()\n",
        "v_dict\n",
        "k_dict"
      ],
      "metadata": {
        "colab": {
          "base_uri": "https://localhost:8080/"
        },
        "id": "OPKCOF3rUHRz",
        "outputId": "944a4920-1924-4d1d-8fa2-53e46d847ebf"
      },
      "execution_count": 37,
      "outputs": [
        {
          "output_type": "execute_result",
          "data": {
            "text/plain": [
              "dict_keys(['LOC', 'PER', 'ORG'])"
            ]
          },
          "metadata": {},
          "execution_count": 37
        }
      ]
    },
    {
      "cell_type": "code",
      "source": [
        "ans = \"\"\n",
        "for elem in range(len(values)):\n",
        "  joiner = f\"(сущность {key}), \"\n",
        "  ans += joiner.join(list(map(str, values)))\n",
        "ans"
      ],
      "metadata": {
        "colab": {
          "base_uri": "https://localhost:8080/",
          "height": 104
        },
        "id": "ZyiF_LRrUfE2",
        "outputId": "0c6f37ea-e046-4629-d708-55b452ee0671"
      },
      "execution_count": 24,
      "outputs": [
        {
          "output_type": "execute_result",
          "data": {
            "text/plain": [
              "\"['Президент', 'Швейцарииии', 'Швейцарии', 'США'](сущность ORG), ['Виола Амхерд', 'Владимиру Путину'](сущность ORG), ['Blick', 'Минобороны Швейцаром в', '«Крокус Сити Холле', 'рабочей группе по поиску и конфискации замороженных российских активов']['Президент', 'Швейцарииии', 'Швейцарии', 'США'](сущность ORG), ['Виола Амхерд', 'Владимиру Путину'](сущность ORG), ['Blick', 'Минобороны Швейцаром в', '«Крокус Сити Холле', 'рабочей группе по поиску и конфискации замороженных российских активов']['Президент', 'Швейцарииии', 'Швейцарии', 'США'](сущность ORG), ['Виола Амхерд', 'Владимиру Путину'](сущность ORG), ['Blick', 'Минобороны Швейцаром в', '«Крокус Сити Холле', 'рабочей группе по поиску и конфискации замороженных российских активов']\""
            ],
            "application/vnd.google.colaboratory.intrinsic+json": {
              "type": "string"
            }
          },
          "metadata": {},
          "execution_count": 24
        }
      ]
    },
    {
      "cell_type": "code",
      "source": [
        "print(v_dict, k_dict)\n",
        "ans = \"\"\n",
        "for elem in range(len(v_dict)):\n",
        "  joiner = f\"(сущность {k_dict[elem]}), \"\n",
        "  ans += joiner.join(map(str, v_dict[elem]))\n",
        "ans"
      ],
      "metadata": {
        "colab": {
          "base_uri": "https://localhost:8080/",
          "height": 248
        },
        "id": "OBhtlaVDUmO2",
        "outputId": "26ceeb8e-9d8f-4dc8-fefc-a25c2496d8c7"
      },
      "execution_count": 39,
      "outputs": [
        {
          "output_type": "stream",
          "name": "stdout",
          "text": [
            "dict_values([['Президент', 'Швейцарииии', 'Швейцарии', 'США'], ['Виола Амхерд', 'Владимиру Путину'], ['Blick', 'Минобороны Швейцаром в', '«Крокус Сити Холле', 'рабочей группе по поиску и конфискации замороженных российских активов']]) dict_keys(['LOC', 'PER', 'ORG'])\n"
          ]
        },
        {
          "output_type": "error",
          "ename": "TypeError",
          "evalue": "'dict_keys' object is not subscriptable",
          "traceback": [
            "\u001b[0;31m---------------------------------------------------------------------------\u001b[0m",
            "\u001b[0;31mTypeError\u001b[0m                                 Traceback (most recent call last)",
            "\u001b[0;32m<ipython-input-39-37c0081915f8>\u001b[0m in \u001b[0;36m<cell line: 3>\u001b[0;34m()\u001b[0m\n\u001b[1;32m      2\u001b[0m \u001b[0mans\u001b[0m \u001b[0;34m=\u001b[0m \u001b[0;34m\"\"\u001b[0m\u001b[0;34m\u001b[0m\u001b[0;34m\u001b[0m\u001b[0m\n\u001b[1;32m      3\u001b[0m \u001b[0;32mfor\u001b[0m \u001b[0melem\u001b[0m \u001b[0;32min\u001b[0m \u001b[0mrange\u001b[0m\u001b[0;34m(\u001b[0m\u001b[0mlen\u001b[0m\u001b[0;34m(\u001b[0m\u001b[0mv_dict\u001b[0m\u001b[0;34m)\u001b[0m\u001b[0;34m)\u001b[0m\u001b[0;34m:\u001b[0m\u001b[0;34m\u001b[0m\u001b[0;34m\u001b[0m\u001b[0m\n\u001b[0;32m----> 4\u001b[0;31m   \u001b[0mjoiner\u001b[0m \u001b[0;34m=\u001b[0m \u001b[0;34mf\"(сущность {k_dict[elem]}), \"\u001b[0m\u001b[0;34m\u001b[0m\u001b[0;34m\u001b[0m\u001b[0m\n\u001b[0m\u001b[1;32m      5\u001b[0m   \u001b[0mans\u001b[0m \u001b[0;34m+=\u001b[0m \u001b[0mjoiner\u001b[0m\u001b[0;34m.\u001b[0m\u001b[0mjoin\u001b[0m\u001b[0;34m(\u001b[0m\u001b[0mmap\u001b[0m\u001b[0;34m(\u001b[0m\u001b[0mstr\u001b[0m\u001b[0;34m,\u001b[0m \u001b[0mv_dict\u001b[0m\u001b[0;34m[\u001b[0m\u001b[0melem\u001b[0m\u001b[0;34m]\u001b[0m\u001b[0;34m)\u001b[0m\u001b[0;34m)\u001b[0m\u001b[0;34m\u001b[0m\u001b[0;34m\u001b[0m\u001b[0m\n\u001b[1;32m      6\u001b[0m \u001b[0mans\u001b[0m\u001b[0;34m\u001b[0m\u001b[0;34m\u001b[0m\u001b[0m\n",
            "\u001b[0;31mTypeError\u001b[0m: 'dict_keys' object is not subscriptable"
          ]
        }
      ]
    },
    {
      "cell_type": "code",
      "source": [
        "ans = \"\"\n",
        "for key, lst in items:\n",
        "  for elem in lst:\n",
        "    ans += f\"{elem} (сущность {key}), \"\n",
        "ans = ans[:-2]\n",
        "ans\n"
      ],
      "metadata": {
        "colab": {
          "base_uri": "https://localhost:8080/",
          "height": 70
        },
        "id": "-KffFiyBWpUk",
        "outputId": "f5974bd8-0405-4a98-dbfe-26a801ed85bd"
      },
      "execution_count": 83,
      "outputs": [
        {
          "output_type": "execute_result",
          "data": {
            "text/plain": [
              "'Президент (сущность LOC), Швейцарииии (сущность LOC), Швейцарии (сущность LOC), США (сущность LOC), Виола Амхерд (сущность PER), Владимиру Путину (сущность PER), Blick (сущность ORG), Минобороны Швейцаром в (сущность ORG), «Крокус Сити Холле (сущность ORG), рабочей группе по поиску и конфискации замороженных российских активов (сущность ORG)'"
            ],
            "application/vnd.google.colaboratory.intrinsic+json": {
              "type": "string"
            }
          },
          "metadata": {},
          "execution_count": 83
        }
      ]
    },
    {
      "cell_type": "code",
      "source": [
        "result = \", \".join(f\"{[i + ' (сущность ' + key.capitalize() + ')' for i in value]}\" for key, value in d.items())\n",
        "#type(result)\n",
        "\n",
        "# result = result.replace(\"[\", \"\")\n",
        "# result = result.replace(\"]\", \"\")\n",
        "\n",
        "print(result)"
      ],
      "metadata": {
        "colab": {
          "base_uri": "https://localhost:8080/"
        },
        "id": "PCxCxEFFcLQ3",
        "outputId": "64159766-9839-4f9b-d265-31a762843a9b"
      },
      "execution_count": 82,
      "outputs": [
        {
          "output_type": "stream",
          "name": "stdout",
          "text": [
            "['Президент (сущность Loc)', 'Швейцарииии (сущность Loc)', 'Швейцарии (сущность Loc)', 'США (сущность Loc)'], ['Виола Амхерд (сущность Per)', 'Владимиру Путину (сущность Per)'], ['Blick (сущность Org)', 'Минобороны Швейцаром в (сущность Org)', '«Крокус Сити Холле (сущность Org)', 'рабочей группе по поиску и конфискации замороженных российских активов (сущность Org)']\n"
          ]
        }
      ]
    },
    {
      "cell_type": "code",
      "source": [],
      "metadata": {
        "id": "2B1pfzF5hQ0f"
      },
      "execution_count": null,
      "outputs": []
    }
  ]
}